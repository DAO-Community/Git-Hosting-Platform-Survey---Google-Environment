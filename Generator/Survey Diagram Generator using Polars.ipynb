{
  "cells": [
    {
      "cell_type": "markdown",
      "metadata": {
        "id": "DZXzK3cFlkb_"
      },
      "source": [
        "# DAO Community Git Hosting Platform Survey Report Data Generator using Python-Polars in Google Environment\n",
        "---\n",
        "## Survey Diagram Generator using Polars"
      ]
    },
    {
      "cell_type": "markdown",
      "metadata": {
        "id": "Hg-NFKO-yrPS"
      },
      "source": [
        "\n",
        "![](https://img.shields.io/badge/Version%201.0.0-333333?style=for-the-badge)![](https://img.shields.io/badge/Made%20with-808080?style=for-the-badge)[![](https://img.shields.io/badge/Google%20Colaboratory-4d4d4d?style=for-the-badge&logo=googlecolab)](https://docs.jupyter.org/en/latest/)![](https://img.shields.io/badge/And-808080?style=for-the-badge)[![](https://img.shields.io/badge/Python%203.10.12-306998?style=for-the-badge&logo=Python&logoColor=FFD43B)](https://docs.python.org/3.10/)[![](https://img.shields.io/badge/Polars%200.17.3-FFD43B?style=for-the-badge&logo=Polars&logoColor=306998)](https://docs.python.org/3.11/)\n",
        "\n",
        "![](https://img.shields.io/badge/Repo-808080?style=for-the-badge)[![](https://img.shields.io/badge/GitHub-6E5494?style=for-the-badge&logo=GitHub)](https://github.com/joshua-lagasca/DAO-Community-Git-Hosting-Platform-Survey---Google-Environment)"
      ]
    },
    {
      "cell_type": "code",
      "execution_count": 1,
      "metadata": {
        "id": "EdpZA1a0Rwli"
      },
      "outputs": [],
      "source": [
        "from __future__ import annotations"
      ]
    },
    {
      "cell_type": "markdown",
      "source": [
        "# Mount Drive"
      ],
      "metadata": {
        "id": "Y0U1appACGWJ"
      }
    },
    {
      "cell_type": "code",
      "execution_count": 2,
      "metadata": {
        "colab": {
          "base_uri": "https://localhost:8080/"
        },
        "outputId": "81e87cf5-0a4b-4047-ffba-d1b0c01eadfb",
        "id": "jI-hFZQvCGWK"
      },
      "outputs": [
        {
          "output_type": "stream",
          "name": "stdout",
          "text": [
            "Mounted at /gdrive\n"
          ]
        }
      ],
      "source": [
        "from pathlib import Path\n",
        "\n",
        "from google.colab import drive\n",
        "\n",
        "mount_point: Path = Path(\"/gdrive\")\n",
        "\n",
        "drive.mount(mountpoint=str(mount_point.resolve()), force_remount=True)"
      ]
    },
    {
      "cell_type": "code",
      "execution_count": 3,
      "metadata": {
        "id": "kjbyQ8puCGWK"
      },
      "outputs": [],
      "source": [
        "base_path: Path = (\n",
        "    mount_point\n",
        "    / \"MyDrive\"\n",
        "    / \"Survey\"\n",
        "    / \"DAO Community Git Hosting Platform Survey - Google Environment\"\n",
        ")\n",
        "base_path.mkdir(parents=False, exist_ok=True)\n",
        "\n",
        "output_data_path: Path = base_path / \"Data\"\n",
        "output_data_path.mkdir(parents=False, exist_ok=True)"
      ]
    },
    {
      "cell_type": "code",
      "source": [
        "## NOTE: import-ipynb cannot work with notebooks in Google Drive, thus the workaround below.\n",
        "type_objects_module = base_path / \"Generator\" / \"Type Objects Polars.ipynb\"\n",
        "\n",
        "if type_objects_module.exists():\n",
        "    type_objects_module: str = f\"{type_objects_module}\"\n",
        "    %run -n \"$type_objects_module\"\n",
        "    \"\"\"Creates the ff:\n",
        "        Eyears_of_experience,\n",
        "        Egit_hosting_platform,\n",
        "        Ecareer_level,\n",
        "        Edao_pillar,\n",
        "        Epast_next,\n",
        "        Epast_next_all,\n",
        "        TDcolumns,\n",
        "        df_columns_dtypes_dict\n",
        "    \"\"\"\n",
        "else:\n",
        "    print(f\"Module '{type_objects_module}' does not exist.\")"
      ],
      "metadata": {
        "id": "zYm-ZtqNwl2v"
      },
      "execution_count": 4,
      "outputs": []
    },
    {
      "cell_type": "code",
      "source": [
        "%%capture --no-stderr\n",
        "!pip show icecream 1>/dev/null; \\\n",
        "[ $? != 0 ] && { pip install icecream; };\n",
        "from icecream import ic"
      ],
      "metadata": {
        "id": "4HplkgzaSxO2"
      },
      "execution_count": 5,
      "outputs": []
    },
    {
      "cell_type": "code",
      "source": [
        "import polars as pl\n",
        "\n",
        "df: pl.dataframe.frame.DataFrame = pl.read_parquet(\n",
        "    source=output_data_path / \"base_data.parquet\", use_pyarrow=True\n",
        ")\n",
        "ic(df.head())\n",
        "ic(df.shape)"
      ],
      "metadata": {
        "id": "UZeHCCiToh3x",
        "colab": {
          "base_uri": "https://localhost:8080/"
        },
        "outputId": "3fcba363-7512-4191-8027-baec65871e54"
      },
      "execution_count": 6,
      "outputs": [
        {
          "output_type": "stream",
          "name": "stderr",
          "text": [
            "ic| df.head(): shape: (5, 8)\n",
            "               ┌────────────┬────────────┬────────────┬────────────┬────────────┬────────────┬──────────┬──────────┐\n",
            "               │ used_git_h ┆ current_gi ┆ years_of_e ┆ past_next_ ┆ past_next_ ┆ career_lev ┆ dao_pill ┆ alias    │\n",
            "               │ osting_pla ┆ t_hosting_ ┆ xperience  ┆ github     ┆ gitlab     ┆ el         ┆ ar       ┆ ---      │\n",
            "               │ tform      ┆ platform   ┆ ---        ┆ ---        ┆ ---        ┆ ---        ┆ ---      ┆ str      │\n",
            "               │ ---        ┆ ---        ┆ str        ┆ str        ┆ str        ┆ str        ┆ str      ┆          │\n",
            "               │ str        ┆ str        ┆            ┆            ┆            ┆            ┆          ┆          │\n",
            "               ╞════════════╪════════════╪════════════╪════════════╪════════════╪════════════╪══════════╪══════════╡\n",
            "               │ GitHub,    ┆ GitHub,    ┆ 4 to 6     ┆ Worked     ┆ Worked     ┆ 2          ┆ Data     ┆ Jose     │\n",
            "               │ GitLab,    ┆ GitLab,    ┆ years      ┆ with in    ┆ with in    ┆            ┆ Admin    ┆          │\n",
            "               │ Codeberg   ┆ Codeberg   ┆            ┆ PAST       ┆ PAST       ┆            ┆          ┆          │\n",
            "               │            ┆            ┆            ┆ years,     ┆ years,     ┆            ┆          ┆          │\n",
            "               │            ┆            ┆            ┆ Want …     ┆ Want …     ┆            ┆          ┆          │\n",
            "               │ GitHub,    ┆ GitHub,    ┆ 2 to 4     ┆ Worked     ┆ Worked     ┆ 2          ┆ Data Eng ┆ Daniel   │\n",
            "               │ GitLab     ┆ GitLab     ┆ years      ┆ with in    ┆ with in    ┆            ┆ ineering ┆          │\n",
            "               │            ┆            ┆            ┆ PAST       ┆ PAST       ┆            ┆          ┆          │\n",
            "               │            ┆            ┆            ┆ years,     ┆ years,     ┆            ┆          ┆          │\n",
            "               │            ┆            ┆            ┆ Want …     ┆ Want …     ┆            ┆          ┆          │\n",
            "               │ null       ┆ null       ┆ null       ┆ Want to    ┆ Want to    ┆ 2          ┆ Data     ┆ Jennifer │\n",
            "               │            ┆            ┆            ┆ work with  ┆ work with  ┆            ┆ Science  ┆          │\n",
            "               │            ┆            ┆            ┆ in NEXT    ┆ in NEXT    ┆            ┆ & Analyt ┆          │\n",
            "               │            ┆            ┆            ┆ years      ┆ years      ┆            ┆ ics      ┆          │\n",
            "               │ GitLab     ┆ null       ┆ <2 years   ┆ Want to    ┆ Worked     ┆ 2          ┆ Data Eng ┆ Maria    │\n",
            "               │            ┆            ┆            ┆ work with  ┆ with in    ┆            ┆ ineering ┆          │\n",
            "               │            ┆            ┆            ┆ in NEXT    ┆ PAST       ┆            ┆          ┆          │\n",
            "               │            ┆            ┆            ┆ years      ┆ years,     ┆            ┆          ┆          │\n",
            "               │            ┆            ┆            ┆            ┆ Want …     ┆            ┆          ┆          │\n",
            "               │ GitHub     ┆ GitHub     ┆ 2 to 4     ┆ Worked     ┆ Want to    ┆ 1          ┆ Data Eng ┆ Robert   │\n",
            "               │            ┆            ┆ years      ┆ with in    ┆ work with  ┆            ┆ ineering ┆          │\n",
            "               │            ┆            ┆            ┆ PAST       ┆ in NEXT    ┆            ┆          ┆          │\n",
            "               │            ┆            ┆            ┆ years,     ┆ years      ┆            ┆          ┆          │\n",
            "               │            ┆            ┆            ┆ Want …     ┆            ┆            ┆          ┆          │\n",
            "               └────────────┴────────────┴────────────┴────────────┴────────────┴────────────┴──────────┴──────────┘\n",
            "ic| df.shape: (105, 8)\n"
          ]
        },
        {
          "output_type": "execute_result",
          "data": {
            "text/plain": [
              "(105, 8)"
            ]
          },
          "metadata": {},
          "execution_count": 6
        }
      ]
    },
    {
      "cell_type": "markdown",
      "source": [
        "---\n",
        "---"
      ],
      "metadata": {
        "id": "Vuq7_ks8Eb1a"
      }
    },
    {
      "cell_type": "markdown",
      "metadata": {
        "id": "ldnWLkKYFRBH"
      },
      "source": [
        "## Survey\n",
        "**Survey 12.4.0** <br>\n",
        "See [Flourish Survey Diagram](https://app.flourish.studio/@flourish/survey) for requirements.<br>\n",
        "<hr>\n",
        "\n",
        "### `Data` Tab\n",
        "#### Data\n",
        "##### Order\n",
        "| A | B | C | D | E | F | G | H |\n",
        "| --- | --- | --- | --- | --- | --- | --- | --- |\n",
        "| years_of_experience | past_next_github | past_next_gitlab | career_level | dao_pillar | alias | used_tool | current_tool | <br>\n",
        "<br>\n",
        "\n",
        "##### Configuration\n",
        "- **Categorical columns: A-E,G-H**\n",
        "- **Continuous columns: D**\n",
        "- Geographic columns:\n",
        "- **Label: F**\n",
        "- Slider or menu:\n",
        "- **Unique name/ID: F**\n",
        "\n",
        "#### Group order\n",
        "##### Order\n",
        "| A |\n",
        "| --- |\n",
        "| <2 years |\n",
        "| 2 to 4 years |\n",
        "| 4 to 6 years |\n",
        "| 8 to 10 years | <br>\n",
        "\n",
        "##### Configuration\n",
        "- **Order of answers: A**\n",
        "\n",
        "#### Grouped Questions\n",
        "See `survey_grouped_questions_maker()` for more information"
      ]
    },
    {
      "cell_type": "code",
      "execution_count": 8,
      "metadata": {
        "id": "Dd4n0K2NKK-T",
        "colab": {
          "base_uri": "https://localhost:8080/"
        },
        "outputId": "c3620830-6be4-4bf4-da6a-42dc342a307b"
      },
      "outputs": [
        {
          "output_type": "stream",
          "name": "stderr",
          "text": [
            "ic"
          ]
        },
        {
          "output_type": "stream",
          "name": "stdout",
          "text": [
            "\n"
          ]
        },
        {
          "output_type": "stream",
          "name": "stderr",
          "text": [
            "| df_validate: shape: (3, 2)\n",
            "                 ┌───────────┬──────────────┐\n",
            "                 │ used_tool ┆ current_tool │\n",
            "                 │ ---       ┆ ---          │\n",
            "                 │ str       ┆ str          │\n",
            "                 ╞═══════════╪══════════════╡\n",
            "                 │ Foo       ┆ !Foo         │\n",
            "                 │ Foo       ┆ !Foo         │\n",
            "                 │ Foo       ┆ Foo          │\n",
            "                 └───────────┴──────────────┘\n",
            "ic| df_out: shape: (0, 2)\n",
            "            ┌───────────┬──────────────┐\n",
            "            │ used_tool ┆ current_tool │\n",
            "            │ ---       ┆ ---          │\n",
            "            │ str       ┆ str          │\n",
            "            ╞═══════════╪══════════════╡\n",
            "            └───────────┴──────────────┘\n"
          ]
        },
        {
          "output_type": "stream",
          "name": "stdout",
          "text": [
            "\n"
          ]
        },
        {
          "output_type": "stream",
          "name": "stderr",
          "text": [
            "ic| df_tmp.select(\n",
            "        [\n",
            "            \"used_git_hosting_platform\",\n",
            "            \"current_git_hosting_platform\",\n",
            "            \"used_tool\",\n",
            "            \"current_tool\",\n",
            "        ]\n",
            "    ): shape: (0, 4)\n",
            "       ┌───────────────────────────┬──────────────────────────────┬───────────┬──────────────┐\n",
            "       │ used_git_hosting_platform ┆ current_git_hosting_platform ┆ used_tool ┆ current_tool │\n",
            "       │ ---                       ┆ ---                          ┆ ---       ┆ ---          │\n",
            "       │ str                       ┆ str                          ┆ str       ┆ str          │\n",
            "       ╞═══════════════════════════╪══════════════════════════════╪═══════════╪══════════════╡\n",
            "       └───────────────────────────┴──────────────────────────────┴───────────┴──────────────┘\n",
            "ic| source_object: <Esurvey_metasyntactic.foo: 'Foo'>\n"
          ]
        },
        {
          "output_type": "stream",
          "name": "stdout",
          "text": [
            "\n"
          ]
        },
        {
          "output_type": "stream",
          "name": "stderr",
          "text": [
            "ic| target_object: <Esurvey_metasyntactic.foo: 'Foo'>\n",
            "ic| df_tmp.select(\n",
            "        [\n",
            "            \"used_git_hosting_platform\",\n",
            "            \"current_git_hosting_platform\",\n",
            "            \"used_tool\",\n",
            "            \"current_tool\",\n",
            "        ]\n",
            "    ): shape: (2, 4)\n",
            "       ┌───────────────────────────┬──────────────────────────────┬───────────┬──────────────┐\n",
            "       │ used_git_hosting_platform ┆ current_git_hosting_platform ┆ used_tool ┆ current_tool │\n",
            "       │ ---                       ┆ ---                          ┆ ---       ┆ ---          │\n",
            "       │ str                       ┆ str                          ┆ str       ┆ str          │\n",
            "       ╞═══════════════════════════╪══════════════════════════════╪═══════════╪══════════════╡\n",
            "       │ Foo                       ┆ null                         ┆ Foo       ┆ !Foo         │\n",
            "       │ Foo                       ┆ Baz                          ┆ Foo       ┆ !Foo         │\n",
            "       └───────────────────────────┴──────────────────────────────┴───────────┴──────────────┘\n",
            "ic| df_tmp.select(\n",
            "        [\n",
            "            \"used_git_hosting_platform\",\n",
            "            \"current_git_hosting_platform\",\n",
            "            \"used_tool\",\n",
            "            \"current_tool\",\n",
            "        ]\n",
            "    ): shape: (1, 4)\n",
            "       ┌───────────────────────────┬──────────────────────────────┬────"
          ]
        },
        {
          "output_type": "stream",
          "name": "stdout",
          "text": [
            "\n"
          ]
        },
        {
          "output_type": "stream",
          "name": "stderr",
          "text": [
            "───────┬──────────────┐\n",
            "       │ used_git_hosting_platform ┆ current_git_hosting_platform ┆ used_tool ┆ current_tool │\n",
            "       │ ---                       ┆ ---                          ┆ ---       ┆ ---          │\n",
            "       │ str                       ┆ str                          ┆ str       ┆ str          │\n",
            "       ╞═══════════════════════════╪══════════════════════════════╪═══════════╪══════════════╡\n",
            "       │ Foo                       ┆ Foo                          ┆ Foo       ┆ Foo          │\n",
            "       └───────────────────────────┴──────────────────────────────┴───────────┴──────────────┘\n",
            "ic| source_object: <Esurvey_metasyntactic.foo: 'Foo'>\n",
            "ic| target_object: <Esurvey_metasyntactic.bar: 'Bar'>\n",
            "ic| df_tmp.select(\n",
            "        [\n",
            "            \"used_git_hosting_platform\",\n",
            "            \"current_git_hosting_platform\",\n"
          ]
        },
        {
          "output_type": "stream",
          "name": "stdout",
          "text": [
            "\n"
          ]
        },
        {
          "output_type": "stream",
          "name": "stderr",
          "text": [
            "            \"used_tool\",\n",
            "            \"current_tool\",\n",
            "        ]\n",
            "    ): shape: (0, 4)\n",
            "       ┌───────────────────────────┬──────────────────────────────┬───────────┬──────────────┐\n",
            "       │ used_git_hosting_platform ┆ current_git_hosting_platform ┆ used_tool ┆ current_tool │\n",
            "       │ ---                       ┆ ---                          ┆ ---       ┆ ---          │\n",
            "       │ str                       ┆ str                          ┆ str       ┆ str          │\n",
            "       ╞═══════════════════════════╪══════════════════════════════╪═══════════╪══════════════╡\n",
            "       └───────────────────────────┴──────────────────────────────┴───────────┴──────────────┘\n",
            "ic| source_object: <Esurvey_metasyntactic.bar: 'Bar'>\n",
            "ic| target_object: <Esurvey_metasyntactic.foo: 'Foo'>\n",
            "ic| df_tmp.select(\n",
            "        ["
          ]
        },
        {
          "output_type": "stream",
          "name": "stdout",
          "text": [
            "\n"
          ]
        },
        {
          "output_type": "stream",
          "name": "stderr",
          "text": [
            "\n",
            "            \"used_git_hosting_platform\",\n",
            "            \"current_git_hosting_platform\",\n",
            "            \"used_tool\",\n",
            "            \"current_tool\",\n",
            "        ]\n",
            "    ): shape: (0, 4)\n",
            "       ┌───────────────────────────┬──────────────────────────────┬───────────┬──────────────┐\n",
            "       │ used_git_hosting_platform ┆ current_git_hosting_platform ┆ used_tool ┆ current_tool │\n",
            "       │ ---                       ┆ ---                          ┆ ---       ┆ ---          │\n",
            "       │ str                       ┆ str                          ┆ str       ┆ str          │\n",
            "       ╞═══════════════════════════╪══════════════════════════════╪═══════════╪══════════════╡\n",
            "       └───────────────────────────┴──────────────────────────────┴───────────┴──────────────┘\n",
            "ic| source_object: <Esurvey_metasyntactic.bar: 'Bar'>\n",
            "ic| target_object: <Esurvey_metasyntactic.bar: 'Bar'>\n",
            "ic| df_tmp.select(\n",
            "        [\n",
            "            \"used_git_hosting_platform\",\n",
            "            \"current_git_hosting_platform\",\n",
            "            \"used_tool\",\n",
            "            \"current_tool\",\n",
            "        ]\n",
            "    ): shape: (0, 4)\n",
            "       ┌───────────────────────────"
          ]
        },
        {
          "output_type": "stream",
          "name": "stdout",
          "text": [
            "\n"
          ]
        },
        {
          "output_type": "stream",
          "name": "stderr",
          "text": [
            "┬──────────────────────────────┬───────────┬──────────────┐\n",
            "       │ used_git_hosting_platform ┆ current_git_hosting_platform ┆ used_tool ┆ current_tool │\n",
            "       │ ---                       ┆ ---                          ┆ ---       ┆ ---          │\n",
            "       │ str                       ┆ str                          ┆ str       ┆ str          │\n",
            "       ╞═══════════════════════════╪══════════════════════════════╪═══════════╪══════════════╡\n",
            "       └───────────────────────────┴──────────────────────────────┴───────────┴──────────────┘\n",
            "ic| df_tmp.select(\n",
            "        [\n",
            "            \"used_git_hosting_platform\",\n",
            "            \"current_git_hosting_platform\",\n",
            "            \"used_tool\",\n",
            "            \"current_tool\",\n",
            "        ]\n",
            "    ): shape: (0, 4)\n",
            "       ┌───────────────────────────┬──────────────────────────────┬───────────┬──────────────┐\n",
            "       │ used_git_hosting_platform ┆ current_git_hosting_platform ┆ used_tool ┆ current_tool │\n"
          ]
        },
        {
          "output_type": "stream",
          "name": "stdout",
          "text": [
            "\n"
          ]
        },
        {
          "output_type": "stream",
          "name": "stderr",
          "text": [
            "       │ ---                       ┆ ---                          ┆ ---       ┆ ---          │\n",
            "       │ str                       ┆ str                          ┆ str       ┆ str          │\n",
            "       ╞═══════════════════════════╪══════════════════════════════╪═══════════╪══════════════╡\n",
            "       └───────────────────────────┴──────────────────────────────┴───────────┴──────────────┘\n",
            "ic| df_out: shape: (3"
          ]
        },
        {
          "output_type": "stream",
          "name": "stdout",
          "text": [
            "\n"
          ]
        },
        {
          "output_type": "stream",
          "name": "stderr",
          "text": [
            ", 2)\n",
            "            ┌───────────┬──────────────┐\n",
            "            │ used_tool ┆ current_tool │\n",
            "            │ ---       ┆ ---          │\n",
            "            │ str       ┆ str          │\n",
            "            ╞═══════════╪══════════════╡\n",
            "            │ Foo       ┆ !Foo         │\n",
            "            │ Foo       ┆ !Foo         │\n",
            "            │ Foo       ┆ Foo          │\n",
            "            └───────────┴──────────────┘\n",
            "ic| file_name: PosixPath('survey-main.json')\n"
          ]
        },
        {
          "output_type": "stream",
          "name": "stdout",
          "text": [
            "\n",
            "\n"
          ]
        }
      ],
      "source": [
        "from typing import Any, Literal, Mapping, Optional, TypedDict\n",
        "\n",
        "\n",
        "def survey_maker(\n",
        "    df: pl.dataframe.frame.DataFrame, tools_list: Literal[Any], *args, **kwargs\n",
        ") -> Optional[pl.dataframe.frame.DataFrame]:\n",
        "    \"\"\"Creates the survey json.\n",
        "\n",
        "    Derives from original data, adds the columns: 'used_tools' and 'current_tools'.\n",
        "\n",
        "    Args:\n",
        "        Required:\n",
        "            df: target Polars dataframe\n",
        "            tools_list\n",
        "        Optional:\n",
        "            category_name\n",
        "            debug: if True, then performs a dry run, saving to file disabled\n",
        "            verbose: if True, then shows process\n",
        "\n",
        "    Returns:\n",
        "        Optional:\n",
        "            Given: debug\n",
        "            When:  True\n",
        "            Then:  Polars DataFrame\n",
        "\n",
        "    Raises:\n",
        "        None\n",
        "    \"\"\"\n",
        "\n",
        "    ## Prepare Args/Kwargs\n",
        "    class TDdefaultKwargs(TypedDict):\n",
        "        category_name: str\n",
        "        debug: bool\n",
        "        verbose: bool\n",
        "\n",
        "    defaultKwargs: TDdefaultKwargs = TDdefaultKwargs(\n",
        "        category_name=\"main\",\n",
        "        debug=False,\n",
        "        verbose=False,\n",
        "    )\n",
        "    allKwargs: Mapping[Any, Any] = {**defaultKwargs, **kwargs}\n",
        "\n",
        "    allKwargs[\"category_name\"]\n",
        "    debug: bool = allKwargs[\"debug\"]\n",
        "    verbose: bool = allKwargs[\"verbose\"]\n",
        "\n",
        "    ## Prepare Base DataFrame\n",
        "    survey_schema: Mapping[str, pl.DataType] = df.schema\n",
        "    survey_schema.pop(\"used_git_hosting_platform\")\n",
        "    survey_schema.pop(\"current_git_hosting_platform\")\n",
        "    survey_schema.update({\"used_tool\": pl.Utf8, \"current_tool\": pl.Utf8})\n",
        "\n",
        "    df_out: pl.dataframe.frame.DataFrame = pl.DataFrame(schema=survey_schema)\n",
        "\n",
        "    if verbose:\n",
        "        ic(df_out)\n",
        "        print()\n",
        "\n",
        "    ## Conditions\n",
        "    ### None or not in tools_list\n",
        "    df_tmp: pl.DataFrame = (\n",
        "        df.filter(\n",
        "            (\n",
        "                ~pl.col(\"used_git_hosting_platform\").str.contains(\n",
        "                    \"|\".join([_.value for _ in tools_list])\n",
        "                )\n",
        "            )\n",
        "            | (pl.col(\"used_git_hosting_platform\").is_null())\n",
        "        )\n",
        "        .with_columns(used_tool=None, current_tool=None)\n",
        "        .with_columns(\n",
        "            [\n",
        "                pl.col(\"used_tool\").cast(pl.Utf8),\n",
        "                pl.col(\"current_tool\").cast(pl.Utf8),\n",
        "            ]\n",
        "        )\n",
        "    )\n",
        "\n",
        "    if verbose:\n",
        "        ic(\n",
        "            df_tmp.select(\n",
        "                [\n",
        "                    \"used_git_hosting_platform\",\n",
        "                    \"current_git_hosting_platform\",\n",
        "                    \"used_tool\",\n",
        "                    \"current_tool\",\n",
        "                ]\n",
        "            )\n",
        "        )\n",
        "    print()\n",
        "\n",
        "    df_out.extend(\n",
        "        df_tmp.drop([\"used_git_hosting_platform\", \"current_git_hosting_platform\"])\n",
        "    )\n",
        "\n",
        "    for source_object in tools_list:\n",
        "        for target_object in tools_list:\n",
        "            if verbose:\n",
        "                ic(source_object)\n",
        "                ic(target_object)\n",
        "\n",
        "            if source_object.name is target_object.name:\n",
        "                ## foo v foo\n",
        "\n",
        "                ## stopped using the tool or any tool\n",
        "                used_condition: pl.expr.expr.Expr = pl.col(\n",
        "                    \"used_git_hosting_platform\"\n",
        "                ).str.contains(source_object.value)\n",
        "                current_condition: pl.expr.expr.Expr = (\n",
        "                    pl.col(\"current_git_hosting_platform\") == None\n",
        "                ) | (\n",
        "                    ~pl.col(\"current_git_hosting_platform\").str.contains(\n",
        "                        source_object.value\n",
        "                    )\n",
        "                )\n",
        "                condition: pl.expr.expr.Expr = used_condition & current_condition\n",
        "\n",
        "                df_tmp: pl.DataFrame = df.filter(condition).with_columns(\n",
        "                    used_tool=pl.lit(source_object.value),\n",
        "                    current_tool=pl.lit(\"!\" + source_object.value),\n",
        "                )\n",
        "\n",
        "                if verbose:\n",
        "                    ic(\n",
        "                        df_tmp.select(\n",
        "                            [\n",
        "                                \"used_git_hosting_platform\",\n",
        "                                \"current_git_hosting_platform\",\n",
        "                                \"used_tool\",\n",
        "                                \"current_tool\",\n",
        "                            ]\n",
        "                        )\n",
        "                    )\n",
        "                    print()\n",
        "\n",
        "                df_out.extend(\n",
        "                    df_tmp.drop(\n",
        "                        [\"used_git_hosting_platform\", \"current_git_hosting_platform\"]\n",
        "                    )\n",
        "                )\n",
        "\n",
        "                # continue using\n",
        "                ## foo, foo\n",
        "                used_condition: pl.expr.expr.Expr = pl.col(\n",
        "                    \"used_git_hosting_platform\"\n",
        "                ).str.contains(source_object.value)\n",
        "                current_condition: pl.expr.expr.Expr = pl.col(\n",
        "                    \"current_git_hosting_platform\"\n",
        "                ).str.contains(source_object.value)\n",
        "                condition: pl.expr.expr.Expr = used_condition & current_condition\n",
        "\n",
        "                df_tmp: pl.DataFrame = df.filter(condition).with_columns(\n",
        "                    used_tool=pl.lit(source_object.value),\n",
        "                    current_tool=pl.lit(source_object.value),\n",
        "                )\n",
        "\n",
        "                if verbose:\n",
        "                    ic(\n",
        "                        df_tmp.select(\n",
        "                            [\n",
        "                                \"used_git_hosting_platform\",\n",
        "                                \"current_git_hosting_platform\",\n",
        "                                \"used_tool\",\n",
        "                                \"current_tool\",\n",
        "                            ]\n",
        "                        )\n",
        "                    )\n",
        "                    print()\n",
        "\n",
        "                df_out.extend(\n",
        "                    df_tmp.drop(\n",
        "                        [\"used_git_hosting_platform\", \"current_git_hosting_platform\"]\n",
        "                    )\n",
        "                )\n",
        "            else:\n",
        "                # changed or trying out others\n",
        "                ## foo, bar\n",
        "                used_condition: pl.expr.expr.Expr = pl.col(\n",
        "                    \"used_git_hosting_platform\"\n",
        "                ).str.contains(source_object.value)\n",
        "                current_condition: pl.expr.expr.Expr = pl.col(\n",
        "                    \"current_git_hosting_platform\"\n",
        "                ).str.contains(target_object.value)\n",
        "                condition: pl.expr.expr.Expr = used_condition & current_condition\n",
        "\n",
        "                df_tmp: pl.DataFrame = df.filter(condition).with_columns(\n",
        "                    used_tool=pl.lit(source_object.value),\n",
        "                    current_tool=pl.lit(target_object.value),\n",
        "                )\n",
        "\n",
        "                if verbose:\n",
        "                    ic(\n",
        "                        df_tmp.select(\n",
        "                            [\n",
        "                                \"used_git_hosting_platform\",\n",
        "                                \"current_git_hosting_platform\",\n",
        "                                \"used_tool\",\n",
        "                                \"current_tool\",\n",
        "                            ]\n",
        "                        )\n",
        "                    )\n",
        "                    print()\n",
        "\n",
        "                df_out.extend(\n",
        "                    df_tmp.drop(\n",
        "                        [\"used_git_hosting_platform\", \"current_git_hosting_platform\"]\n",
        "                    )\n",
        "                )\n",
        "\n",
        "    file_name: Path = Path(\"survey-main.json\")\n",
        "\n",
        "    if verbose:\n",
        "        ic(df_out)\n",
        "        print()\n",
        "        ic(file_name)\n",
        "        print()\n",
        "\n",
        "    if debug:\n",
        "        return df_out\n",
        "    else:\n",
        "        ## Prepare Base Path\n",
        "        path_survey: Path = output_data_path / \"Survey Diagrams\"\n",
        "        path_survey.mkdir(parents=False, exist_ok=True)\n",
        "\n",
        "        ## Save dataframe to json\n",
        "        ## Flourish accepts Excel, CSV, TSV, JSON, GeoJSON\n",
        "        df_out.write_json(file=path_survey / file_name, pretty=True, row_oriented=True)\n",
        "\n",
        "    # return df_out\n",
        "\n",
        "\n",
        "## --- Debug ---\n",
        "from enum import Enum\n",
        "\n",
        "class Esurvey_metasyntactic(Enum):\n",
        "    foo: str = \"Foo\"\n",
        "    bar: str = \"Bar\"\n",
        "\n",
        "\n",
        "tools_list_test: Literal[Esurvey_metasyntactic] = [_ for _ in Esurvey_metasyntactic]\n",
        "# print([_.value for _ in tools_list_test])\n",
        "\n",
        "## foo, bar\n",
        "df_test: pl.DataFrame = pl.DataFrame(\n",
        "    {\"used_git_hosting_platform\": \"Foo\", \"current_git_hosting_platform\": \"Bar\"}\n",
        ")\n",
        "\n",
        "\n",
        "df_validate: pl.DataFrame = pl.DataFrame(\n",
        "    {\"used_tool\": [\"Foo\", \"Foo\"], \"current_tool\": [\"!Foo\", \"Bar\"]}\n",
        ")\n",
        "\n",
        "from polars.testing import assert_frame_equal\n",
        "\n",
        "assert_frame_equal(\n",
        "    survey_maker(df=df_test, tools_list=tools_list_test, debug=True), df_validate\n",
        ")\n",
        "\n",
        "## foo, foo\n",
        "df_test: pl.DataFrame = pl.DataFrame(\n",
        "    {\n",
        "        \"used_git_hosting_platform\": [\"Foo\", \"Foo\", \"Foo\"],\n",
        "        \"current_git_hosting_platform\": [None, \"Baz\", \"Foo\"],\n",
        "    }\n",
        ")\n",
        "\n",
        "df_validate: pl.DataFrame = pl.DataFrame(\n",
        "    {\"used_tool\": [\"Foo\", \"Foo\", \"Foo\"], \"current_tool\": [\"!Foo\", \"!Foo\", \"Foo\"]}\n",
        ")\n",
        "\n",
        "ic(df_validate)\n",
        "\n",
        "assert_frame_equal(\n",
        "    survey_maker(df=df_test, tools_list=tools_list_test, debug=True, verbose=True),\n",
        "    df_validate,\n",
        ")"
      ]
    },
    {
      "cell_type": "markdown",
      "source": [
        "### Dry Run"
      ],
      "metadata": {
        "id": "DZ27BIEzQ0T7"
      }
    },
    {
      "cell_type": "code",
      "execution_count": 9,
      "metadata": {
        "id": "ybND9cZNZRQn",
        "colab": {
          "base_uri": "https://localhost:8080/"
        },
        "outputId": "7ca2f500-160f-47ef-d3ab-3c23b5a1718d"
      },
      "outputs": [
        {
          "output_type": "stream",
          "name": "stderr",
          "text": [
            "ic| df_out: shape: (0, 8)\n",
            "            ┌────────────┬────────────┬────────────┬────────────┬────────────┬───────┬───────────┬────────────┐\n",
            "            │ years_of_e ┆ past_next_ ┆ past_next_ ┆ career_lev ┆ dao_pillar ┆ alias ┆ used_tool ┆ current_to │\n",
            "            │ xperience  ┆ github     ┆ gitlab     ┆ el         ┆ ---        ┆ ---   ┆ ---       ┆ ol         │\n",
            "            │ ---        ┆ ---        ┆ ---        ┆ ---        ┆ str        ┆ str   ┆ str       ┆ ---        │\n",
            "            │ str        ┆ str        ┆ str        ┆ str        ┆            ┆       ┆           ┆ str        │\n",
            "            ╞════════════╪════════════╪════════════╪════════════╪════════════╪═══════╪═══════════╪════════════╡\n",
            "            └────────────┴────────────┴────────────┴────────────┴────────────┴───────┴───────────┴────────────┘\n"
          ]
        },
        {
          "output_type": "stream",
          "name": "stdout",
          "text": [
            "\n"
          ]
        },
        {
          "output_type": "stream",
          "name": "stderr",
          "text": [
            "ic| df_tmp.select(\n",
            "        [\n",
            "            \"used_git_hosting_platform\",\n",
            "            \"current_git_hosting_platform\",\n",
            "            \"used_tool\",\n",
            "            \"current_tool\",\n",
            "        ]\n",
            "    ): shape: (20, 4)\n",
            "       ┌───────────────────────────┬──────────────────────────────┬───────────┬──────────────┐\n",
            "       │ used_git_hosting_platform ┆ current_git_hosting_platform ┆ used_tool ┆ current_tool │\n",
            "       │ ---                       ┆ ---                          ┆ ---       ┆ ---          │\n",
            "       │ str                       ┆ str                          ┆ str       ┆ str          │\n",
            "       ╞═══════════════════════════╪══════════════════════════════╪═══════════╪══════════════╡\n",
            "       │ null                      ┆ null                         ┆ null      ┆ null         │\n",
            "       │ Bitbucket                 ┆ null                         ┆ null      ┆ null         │\n",
            "       │ null                      ┆ null                         ┆ null      ┆ null         │\n",
            "       │ Bitbucket                 ┆ null                         ┆ null      ┆ null         │\n",
            "       │ …                         ┆ …                            ┆ …         ┆ …            │\n",
            "       │ null                      ┆ null                         ┆ null      ┆ null         │\n",
            "       │ null                      ┆ null                         ┆ null      ┆ null         │\n",
            "       │ null                      ┆ null                         ┆ null      ┆ null         │\n",
            "       │ Git only                  ┆ null                         ┆ null      ┆ null         │\n",
            "       └───────────────────────────┴──────────────────────────────┴───────────┴──────────────┘\n",
            "ic| source_object: <Egit_hosting_platform.github: 'GitHub'>\n",
            "ic| target_object: <Egit_hosting_platform.github: 'GitHub'>\n"
          ]
        },
        {
          "output_type": "stream",
          "name": "stdout",
          "text": [
            "\n"
          ]
        },
        {
          "output_type": "stream",
          "name": "stderr",
          "text": [
            "ic| df_tmp.select(\n",
            "        [\n",
            "            \"used_git_hosting_platform\",\n",
            "            \"current_git_hosting_platform\",\n",
            "            \"used_tool\",\n",
            "            \"current_tool\",\n",
            "        ]\n",
            "    ): shape: (29, 4)\n",
            "       ┌───────────────────────────┬──────────────────────────────┬───────────┬──────────────┐\n",
            "       │ used_git_hosting_platform ┆ current_git_hosting_platform ┆ used_tool ┆ current_tool │\n",
            "       │ ---                       ┆ ---                          ┆ ---       ┆ ---          │\n",
            "       │ str                       ┆ str                          ┆ str       ┆ str          │\n",
            "       ╞═══════════════════════════╪══════════════════════════════╪═══════════╪══════════════╡\n",
            "       │ GitHub, GitLab, Bitbucket ┆ Bitbucket                    ┆ GitHub    ┆ !GitHub      │\n",
            "       │ GitHub                    ┆ null                         ┆ GitHub    ┆ !GitHub      │\n",
            "       │ GitHub, Bitbucket         ┆ null                         ┆ GitHub    ┆ !GitHub      │\n",
            "       │ GitHub                    ┆ null                         ┆ GitHub    ┆ !GitHub      │\n",
            "       │ …                         ┆ …                            ┆ …         ┆ …            │\n",
            "       │ GitHub, GitLab            ┆ GitLab                       ┆ GitHub    ┆ !GitHub      │\n",
            "       │ GitHub                    ┆ null                         ┆ GitHub    ┆ !GitHub      │\n",
            "       │ GitHub, GitLab            ┆ GitLab                       ┆ GitHub    ┆ !GitHub      │\n",
            "       │ GitHub                    ┆ null                         ┆ GitHub    ┆ !GitHub      │\n",
            "       └───────────────────────────┴──────────────────────────────┴───────────┴──────────────┘\n",
            "ic| df_tmp.select(\n",
            "        [\n",
            "            \"used_git_hosting_platform\",\n",
            "            \"current_git_hosting_platform\",\n",
            "            \"used_tool\",\n",
            "            \"current_tool\",\n",
            "        ]\n",
            "    ): shape: (32, 4)\n",
            "       ┌"
          ]
        },
        {
          "output_type": "stream",
          "name": "stdout",
          "text": [
            "\n"
          ]
        },
        {
          "output_type": "stream",
          "name": "stderr",
          "text": [
            "───────────────────────────┬──────────────────────────────┬───────────┬──────────────┐\n",
            "       │ used_git_hosting_platform ┆ current_git_hosting_platform ┆ used_tool ┆ current_tool │\n",
            "       │ ---                       ┆ ---                          ┆ ---       ┆ ---          │\n",
            "       │ str                       ┆ str                          ┆ str       ┆ str          │\n",
            "       ╞═══════════════════════════╪══════════════════════════════╪═══════════╪══════════════╡\n",
            "       │ GitHub, GitLab, Codeberg  ┆ GitHub, GitLab, Codeberg     ┆ GitHub    ┆ GitHub       │\n",
            "       │ GitHub, GitLab            ┆ GitHub, GitLab               ┆ GitHub    ┆ GitHub       │\n",
            "       │ GitHub                    ┆ GitHub                       ┆ GitHub    ┆ GitHub       │\n",
            "       │ GitHub                    ┆ GitHub                       ┆ GitHub    ┆ GitHub       │\n",
            "       │ …                         ┆ …                            ┆ …         ┆ …            │\n",
            "       │ GitHub, GitLab            ┆ GitHub                       ┆ GitHub    ┆ GitHub       │\n",
            "       │ GitHub, GitLab            ┆ GitHub                       ┆ GitHub    ┆ GitHub       │\n",
            "       │ GitHub                    ┆ GitHub                       ┆ GitHub    ┆ GitHub       │\n",
            "       │ GitHub                    ┆ GitHub                       ┆ GitHub    ┆ GitHub       │\n",
            "       └───────────────────────────┴──────────────────────────────┴───────────┴──────────────┘\n",
            "ic| source_object: <Egit_hosting_platform.github: 'GitHub'>\n",
            "ic| target_object: <Egit_hosting_platform.gitlab: 'GitLab'>\n"
          ]
        },
        {
          "output_type": "stream",
          "name": "stdout",
          "text": [
            "\n"
          ]
        },
        {
          "output_type": "stream",
          "name": "stderr",
          "text": [
            "ic| df_tmp.select(\n",
            "        [\n",
            "            \"used_git_hosting_platform\",\n",
            "            \"current_git_hosting_platform\",\n",
            "            \"used_tool\",\n",
            "            \"current_tool\",\n",
            "        ]\n",
            "    ): shape: (24, 4)\n",
            "       ┌───────────────────────────┬──────────────────────────────┬───────────┬──────────────┐\n",
            "       │ used_git_hosting_platform ┆ current_git_hosting_platform ┆ used_tool ┆ current_tool │\n",
            "       │ ---                       ┆ ---                          ┆ ---       ┆ ---          │\n",
            "       │ str                       ┆ str                          ┆ str       ┆ str          │\n",
            "       ╞═══════════════════════════╪══════════════════════════════╪═══════════╪══════════════╡\n",
            "       │ GitHub, GitLab, Codeberg  ┆ GitHub, GitLab, Codeberg     ┆ GitHub    ┆ GitLab       │\n",
            "       │ GitHub, GitLab            ┆ GitHub, GitLab               ┆ GitHub    ┆ GitLab       │\n",
            "       │ GitHub, GitLab            ┆ GitHub, GitLab               ┆ GitHub    ┆ GitLab       │\n",
            "       │ GitHub, GitLab            ┆ GitHub, GitLab               ┆ GitHub    ┆ GitLab       │\n",
            "       │ …                         ┆ …                            ┆ …         ┆ …            │\n",
            "       │ GitHub, GitLab, Bitbucket ┆ GitLab, Bitbucket            ┆ GitHub    ┆ GitLab       │\n",
            "       │ GitHub, GitLab            ┆ GitLab                       ┆ GitHub    ┆ GitLab       │\n",
            "       │ GitHub, GitLab            ┆ GitLab                       ┆ GitHub    ┆ GitLab       │\n",
            "       │ GitHub, GitLab            ┆ GitLab                       ┆ GitHub    ┆ GitLab       │\n",
            "       └───────────────────────────┴──────────────────────────────┴───────────┴──────────────┘\n",
            "ic| source_object: <Egit_hosting_platform.gitlab: 'GitLab'>\n",
            "ic| target_object: <Egit_hosting_platform.github: 'GitHub'>\n",
            "ic| df_tmp.select(\n",
            "        [\n",
            "            \"used_git_hosting_platform\",\n",
            "            \"current_git_hosting_platform\",\n",
            "            \"used_tool\",\n",
            "            \"current_tool\",\n",
            "        ]\n",
            "    ): shape"
          ]
        },
        {
          "output_type": "stream",
          "name": "stdout",
          "text": [
            "\n"
          ]
        },
        {
          "output_type": "stream",
          "name": "stderr",
          "text": [
            ": (19, 4)\n",
            "       ┌───────────────────────────┬──────────────────────────────┬───────────┬──────────────┐\n",
            "       │ used_git_hosting_platform ┆ current_git_hosting_platform ┆ used_tool ┆ current_tool │\n",
            "       │ ---                       ┆ ---                          ┆ ---       ┆ ---          │\n",
            "       │ str                       ┆ str                          ┆ str       ┆ str          │\n",
            "       ╞═══════════════════════════╪══════════════════════════════╪═══════════╪══════════════╡\n",
            "       │ GitHub, GitLab, Codeberg  ┆ GitHub, GitLab, Codeberg     ┆ GitLab    ┆ GitHub       │\n",
            "       │ GitHub, GitLab            ┆ GitHub, GitLab               ┆ GitLab    ┆ GitHub       │\n",
            "       │ GitHub, GitLab            ┆ GitHub, GitLab               ┆ GitLab    ┆ GitHub       │\n",
            "       │ GitHub, GitLab            ┆ GitHub                       ┆ GitLab    ┆ GitHub       │\n",
            "       │ …                         ┆ …                            ┆ …         ┆ …            │\n",
            "       │ GitHub, GitLab            ┆ GitHub                       ┆ GitLab    ┆ GitHub       │\n",
            "       │ GitHub, GitLab            ┆ GitHub                       ┆ GitLab    ┆ GitHub       │\n",
            "       │ GitHub, GitLab            ┆ GitHub                       ┆ GitLab    ┆ GitHub       │\n",
            "       │ GitHub, GitLab            ┆ GitHub                       ┆ GitLab    ┆ GitHub       │\n",
            "       └───────────────────────────┴──────────────────────────────┴───────────┴──────────────┘\n",
            "ic| source_object: <Egit_hosting_platform.gitlab: 'GitLab'>\n",
            "ic| target_object: <Egit_hosting_platform.gitlab: 'GitLab'>"
          ]
        },
        {
          "output_type": "stream",
          "name": "stdout",
          "text": [
            "\n"
          ]
        },
        {
          "output_type": "stream",
          "name": "stderr",
          "text": [
            "\n",
            "ic| df_tmp.select(\n",
            "        [\n",
            "            \"used_git_hosting_platform\",\n",
            "            \"current_git_hosting_platform\",\n",
            "            \"used_tool\",\n",
            "            \"current_tool\",\n",
            "        ]\n",
            "    ): shape: (20, 4)\n",
            "       ┌───────────────────────────┬──────────────────────────────┬───────────┬──────────────┐\n",
            "       │ used_git_hosting_platform ┆ current_git_hosting_platform ┆ used_tool ┆ current_tool │\n",
            "       │ ---                       ┆ ---                          ┆ ---       ┆ ---          │\n",
            "       │ str                       ┆ str                          ┆ str       ┆ str          │\n",
            "       ╞═══════════════════════════╪══════════════════════════════╪═══════════╪══════════════╡\n",
            "       │ GitLab                    ┆ null                         ┆ GitLab    ┆ !GitLab      │\n",
            "       │ GitHub, GitLab            ┆ GitHub                       ┆ GitLab    ┆ !GitLab      │\n",
            "       │ GitHub, GitLab            ┆ GitHub                       ┆ GitLab    ┆ !GitLab      │\n",
            "       │ GitHub, GitLab, Bitbucket ┆ Bitbucket                    ┆ GitLab    ┆ !GitLab      │\n",
            "       │ …                         ┆ …                            ┆ …         ┆ …            │\n",
            "       │ GitLab                    ┆ null                         ┆ GitLab    ┆ !GitLab      │\n",
            "       │ GitHub, GitLab            ┆ GitHub                       ┆ GitLab    ┆ !GitLab      │\n",
            "       │ GitHub, GitLab            ┆ GitHub                       ┆ GitLab    ┆ !GitLab      │\n",
            "       │ GitLab                    ┆ null                         ┆ GitLab    ┆ !GitLab      │\n",
            "       └───────────────────────────┴──────────────────────────────┴───────────┴──────────────┘\n",
            "ic| df_tmp.select(\n",
            "        [\n",
            "            \"used_git_hosting_platform\",\n",
            "            \"current_git_hosting_platform\",\n",
            "            \"used_tool\",\n",
            "            \"current_tool\",\n",
            "        ]\n",
            "    ): shape: (40, 4)\n",
            "       ┌───────────────────────────"
          ]
        },
        {
          "output_type": "stream",
          "name": "stdout",
          "text": [
            "\n"
          ]
        },
        {
          "output_type": "stream",
          "name": "stderr",
          "text": [
            "┬──────────────────────────────┬───────────┬──────────────┐\n",
            "       │ used_git_hosting_platform ┆ current_git_hosting_platform ┆ used_tool ┆ current_tool │\n",
            "       │ ---                       ┆ ---                          ┆ ---       ┆ ---          │\n",
            "       │ str                       ┆ str                          ┆ str       ┆ str          │\n",
            "       ╞═══════════════════════════╪══════════════════════════════╪═══════════╪══════════════╡\n",
            "       │ GitHub, GitLab, Codeberg  ┆ GitHub, GitLab, Codeberg     ┆ GitLab    ┆ GitLab       │\n",
            "       │ GitHub, GitLab            ┆ GitHub, GitLab               ┆ GitLab    ┆ GitLab       │\n",
            "       │ GitHub, GitLab            ┆ GitHub, GitLab               ┆ GitLab    ┆ GitLab       │\n",
            "       │ GitHub, GitLab            ┆ GitHub, GitLab               ┆ GitLab    ┆ GitLab       │\n",
            "       │ …                         ┆ …                            ┆ …         ┆ …            │\n",
            "       │ GitLab                    ┆ GitLab                       ┆ GitLab    ┆ GitLab       │\n",
            "       │ GitLab, Bitbucket         ┆ GitLab                       ┆ GitLab    ┆ GitLab       │\n",
            "       │ GitLab                    ┆ GitLab                       ┆ GitLab    ┆ GitLab       │\n",
            "       │ GitLab                    ┆ GitLab                       ┆ GitLab    ┆ GitLab       │\n",
            "       └───────────────────────────┴──────────────────────────────┴───────────┴──────────────┘\n",
            "ic| df_out: shape: (184, 8)\n",
            "            ┌────────────┬────────────┬────────────┬────────────┬──────────┬──"
          ]
        },
        {
          "output_type": "stream",
          "name": "stdout",
          "text": [
            "\n"
          ]
        },
        {
          "output_type": "stream",
          "name": "stderr",
          "text": [
            "────────┬───────────┬────────────┐\n",
            "            │ years_of_e ┆ past_next_ ┆ past_next_ ┆ career_lev ┆ dao_pill ┆ alias    ┆ used_tool ┆ current_to │\n",
            "            │ xperience  ┆ github     ┆ gitlab     ┆ el         ┆ ar       ┆ ---      ┆ ---       ┆ ol         │\n",
            "            │ ---        ┆ ---        ┆ ---        ┆ ---        ┆ ---      ┆ str      ┆ str       ┆ ---        │\n",
            "            │ str        ┆ str        ┆ str        ┆ str        ┆ str      ┆          ┆           ┆ str        │\n",
            "            ╞════════════╪════════════╪════════════╪════════════╪══════════╪══════════╪═══════════╪════════════╡\n",
            "            │ null       ┆ Want to    ┆ Want to    ┆ 2          ┆ Data     ┆ Jennifer ┆ null      ┆ null       │\n",
            "            │            ┆ work with  ┆ work with  ┆            ┆ Science  ┆          ┆           ┆            │\n",
            "            │            ┆ in NEXT    ┆ in NEXT    ┆            ┆ & Analyt ┆          ┆           ┆            │\n",
            "            │            ┆ years      ┆ years      ┆            ┆ ics      ┆          ┆           ┆            │\n",
            "            │ 2 to 4     ┆ Want to    ┆ Want to    ┆ 2          ┆ Data     ┆ Rickey   ┆ null      ┆ null       │\n",
            "            │ years      ┆ work with  ┆ work with  ┆            ┆ Admin    ┆          ┆           ┆            │\n",
            "            │            ┆ in NEXT    ┆ in NEXT    ┆            ┆          ┆          ┆           ┆            │\n",
            "            │            ┆ years      ┆ years      ┆            ┆          ┆          ┆           ┆            │\n",
            "            │ null       ┆ Want to    ┆ Want to    ┆ 2          ┆ Data     ┆ Eric     ┆ null      ┆ null       │\n",
            "            │            ┆ work with  ┆ work with  ┆            ┆ Science  ┆          ┆           ┆            │\n",
            "            │            ┆ in NEXT    ┆ in NEXT    ┆            ┆ & Analyt ┆          ┆           ┆            │\n",
            "            │            ┆ years      ┆ years      ┆            ┆ ics      ┆          ┆           ┆            │\n",
            "            │ <2 years   ┆ Want to    ┆ Want to    ┆ 4          ┆ Data     ┆ Jessica  ┆ null      ┆ null       │\n",
            "            │            ┆ work with  ┆ work with  ┆            ┆ Admin    ┆          ┆           ┆            │\n",
            "            │            ┆ in NEXT    ┆ in NEXT    ┆            ┆          ┆          ┆           ┆            │\n",
            "            │            ┆ years      ┆ years      ┆            ┆          ┆          ┆           ┆            │\n",
            "            │ …          ┆ …          ┆ …          ┆ …          ┆ …        ┆ …        ┆ …         ┆ …          │\n",
            "            │ 2 to 4     ┆ Want to    ┆ Worked     ┆ 4          ┆ AFC      ┆ Gerald   ┆ GitLab    ┆ GitLab     │\n",
            "            │ years      ┆ work with  ┆ with in    ┆            ┆          ┆          ┆           ┆            │\n",
            "            │            ┆ in NEXT    ┆ PAST       ┆            ┆          ┆          ┆           ┆            │\n",
            "            │            ┆ years      ┆ years,     ┆            ┆          ┆          ┆           ┆            │\n",
            "            │            ┆            ┆ Want …     ┆            ┆          ┆          ┆           ┆            │\n",
            "            │ <2 years   ┆ Want to    ┆ Worked     ┆ 2          ┆ Data Eng ┆ Dawn     ┆ GitLab    ┆ GitLab     │\n",
            "            │            ┆ work with  ┆ with in    ┆            ┆ ineering ┆          ┆           ┆            │\n",
            "            │            ┆ in NEXT    ┆ PAST years ┆            ┆          ┆          ┆           ┆            │\n",
            "            │            ┆ years      ┆            ┆            ┆          ┆          ┆           ┆            │\n",
            "            │ <2 years   ┆ Want to    ┆ Worked     ┆ 3          ┆ Data Eng ┆ Cynthia  ┆ GitLab    ┆ GitLab     │\n",
            "            │            ┆ work with  ┆ with in    ┆            ┆ ineering ┆          ┆           ┆            │\n",
            "            │            ┆ in NEXT    ┆ PAST       ┆            ┆          ┆          ┆           ┆            │\n",
            "            │            ┆ years      ┆ years,     ┆            ┆          ┆          ┆           ┆            │\n",
            "            │            ┆            ┆ Want …     ┆            ┆          ┆          ┆           ┆            │\n",
            "            │ <2 years   ┆ Want to    ┆ Worked     ┆ 2          ┆ Data Eng ┆ Devin    ┆ GitLab    ┆ GitLab     │\n",
            "            │            ┆ work with  ┆ with in    ┆            ┆ ineering ┆          ┆           ┆            │\n",
            "            │            ┆ in NEXT    ┆ PAST       ┆            ┆          ┆          ┆           ┆            │\n",
            "            │            ┆ years      ┆ years,     ┆            ┆          ┆          ┆           ┆            │\n",
            "            │            ┆            ┆ Want …     ┆            ┆          ┆          ┆           ┆            │\n",
            "            └────────────┴────────────┴────────────┴────────────┴──────────┴──────────┴───────────┴────────────┘\n",
            "ic| file_name: PosixPath('survey-main.json')\n"
          ]
        },
        {
          "output_type": "stream",
          "name": "stdout",
          "text": [
            "\n",
            "\n"
          ]
        }
      ],
      "source": [
        "_: Any = survey_maker(\n",
        "    df=df, tools_list=[_ for _ in Egit_hosting_platform], debug=True, verbose=True\n",
        ")"
      ]
    },
    {
      "cell_type": "markdown",
      "source": [
        "### Actual"
      ],
      "metadata": {
        "id": "Pfi7VQqRQ4Wk"
      }
    },
    {
      "cell_type": "code",
      "execution_count": 10,
      "metadata": {
        "id": "xXxsOPsDZRNY",
        "outputId": "ece746fb-d75e-4187-e86c-52bfb94dbdfa",
        "colab": {
          "base_uri": "https://localhost:8080/"
        }
      },
      "outputs": [
        {
          "output_type": "stream",
          "name": "stdout",
          "text": [
            "\n"
          ]
        }
      ],
      "source": [
        "survey_maker(df=df, tools_list=[_ for _ in Egit_hosting_platform])"
      ]
    },
    {
      "cell_type": "markdown",
      "source": [
        "EOF"
      ],
      "metadata": {
        "id": "Fd_Q4ptohFma"
      }
    }
  ],
  "metadata": {
    "colab": {
      "provenance": []
    },
    "kernelspec": {
      "display_name": "Python 3",
      "name": "python3"
    },
    "language_info": {
      "name": "python"
    }
  },
  "nbformat": 4,
  "nbformat_minor": 0
}