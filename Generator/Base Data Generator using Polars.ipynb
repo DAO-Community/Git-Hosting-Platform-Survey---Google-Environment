{
  "cells": [
    {
      "cell_type": "markdown",
      "metadata": {
        "id": "DZXzK3cFlkb_"
      },
      "source": [
        "# DAO Community Git Hosting Platform Survey Report Data Generator using Python-Polars in Google Environment\n",
        "---\n",
        "## Base Data Generator using Polars"
      ]
    },
    {
      "cell_type": "markdown",
      "metadata": {
        "id": "Hg-NFKO-yrPS"
      },
      "source": [
        "![](https://img.shields.io/badge/Version%201.0.0-333333?style=for-the-badge)![](https://img.shields.io/badge/Made%20with-808080?style=for-the-badge)[![](https://img.shields.io/badge/Google%20Colaboratory-4d4d4d?style=for-the-badge&logo=googlecolab)](https://docs.jupyter.org/en/latest/)![](https://img.shields.io/badge/And-808080?style=for-the-badge)[![](https://img.shields.io/badge/Python%203.10.12-306998?style=for-the-badge&logo=Python&logoColor=FFD43B)](https://docs.python.org/3.10/)[![](https://img.shields.io/badge/Polars%200.17.3-FFD43B?style=for-the-badge&logo=Polars&logoColor=306998)](https://docs.python.org/3.11/)\n",
        "\n",
        "![](https://img.shields.io/badge/Repo-808080?style=for-the-badge)[![](https://img.shields.io/badge/GitHub-6E5494?style=for-the-badge&logo=GitHub)](https://github.com/joshua-lagasca/DAO-Community-Git-Hosting-Platform-Survey---Google-Environment)"
      ]
    },
    {
      "cell_type": "markdown",
      "source": [
        "| Library | Purpose | Version | Links |\n",
        "| :--- | :--- | ---: | :--- |\n",
        "| **Polars** | DataFrame | 0.17.3 | [GitHub](https://github.com/pola-rs/polars) [Site](https://www.pola.rs/) [User Guide](https://pola-rs.github.io/polars-book/user-guide/) [Polars API Reference](https://pola-rs.github.io/polars/py-polars/html/reference/index.html) |\n",
        "| **Faker** | Masking/Dummy Data | 19.4.0 | [GitHub](https://github.com/joke2k/faker) [Docs](https://faker.readthedocs.io/en/master/) |"
      ],
      "metadata": {
        "id": "FOKBCnrM6SYx"
      }
    },
    {
      "cell_type": "code",
      "execution_count": 1,
      "metadata": {
        "id": "EdpZA1a0Rwli"
      },
      "outputs": [],
      "source": [
        "from __future__ import annotations"
      ]
    },
    {
      "cell_type": "markdown",
      "source": [
        "# Mount Drive"
      ],
      "metadata": {
        "id": "e34EyIXSHNe8"
      }
    },
    {
      "cell_type": "code",
      "execution_count": 2,
      "metadata": {
        "colab": {
          "base_uri": "https://localhost:8080/"
        },
        "id": "acghkMdF9Id0",
        "outputId": "12aadf3d-911d-4159-e108-f74c015865ed"
      },
      "outputs": [
        {
          "output_type": "stream",
          "name": "stdout",
          "text": [
            "Mounted at /gdrive\n"
          ]
        }
      ],
      "source": [
        "from pathlib import Path\n",
        "\n",
        "from google.colab import drive\n",
        "\n",
        "mount_point: Path = Path(\"/gdrive\")\n",
        "\n",
        "drive.mount(mountpoint=str(mount_point.resolve()), force_remount=True)"
      ]
    },
    {
      "cell_type": "code",
      "execution_count": 3,
      "metadata": {
        "id": "uLee-JvuELB5"
      },
      "outputs": [],
      "source": [
        "base_path: Path = (\n",
        "    mount_point\n",
        "    / \"MyDrive\"\n",
        "    / \"Survey\"\n",
        "    / \"DAO Community Git Hosting Platform Survey - Google Environment\"\n",
        ")\n",
        "base_path.mkdir(parents=False, exist_ok=True)\n",
        "\n",
        "output_data_path: Path = base_path / \"Data\"\n",
        "output_data_path.mkdir(parents=False, exist_ok=True)"
      ]
    },
    {
      "cell_type": "code",
      "source": [
        "## NOTE: import-ipynb cannot work with notebooks in Google Drive, thus the workaround below.\n",
        "type_objects_module = base_path / \"Generator\" / \"Type Objects Polars.ipynb\"\n",
        "\n",
        "if type_objects_module.exists():\n",
        "    type_objects_module: str = f\"{type_objects_module}\"\n",
        "    %run -n \"$type_objects_module\"\n",
        "    \"\"\"Creates the ff:\n",
        "        Eyears_of_experience,\n",
        "        Egit_hosting_platform,\n",
        "        Ecareer_level,\n",
        "        Edao_pillar,\n",
        "        Epast_next,\n",
        "        Epast_next_all,\n",
        "        TDcolumns,\n",
        "        df_columns_dtypes_dict\n",
        "    \"\"\"\n",
        "else:\n",
        "    print(f\"Module '{type_objects_module}' does not exist.\")"
      ],
      "metadata": {
        "id": "zYm-ZtqNwl2v"
      },
      "execution_count": 4,
      "outputs": []
    },
    {
      "cell_type": "code",
      "source": [
        "%%capture --no-stderr\n",
        "!pip show icecream 1>/dev/null; \\\n",
        "[ $? != 0 ] && { pip install icecream; };\n",
        "from icecream import ic"
      ],
      "metadata": {
        "id": "WX8cYrIKOLFv"
      },
      "execution_count": 5,
      "outputs": []
    },
    {
      "cell_type": "code",
      "source": [
        "%%capture --no-stderr\n",
        "!pip show faker 1>/dev/null; \\\n",
        "[ $? != 0 ] && { pip install faker; };"
      ],
      "metadata": {
        "id": "caS0LFan6w0q"
      },
      "execution_count": 6,
      "outputs": []
    },
    {
      "cell_type": "code",
      "execution_count": 7,
      "metadata": {
        "id": "zyfJAqWOQ-nw"
      },
      "outputs": [],
      "source": [
        "from google.colab import auth\n",
        "\n",
        "auth.authenticate_user()\n",
        "\n",
        "import gspread\n",
        "from google.auth import default\n",
        "\n",
        "creds: auth.compute_engine.credentials.Credentials\n",
        "_: str\n",
        "creds, _ = default()\n",
        "\n",
        "gc: gspread.client.Client = gspread.authorize(creds)\n",
        "\n",
        "worksheet: gspread.models.Worksheet = gc.open(\n",
        "    \"Git Hosting Platform Survey (Responses)\"\n",
        ").sheet1\n",
        "\n",
        "## get_all_values gives a list of rows.\n",
        "rows: list = worksheet.get_all_values()"
      ]
    },
    {
      "cell_type": "markdown",
      "source": [
        "---\n",
        "---"
      ],
      "metadata": {
        "id": "CdOvQ6ZiP1C4"
      }
    },
    {
      "cell_type": "markdown",
      "metadata": {
        "id": "r5vPceVlWMH4"
      },
      "source": [
        "# Hierarchy of Categories:\n",
        "\n",
        "**DAO Pillar** > **Years of Experience** > **Career Level**"
      ]
    },
    {
      "cell_type": "markdown",
      "source": [
        "---\n",
        "---"
      ],
      "metadata": {
        "id": "QsuLYHnRPz8u"
      }
    },
    {
      "cell_type": "code",
      "execution_count": 9,
      "metadata": {
        "id": "BXsxLUGzy2nx",
        "colab": {
          "base_uri": "https://localhost:8080/",
          "height": 877
        },
        "outputId": "b606a6fa-be2d-4cee-adb4-aa02004b719c"
      },
      "outputs": [
        {
          "output_type": "stream",
          "name": "stderr",
          "text": [
            "ic| df.head(): shape: (5, 8)\n",
            "               ┌────────────┬────────────┬────────────┬────────────┬────────────┬────────────┬──────────┬──────────┐\n",
            "               │ used_git_h ┆ current_gi ┆ years_of_e ┆ past_next_ ┆ past_next_ ┆ career_lev ┆ dao_pill ┆ alias    │\n",
            "               │ osting_pla ┆ t_hosting_ ┆ xperience  ┆ github     ┆ gitlab     ┆ el         ┆ ar       ┆ ---      │\n",
            "               │ tform      ┆ platform   ┆ ---        ┆ ---        ┆ ---        ┆ ---        ┆ ---      ┆ str      │\n",
            "               │ ---        ┆ ---        ┆ str        ┆ str        ┆ str        ┆ str        ┆ str      ┆          │\n",
            "               │ str        ┆ str        ┆            ┆            ┆            ┆            ┆          ┆          │\n",
            "               ╞════════════╪════════════╪════════════╪════════════╪════════════╪════════════╪══════════╪══════════╡\n",
            "               │ GitHub,    ┆ GitHub,    ┆ 4 to 6     ┆ Worked     ┆ Worked     ┆ 2          ┆ Data     ┆ Jose     │\n",
            "               │ GitLab,    ┆ GitLab,    ┆ years      ┆ with in    ┆ with in    ┆            ┆ Admin    ┆          │\n",
            "               │ Codeberg   ┆ Codeberg   ┆            ┆ PAST       ┆ PAST       ┆            ┆          ┆          │\n",
            "               │            ┆            ┆            ┆ years,     ┆ years,     ┆            ┆          ┆          │\n",
            "               │            ┆            ┆            ┆ Want …     ┆ Want …     ┆            ┆          ┆          │\n",
            "               │ GitHub,    ┆ GitHub,    ┆ 2 to 4     ┆ Worked     ┆ Worked     ┆ 2          ┆ Data Eng ┆ Daniel   │\n",
            "               │ GitLab     ┆ GitLab     ┆ years      ┆ with in    ┆ with in    ┆            ┆ ineering ┆          │\n",
            "               │            ┆            ┆            ┆ PAST       ┆ PAST       ┆            ┆          ┆          │\n",
            "               │            ┆            ┆            ┆ years,     ┆ years,     ┆            ┆          ┆          │\n",
            "               │            ┆            ┆            ┆ Want …     ┆ Want …     ┆            ┆          ┆          │\n",
            "               │ null       ┆ null       ┆ null       ┆ Want to    ┆ Want to    ┆ 2          ┆ Data     ┆ Jennifer │\n",
            "               │            ┆            ┆            ┆ work with  ┆ work with  ┆            ┆ Science  ┆          │\n",
            "               │            ┆            ┆            ┆ in NEXT    ┆ in NEXT    ┆            ┆ & Analyt ┆          │\n",
            "               │            ┆            ┆            ┆ years      ┆ years      ┆            ┆ ics      ┆          │\n",
            "               │ GitLab     ┆ null       ┆ <2 years   ┆ Want to    ┆ Worked     ┆ 2          ┆ Data Eng ┆ Maria    │\n",
            "               │            ┆            ┆            ┆ work with  ┆ with in    ┆            ┆ ineering ┆          │\n",
            "               │            ┆            ┆            ┆ in NEXT    ┆ PAST       ┆            ┆          ┆          │\n",
            "               │            ┆            ┆            ┆ years      ┆ years,     ┆            ┆          ┆          │\n",
            "               │            ┆            ┆            ┆            ┆ Want …     ┆            ┆          ┆          │\n",
            "               │ GitHub     ┆ GitHub     ┆ 2 to 4     ┆ Worked     ┆ Want to    ┆ 1          ┆ Data Eng ┆ Robert   │\n",
            "               │            ┆            ┆ years      ┆ with in    ┆ work with  ┆            ┆ ineering ┆          │\n",
            "               │            ┆            ┆            ┆ PAST       ┆ in NEXT    ┆            ┆          ┆          │\n",
            "               │            ┆            ┆            ┆ years,     ┆ years      ┆            ┆          ┆          │\n",
            "               │            ┆            ┆            ┆ Want …     ┆            ┆            ┆          ┆          │\n",
            "               └────────────┴────────────┴────────────┴────────────┴────────────┴────────────┴──────────┴──────────┘\n"
          ]
        },
        {
          "output_type": "execute_result",
          "data": {
            "text/plain": [
              "shape: (5, 8)\n",
              "┌────────────┬────────────┬────────────┬────────────┬────────────┬────────────┬──────────┬──────────┐\n",
              "│ used_git_h ┆ current_gi ┆ years_of_e ┆ past_next_ ┆ past_next_ ┆ career_lev ┆ dao_pill ┆ alias    │\n",
              "│ osting_pla ┆ t_hosting_ ┆ xperience  ┆ github     ┆ gitlab     ┆ el         ┆ ar       ┆ ---      │\n",
              "│ tform      ┆ platform   ┆ ---        ┆ ---        ┆ ---        ┆ ---        ┆ ---      ┆ str      │\n",
              "│ ---        ┆ ---        ┆ str        ┆ str        ┆ str        ┆ str        ┆ str      ┆          │\n",
              "│ str        ┆ str        ┆            ┆            ┆            ┆            ┆          ┆          │\n",
              "╞════════════╪════════════╪════════════╪════════════╪════════════╪════════════╪══════════╪══════════╡\n",
              "│ GitHub,    ┆ GitHub,    ┆ 4 to 6     ┆ Worked     ┆ Worked     ┆ 2          ┆ Data     ┆ Jose     │\n",
              "│ GitLab,    ┆ GitLab,    ┆ years      ┆ with in    ┆ with in    ┆            ┆ Admin    ┆          │\n",
              "│ Codeberg   ┆ Codeberg   ┆            ┆ PAST       ┆ PAST       ┆            ┆          ┆          │\n",
              "│            ┆            ┆            ┆ years,     ┆ years,     ┆            ┆          ┆          │\n",
              "│            ┆            ┆            ┆ Want …     ┆ Want …     ┆            ┆          ┆          │\n",
              "│ GitHub,    ┆ GitHub,    ┆ 2 to 4     ┆ Worked     ┆ Worked     ┆ 2          ┆ Data Eng ┆ Daniel   │\n",
              "│ GitLab     ┆ GitLab     ┆ years      ┆ with in    ┆ with in    ┆            ┆ ineering ┆          │\n",
              "│            ┆            ┆            ┆ PAST       ┆ PAST       ┆            ┆          ┆          │\n",
              "│            ┆            ┆            ┆ years,     ┆ years,     ┆            ┆          ┆          │\n",
              "│            ┆            ┆            ┆ Want …     ┆ Want …     ┆            ┆          ┆          │\n",
              "│ null       ┆ null       ┆ null       ┆ Want to    ┆ Want to    ┆ 2          ┆ Data     ┆ Jennifer │\n",
              "│            ┆            ┆            ┆ work with  ┆ work with  ┆            ┆ Science  ┆          │\n",
              "│            ┆            ┆            ┆ in NEXT    ┆ in NEXT    ┆            ┆ & Analyt ┆          │\n",
              "│            ┆            ┆            ┆ years      ┆ years      ┆            ┆ ics      ┆          │\n",
              "│ GitLab     ┆ null       ┆ <2 years   ┆ Want to    ┆ Worked     ┆ 2          ┆ Data Eng ┆ Maria    │\n",
              "│            ┆            ┆            ┆ work with  ┆ with in    ┆            ┆ ineering ┆          │\n",
              "│            ┆            ┆            ┆ in NEXT    ┆ PAST       ┆            ┆          ┆          │\n",
              "│            ┆            ┆            ┆ years      ┆ years,     ┆            ┆          ┆          │\n",
              "│            ┆            ┆            ┆            ┆ Want …     ┆            ┆          ┆          │\n",
              "│ GitHub     ┆ GitHub     ┆ 2 to 4     ┆ Worked     ┆ Want to    ┆ 1          ┆ Data Eng ┆ Robert   │\n",
              "│            ┆            ┆ years      ┆ with in    ┆ work with  ┆            ┆ ineering ┆          │\n",
              "│            ┆            ┆            ┆ PAST       ┆ in NEXT    ┆            ┆          ┆          │\n",
              "│            ┆            ┆            ┆ years,     ┆ years      ┆            ┆          ┆          │\n",
              "│            ┆            ┆            ┆ Want …     ┆            ┆            ┆          ┆          │\n",
              "└────────────┴────────────┴────────────┴────────────┴────────────┴────────────┴──────────┴──────────┘"
            ],
            "text/html": [
              "<div><style>\n",
              ".dataframe > thead > tr > th,\n",
              ".dataframe > tbody > tr > td {\n",
              "  text-align: right;\n",
              "}\n",
              "</style>\n",
              "<small>shape: (5, 8)</small><table border=\"1\" class=\"dataframe\"><thead><tr><th>used_git_hosting_platform</th><th>current_git_hosting_platform</th><th>years_of_experience</th><th>past_next_github</th><th>past_next_gitlab</th><th>career_level</th><th>dao_pillar</th><th>alias</th></tr><tr><td>str</td><td>str</td><td>str</td><td>str</td><td>str</td><td>str</td><td>str</td><td>str</td></tr></thead><tbody><tr><td>&quot;GitHub, GitLab…</td><td>&quot;GitHub, GitLab…</td><td>&quot;4 to 6 years&quot;</td><td>&quot;Worked with in…</td><td>&quot;Worked with in…</td><td>&quot;2&quot;</td><td>&quot;Data Admin&quot;</td><td>&quot;Jose&quot;</td></tr><tr><td>&quot;GitHub, GitLab…</td><td>&quot;GitHub, GitLab…</td><td>&quot;2 to 4 years&quot;</td><td>&quot;Worked with in…</td><td>&quot;Worked with in…</td><td>&quot;2&quot;</td><td>&quot;Data Engineeri…</td><td>&quot;Daniel&quot;</td></tr><tr><td>null</td><td>null</td><td>null</td><td>&quot;Want to work w…</td><td>&quot;Want to work w…</td><td>&quot;2&quot;</td><td>&quot;Data Science &amp;…</td><td>&quot;Jennifer&quot;</td></tr><tr><td>&quot;GitLab&quot;</td><td>null</td><td>&quot;&lt;2 years&quot;</td><td>&quot;Want to work w…</td><td>&quot;Worked with in…</td><td>&quot;2&quot;</td><td>&quot;Data Engineeri…</td><td>&quot;Maria&quot;</td></tr><tr><td>&quot;GitHub&quot;</td><td>&quot;GitHub&quot;</td><td>&quot;2 to 4 years&quot;</td><td>&quot;Worked with in…</td><td>&quot;Want to work w…</td><td>&quot;1&quot;</td><td>&quot;Data Engineeri…</td><td>&quot;Robert&quot;</td></tr></tbody></table></div>"
            ]
          },
          "metadata": {},
          "execution_count": 9
        }
      ],
      "source": [
        "import polars as pl\n",
        "\n",
        "## Convert to a Polars DataFrame and render.\n",
        "from faker import Faker\n",
        "\n",
        "faker: Faker = Faker()\n",
        "\n",
        "df: pl.dataframe.frame.DataFrame = (\n",
        "    (\n",
        "        pl.from_records(\n",
        "            data=rows,\n",
        "            schema=df_columns_dtypes_dict,\n",
        "            orient=\"row\",\n",
        "        )\n",
        "        .drop(\"timestamp\", \"email_address\")\n",
        "        .slice(\n",
        "            1,\n",
        "        )\n",
        "    )\n",
        "    .with_columns(\n",
        "        [\n",
        "            pl.when(pl.col(pl.Utf8).str.lengths() == 0)\n",
        "            .then(None)\n",
        "            .otherwise(pl.col(pl.Utf8))\n",
        "            .keep_name()\n",
        "        ]\n",
        "    )\n",
        "    .with_columns(\n",
        "        pl.Series(\"alias\", [faker.unique.first_name() for _ in range(len(rows) - 1)])\n",
        "    )\n",
        ")\n",
        "\n",
        "ic(df.head())"
      ]
    },
    {
      "cell_type": "markdown",
      "metadata": {
        "id": "Wgv629u70VhF"
      },
      "source": [
        "This dataframe is used in the Bar Chart Diagrams and Survey Diagram."
      ]
    },
    {
      "cell_type": "markdown",
      "metadata": {
        "id": "6H-oKX3KmppA"
      },
      "source": [
        "## Data Validation\n",
        "Validate source data and verify notebook compatibility."
      ]
    },
    {
      "cell_type": "code",
      "execution_count": 10,
      "metadata": {
        "colab": {
          "base_uri": "https://localhost:8080/"
        },
        "id": "XUBgbuaAGRTi",
        "outputId": "75eeb9be-b835-4a4d-fc7a-e46152a6e63f"
      },
      "outputs": [
        {
          "output_type": "stream",
          "name": "stdout",
          "text": [
            "Notebook and Source compatibility check: Passed\n"
          ]
        }
      ],
      "source": [
        "from typing import Any, List\n",
        "\n",
        "\n",
        "def source_data_validation(column_name: str, expected_values_list: List[Any]) -> bool:\n",
        "    \"\"\"Checks if all values exists in the expected list.\n",
        "\n",
        "    Args:\n",
        "        column_name\n",
        "        expected_values_list\n",
        "\n",
        "    Returns:\n",
        "        True if all values passes condition\n",
        "\n",
        "    Raises:\n",
        "        None\n",
        "    \"\"\"\n",
        "\n",
        "    condition: pl.expr.expr.Expr = (pl.col(column_name)).is_in(expected_values_list)\n",
        "\n",
        "    return df.select([condition]).to_series().all()\n",
        "\n",
        "\n",
        "tmp_list: dict[str, bool] = {}\n",
        "\n",
        "tmp_list.update(\n",
        "    {\n",
        "        \"years_of_experience\": source_data_validation(\n",
        "            column_name=\"years_of_experience\",\n",
        "            expected_values_list=[_.value for _ in Eyears_of_experience] + [pl.Null],\n",
        "        )\n",
        "    }\n",
        ")  ## optional, accepts Null\n",
        "\n",
        "tmp_list.update(\n",
        "    {\n",
        "        \"past_next_github\": source_data_validation(\n",
        "            column_name=\"past_next_github\",\n",
        "            expected_values_list=[_.value for _ in Epast_next_all] + [pl.Null],\n",
        "        )\n",
        "    }\n",
        ")  ## optional, accepts Null\n",
        "\n",
        "tmp_list.update(\n",
        "    {\n",
        "        \"past_next_gitlab\": source_data_validation(\n",
        "            column_name=\"past_next_gitlab\",\n",
        "            expected_values_list=[_.value for _ in Epast_next_all] + [pl.Null],\n",
        "        )\n",
        "    }\n",
        ")\n",
        "\n",
        "tmp_list.update(\n",
        "    {\n",
        "        \"career_level\": source_data_validation(\n",
        "            column_name=\"career_level\",\n",
        "            expected_values_list=[_.value for _ in Ecareer_level],\n",
        "        )\n",
        "    }\n",
        ")  ## required\n",
        "\n",
        "tmp_list.update(\n",
        "    {\n",
        "        \"dao_pillar\": source_data_validation(\n",
        "            column_name=\"dao_pillar\",\n",
        "            expected_values_list=[_.value for _ in Edao_pillar],\n",
        "        )\n",
        "    }\n",
        ")  ## required\n",
        "\n",
        "compatibility_check_message: str = \"Notebook and Source compatibility check: \"\n",
        "\n",
        "if all(tmp_list) is True:\n",
        "    print(compatibility_check_message + \"Passed\")\n",
        "    # print(\"Passed columns:\", [_[0] for _ in tmp_list.items() if _[1]])\n",
        "else:\n",
        "    print(compatibility_check_message + \"Failed\")\n",
        "    print(\n",
        "        \"Do not proceed.\\n\"\n",
        "        + \"Review source data for changes and align notebook code.\\n\"\n",
        "        + \"Finally, submit a PR (GitHub) or MR (GitLab) for notebook versioning.\"\n",
        "    )\n",
        "    print(\"Failed columns:\", [_[0] for _ in tmp_list.items() if not _[1]])"
      ]
    },
    {
      "cell_type": "markdown",
      "source": [
        "`NOTE`:\n",
        "<hr>\n",
        "\n",
        "Do not commit data with personally identifiable information (PII). <br>\n",
        "Never work directly with the Google Sheets data. <br>\n",
        "Always fake/dummify/mask the data prior to any manipulation."
      ],
      "metadata": {
        "id": "KoyGc2V7nXkq"
      }
    },
    {
      "cell_type": "code",
      "source": [
        "df.write_parquet(file=output_data_path / \"base_data.parquet\", use_pyarrow=True)"
      ],
      "metadata": {
        "id": "yTHVEJIFnIwe"
      },
      "execution_count": 11,
      "outputs": []
    },
    {
      "cell_type": "markdown",
      "source": [
        "---\n",
        "---"
      ],
      "metadata": {
        "id": "_-9bGsbPeFDU"
      }
    },
    {
      "cell_type": "markdown",
      "source": [
        "# Other Answers"
      ],
      "metadata": {
        "id": "LLFbMe5gIZLY"
      }
    },
    {
      "cell_type": "code",
      "execution_count": 12,
      "metadata": {
        "id": "V9_DdoGbJn9V"
      },
      "outputs": [],
      "source": [
        "from typing import Optional, Set\n",
        "\n",
        "# Count other tools for future use.\n",
        "\n",
        "\n",
        "def get_other_answers(\n",
        "    df: pl.dataframe.frame.DataFrame,\n",
        "    column_name: str,\n",
        "    reference_list: List[str],\n",
        "    *args,\n",
        "    **kwargs,\n",
        ") -> Optional[pl.dataframe.frame.DataFrame]:\n",
        "    \"\"\"Prints a list of answers given in the open form.\n",
        "\n",
        "    Args:\n",
        "        column_name: column name string\n",
        "        reference_list: list of items to ignore\n",
        "        debug: if True, then performs a dry_run, saving to file disabled\n",
        "        verbose: show process\n",
        "\n",
        "    Returns:\n",
        "        None\n",
        "\n",
        "    Raises:\n",
        "        None\n",
        "    \"\"\"\n",
        "\n",
        "    other_answer_list: List[str] = []\n",
        "\n",
        "    # answer_list: List[str] = [_.value for _ in Egit_hosting_platform] + [\"None\"]\n",
        "\n",
        "    for _ in df.select(column_name).rows():\n",
        "        answer_tmp_str: str = str([a for a in _][0])\n",
        "        answer_tmp_list: Set[str] = set(answer_tmp_str.split(\", \"))\n",
        "\n",
        "        for a in answer_tmp_list:\n",
        "            if a not in reference_list:\n",
        "                other_answer_list.append(a.lower())\n",
        "\n",
        "    other_answer_str: str = \", \".join(sorted(set(other_answer_list)))\n",
        "    ic(f\"Other Answer(s) in {column_name}: {other_answer_str}\")\n",
        "\n",
        "\n",
        "## --- Debug ---"
      ]
    },
    {
      "cell_type": "code",
      "execution_count": 13,
      "metadata": {
        "colab": {
          "base_uri": "https://localhost:8080/"
        },
        "id": "JPk5TGALXERZ",
        "outputId": "19b2cbef-debf-48d1-c630-3a7f1c384a9d"
      },
      "outputs": [
        {
          "output_type": "stream",
          "name": "stderr",
          "text": [
            "ic| f\"Other Answer(s) in {column_name}: {other_answer_str}\": ('Other Answer(s) in used_git_hosting_platform: aws codecommit, bitbucker, '\n",
            "                                                              'bitbucket, codeberg, git only ')\n",
            "ic| f\"Other Answer(s) in {column_name}: {other_answer_str}\": ('Other Answer(s) in current_git_hosting_platform: aws codecommit, bitbucket, '\n",
            "                                                              'codeberg')\n"
          ]
        }
      ],
      "source": [
        "get_other_answers(\n",
        "    df=df,\n",
        "    column_name=\"used_git_hosting_platform\",\n",
        "    reference_list=([_.value for _ in Egit_hosting_platform] + [\"None\"]),\n",
        ")\n",
        "\n",
        "get_other_answers(\n",
        "    df=df,\n",
        "    column_name=\"current_git_hosting_platform\",\n",
        "    reference_list=([_.value for _ in Egit_hosting_platform] + [\"None\"]),\n",
        ")"
      ]
    },
    {
      "cell_type": "markdown",
      "source": [
        "EOF"
      ],
      "metadata": {
        "id": "Fd_Q4ptohFma"
      }
    }
  ],
  "metadata": {
    "colab": {
      "provenance": []
    },
    "kernelspec": {
      "display_name": "Python 3",
      "name": "python3"
    },
    "language_info": {
      "name": "python"
    }
  },
  "nbformat": 4,
  "nbformat_minor": 0
}