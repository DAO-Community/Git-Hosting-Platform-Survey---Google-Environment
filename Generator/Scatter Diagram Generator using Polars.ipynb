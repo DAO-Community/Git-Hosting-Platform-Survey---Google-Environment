{
  "cells": [
    {
      "cell_type": "markdown",
      "metadata": {
        "id": "DZXzK3cFlkb_"
      },
      "source": [
        "# DAO Community Git Hosting Platform Survey Report Data Generator using Python-Polars in Google Environment\n",
        "---\n",
        "## Scatter Diagram Generator using Polars"
      ]
    },
    {
      "cell_type": "markdown",
      "metadata": {
        "id": "Hg-NFKO-yrPS"
      },
      "source": [
        "\n",
        "![](https://img.shields.io/badge/Version%201.0.0-333333?style=for-the-badge)![](https://img.shields.io/badge/Made%20with-808080?style=for-the-badge)[![](https://img.shields.io/badge/Google%20Colaboratory-4d4d4d?style=for-the-badge&logo=googlecolab)](https://docs.jupyter.org/en/latest/)![](https://img.shields.io/badge/And-808080?style=for-the-badge)[![](https://img.shields.io/badge/Python%203.10.12-306998?style=for-the-badge&logo=Python&logoColor=FFD43B)](https://docs.python.org/3.10/)[![](https://img.shields.io/badge/Polars%200.17.3-FFD43B?style=for-the-badge&logo=Polars&logoColor=306998)](https://docs.python.org/3.11/)\n",
        "\n",
        "![](https://img.shields.io/badge/Repo-808080?style=for-the-badge)[![](https://img.shields.io/badge/GitHub-6E5494?style=for-the-badge&logo=GitHub)](https://github.com/joshua-lagasca/DAO-Community-Git-Hosting-Platform-Survey---Google-Environment)"
      ]
    },
    {
      "cell_type": "code",
      "execution_count": 1,
      "metadata": {
        "id": "EdpZA1a0Rwli"
      },
      "outputs": [],
      "source": [
        "from __future__ import annotations"
      ]
    },
    {
      "cell_type": "markdown",
      "source": [
        "# Mount Drive"
      ],
      "metadata": {
        "id": "2JFDpeT1CDV3"
      }
    },
    {
      "cell_type": "code",
      "execution_count": 2,
      "metadata": {
        "colab": {
          "base_uri": "https://localhost:8080/"
        },
        "outputId": "9d27b3b8-e939-411e-8713-e61688e091ff",
        "id": "fVaGDes-CDV4"
      },
      "outputs": [
        {
          "output_type": "stream",
          "name": "stdout",
          "text": [
            "Mounted at /gdrive\n"
          ]
        }
      ],
      "source": [
        "from pathlib import Path\n",
        "\n",
        "from google.colab import drive\n",
        "\n",
        "mount_point: Path = Path(\"/gdrive\")\n",
        "\n",
        "drive.mount(mountpoint=str(mount_point.resolve()), force_remount=True)"
      ]
    },
    {
      "cell_type": "code",
      "execution_count": 3,
      "metadata": {
        "id": "L3MMA-eoCDV5"
      },
      "outputs": [],
      "source": [
        "base_path: Path = (\n",
        "    mount_point\n",
        "    / \"MyDrive\"\n",
        "    / \"Survey\"\n",
        "    / \"DAO Community Git Hosting Platform Survey - Google Environment\"\n",
        ")\n",
        "base_path.mkdir(parents=False, exist_ok=True)\n",
        "\n",
        "output_data_path: Path = base_path / \"Data\"\n",
        "output_data_path.mkdir(parents=False, exist_ok=True)"
      ]
    },
    {
      "cell_type": "code",
      "source": [
        "## NOTE: import-ipynb cannot work with notebooks in Google Drive, thus the workaround below.\n",
        "type_objects_module = base_path / \"Generator\" / \"Type Objects Polars.ipynb\"\n",
        "\n",
        "if type_objects_module.exists():\n",
        "    type_objects_module: str = f\"{type_objects_module}\"\n",
        "    %run -n \"$type_objects_module\"\n",
        "    \"\"\"Creates the ff:\n",
        "        Eyears_of_experience,\n",
        "        Egit_hosting_platform,\n",
        "        Ecareer_level,\n",
        "        Edao_pillar,\n",
        "        Epast_next,\n",
        "        Epast_next_all,\n",
        "        TDcolumns,\n",
        "        df_columns_dtypes_dict\n",
        "    \"\"\"\n",
        "else:\n",
        "    print(f\"Module '{type_objects_module}' does not exist.\")"
      ],
      "metadata": {
        "id": "zYm-ZtqNwl2v"
      },
      "execution_count": 4,
      "outputs": []
    },
    {
      "cell_type": "code",
      "source": [
        "%%capture --no-stderr\n",
        "!pip show icecream 1>/dev/null; \\\n",
        "[ $? != 0 ] && { pip install icecream; };\n",
        "from icecream import ic"
      ],
      "metadata": {
        "id": "1EjP4Ch8RPNp"
      },
      "execution_count": 5,
      "outputs": []
    },
    {
      "cell_type": "code",
      "execution_count": 6,
      "metadata": {
        "colab": {
          "base_uri": "https://localhost:8080/"
        },
        "id": "KmxWN5-MjOWy",
        "outputId": "c58396d5-c3fa-482a-9351-6f490046d209"
      },
      "outputs": [
        {
          "output_type": "stream",
          "name": "stderr",
          "text": [
            "ic| df.head(): shape: (5, 8)\n",
            "               ┌────────────┬────────────┬────────────┬────────────┬────────────┬────────────┬──────────┬──────────┐\n",
            "               │ used_git_h ┆ current_gi ┆ years_of_e ┆ past_next_ ┆ past_next_ ┆ career_lev ┆ dao_pill ┆ alias    │\n",
            "               │ osting_pla ┆ t_hosting_ ┆ xperience  ┆ github     ┆ gitlab     ┆ el         ┆ ar       ┆ ---      │\n",
            "               │ tform      ┆ platform   ┆ ---        ┆ ---        ┆ ---        ┆ ---        ┆ ---      ┆ str      │\n",
            "               │ ---        ┆ ---        ┆ str        ┆ str        ┆ str        ┆ str        ┆ str      ┆          │\n",
            "               │ str        ┆ str        ┆            ┆            ┆            ┆            ┆          ┆          │\n",
            "               ╞════════════╪════════════╪════════════╪════════════╪════════════╪════════════╪══════════╪══════════╡\n",
            "               │ GitHub,    ┆ GitHub,    ┆ 4 to 6     ┆ Worked     ┆ Worked     ┆ 2          ┆ Data     ┆ Jose     │\n",
            "               │ GitLab,    ┆ GitLab,    ┆ years      ┆ with in    ┆ with in    ┆            ┆ Admin    ┆          │\n",
            "               │ Codeberg   ┆ Codeberg   ┆            ┆ PAST       ┆ PAST       ┆            ┆          ┆          │\n",
            "               │            ┆            ┆            ┆ years,     ┆ years,     ┆            ┆          ┆          │\n",
            "               │            ┆            ┆            ┆ Want …     ┆ Want …     ┆            ┆          ┆          │\n",
            "               │ GitHub,    ┆ GitHub,    ┆ 2 to 4     ┆ Worked     ┆ Worked     ┆ 2          ┆ Data Eng ┆ Daniel   │\n",
            "               │ GitLab     ┆ GitLab     ┆ years      ┆ with in    ┆ with in    ┆            ┆ ineering ┆          │\n",
            "               │            ┆            ┆            ┆ PAST       ┆ PAST       ┆            ┆          ┆          │\n",
            "               │            ┆            ┆            ┆ years,     ┆ years,     ┆            ┆          ┆          │\n",
            "               │            ┆            ┆            ┆ Want …     ┆ Want …     ┆            ┆          ┆          │\n",
            "               │ null       ┆ null       ┆ null       ┆ Want to    ┆ Want to    ┆ 2          ┆ Data     ┆ Jennifer │\n",
            "               │            ┆            ┆            ┆ work with  ┆ work with  ┆            ┆ Science  ┆          │\n",
            "               │            ┆            ┆            ┆ in NEXT    ┆ in NEXT    ┆            ┆ & Analyt ┆          │\n",
            "               │            ┆            ┆            ┆ years      ┆ years      ┆            ┆ ics      ┆          │\n",
            "               │ GitLab     ┆ null       ┆ <2 years   ┆ Want to    ┆ Worked     ┆ 2          ┆ Data Eng ┆ Maria    │\n",
            "               │            ┆            ┆            ┆ work with  ┆ with in    ┆            ┆ ineering ┆          │\n",
            "               │            ┆            ┆            ┆ in NEXT    ┆ PAST       ┆            ┆          ┆          │\n",
            "               │            ┆            ┆            ┆ years      ┆ years,     ┆            ┆          ┆          │\n",
            "               │            ┆            ┆            ┆            ┆ Want …     ┆            ┆          ┆          │\n",
            "               │ GitHub     ┆ GitHub     ┆ 2 to 4     ┆ Worked     ┆ Want to    ┆ 1          ┆ Data Eng ┆ Robert   │\n",
            "               │            ┆            ┆ years      ┆ with in    ┆ work with  ┆            ┆ ineering ┆          │\n",
            "               │            ┆            ┆            ┆ PAST       ┆ in NEXT    ┆            ┆          ┆          │\n",
            "               │            ┆            ┆            ┆ years,     ┆ years      ┆            ┆          ┆          │\n",
            "               │            ┆            ┆            ┆ Want …     ┆            ┆            ┆          ┆          │\n",
            "               └────────────┴────────────┴────────────┴────────────┴────────────┴────────────┴──────────┴──────────┘\n",
            "ic| df.shape: (105, 8)\n"
          ]
        },
        {
          "output_type": "execute_result",
          "data": {
            "text/plain": [
              "(105, 8)"
            ]
          },
          "metadata": {},
          "execution_count": 6
        }
      ],
      "source": [
        "import polars as pl\n",
        "\n",
        "df: pl.dataframe.frame.DataFrame = pl.read_parquet(\n",
        "    source=output_data_path / \"base_data.parquet\", use_pyarrow=True\n",
        ")\n",
        "ic(df.head())\n",
        "ic(df.shape)"
      ]
    },
    {
      "cell_type": "markdown",
      "source": [
        "---\n",
        "---"
      ],
      "metadata": {
        "id": "LFw2t8gLHiT9"
      }
    },
    {
      "cell_type": "markdown",
      "source": [
        "## Scatter\n",
        "**Scatter 18.8.0** <br>\n",
        "See [Flourish Sankey Diagram](https://app.flourish.studio/@flourish/sankey) for requirements. <br>\n",
        "<hr>\n",
        "\n",
        "### `Data` Tab\n",
        "#### Order\n",
        "| A | B | C | D |\n",
        "| --- | --- | --- | --- |\n",
        "| past_next | counts | tool | dao_pillar | years_of_experience | <br>\n",
        "<br>\n",
        "\n",
        "#### Configuration\n",
        "- **X values: B**\n",
        "- **Y values: C**\n",
        "- **Name: A**\n",
        "- **Color: A**\n",
        "- Size:\n",
        "- Shape:\n",
        "- **Grid of charts (facet): D**\n",
        "- Time:\n",
        "- **Series (connect with line): C**\n",
        "- **Filter control: E**\n",
        "- Info for popups:\n"
      ],
      "metadata": {
        "id": "jLT2s6gUOSRC"
      }
    },
    {
      "cell_type": "code",
      "execution_count": 7,
      "metadata": {
        "id": "wNksoIE8vNvO"
      },
      "outputs": [],
      "source": [
        "from typing import Any, Literal, Mapping, Optional, TypedDict\n",
        "\n",
        "\n",
        "def scatter_maker(\n",
        "    df: pl.dataframe.frame.DataFrame, tools_list_object: Literal[Any], *args, **kwargs\n",
        ") -> Optional[pl.dataframe.frame.DataFrame]:\n",
        "    \"\"\"Creates json and parquet files for scatter diagrams.\n",
        "\n",
        "    Args:\n",
        "        Required:\n",
        "            df: target Polars dataframe\n",
        "            #value_counts_column_name\n",
        "        Optional:\n",
        "            group_column_name\n",
        "            row_filter_column_name\n",
        "            debug: if True, then performs a dry run, saving to file disabled\n",
        "            verbose: if True, then shows process\n",
        "\n",
        "    Returns:\n",
        "        Optional:\n",
        "            Given: debug\n",
        "            When:  True\n",
        "            Then:  Polars DataFrame\n",
        "\n",
        "    Raises:\n",
        "        None\n",
        "    \"\"\"\n",
        "\n",
        "    ## Prepare Args/Kwargs\n",
        "    class TDdefaultKwargs(TypedDict):\n",
        "        group_column_name: str\n",
        "        row_filter_column_name: str\n",
        "        debug: bool\n",
        "        verbose: bool\n",
        "\n",
        "    defaultKwargs: TDdefaultKwargs = TDdefaultKwargs(\n",
        "        group_column_name=\"All respondents\",\n",
        "        row_filter_column_name=\"All respondents\",\n",
        "        debug=False,\n",
        "        verbose=False,\n",
        "    )\n",
        "    allKwargs: Mapping[Any, Any] = {**defaultKwargs, **kwargs}\n",
        "\n",
        "    group_column_name: str = allKwargs[\"group_column_name\"]\n",
        "    row_filter_column_name: str = allKwargs[\"row_filter_column_name\"]\n",
        "    debug: bool = allKwargs[\"debug\"]\n",
        "    verbose: bool = allKwargs[\"verbose\"]\n",
        "\n",
        "    ## Prepare Base DataFrame\n",
        "    class TDscatter(TypedDict):\n",
        "        past_next: pl.DataType\n",
        "        counts: pl.DataType\n",
        "        tool: pl.DataType\n",
        "        group: pl.DataType\n",
        "        row_filter: pl.DataType\n",
        "\n",
        "    scatter_dataframe_type_dict: TDscatter = TDscatter(\n",
        "        past_next=pl.Utf8,\n",
        "        counts=pl.Float64,\n",
        "        tool=pl.Utf8,\n",
        "        group=pl.Utf8,\n",
        "        row_filter=pl.Utf8,\n",
        "    )\n",
        "\n",
        "    df_out: pl.dataframe.frame.DataFrame = pl.DataFrame(\n",
        "        schema=scatter_dataframe_type_dict\n",
        "    )\n",
        "\n",
        "    def generator(\n",
        "        df: pl.dataframe.frame.DataFrame,\n",
        "        tools_list_object: Literal[Enum],\n",
        "        group_object_value: str,\n",
        "        row_filter_object_value: str,\n",
        "    ) -> Optional[pl.dataframe.frame.DataFrame]:\n",
        "        \"\"\"Appends results to df_out.\n",
        "\n",
        "        Globals:\n",
        "            tools_list_object\n",
        "            verbose\n",
        "            df_out\n",
        "\n",
        "        Args:\n",
        "            df\n",
        "            group_object_value\n",
        "            row_filter_object_value\n",
        "\n",
        "        Returns:\n",
        "            None\n",
        "\n",
        "        Raises:\n",
        "            None\n",
        "        \"\"\"\n",
        "        for tool_object in tools_list_object:\n",
        "            past_next_column_expr: pl.expr.expr.Expr = pl.col(\n",
        "                \"past_next_\" + tool_object.name\n",
        "            )\n",
        "\n",
        "            df_tmp_base: pl.dataframe.frame.DataFrame = df.filter(\n",
        "                past_next_column_expr.str.contains(\n",
        "                    \"|\".join(\n",
        "                        [Epast_next_all.next.value, Epast_next_all.past_next.value]\n",
        "                    )\n",
        "                )\n",
        "            )\n",
        "\n",
        "            df_height: int = df_tmp_base.height\n",
        "\n",
        "            df_tmp: pl.dataframe.frame.DataFrame = (\n",
        "                df_tmp_base.get_column(\"past_next_\" + tool_object.name)\n",
        "                .value_counts()\n",
        "                .with_columns(\n",
        "                    pl.when(past_next_column_expr == Epast_next_all.next.value)\n",
        "                    .then(pl.lit(\"Admired\"))\n",
        "                    .otherwise(pl.lit(\"Desired\"))\n",
        "                    .keep_name()\n",
        "                )\n",
        "                .with_columns(\n",
        "                    pl.col(\"counts\")\n",
        "                    .apply(\n",
        "                        lambda _: _ / df_height * 100,\n",
        "                        skip_nulls=True,\n",
        "                        return_dtype=pl.Float64,\n",
        "                    )\n",
        "                    .round(2),\n",
        "                    past_next_column_expr.fill_null(\"None\"),\n",
        "                )\n",
        "                .with_columns(\n",
        "                    tool=pl.lit(tool_object.value),\n",
        "                    group=pl.lit(group_object_value),\n",
        "                    row_filter=pl.lit(row_filter_object_value),\n",
        "                )\n",
        "                .rename({\"past_next_\" + tool_object.name: \"past_next\"})\n",
        "            )\n",
        "\n",
        "            if verbose:\n",
        "                ic(tool_object.value)\n",
        "                print()\n",
        "                ic(df_height)\n",
        "                print()\n",
        "                ic(df_tmp)\n",
        "                print()\n",
        "\n",
        "            if not df_tmp.is_empty():\n",
        "                if debug:\n",
        "                    return df_tmp\n",
        "                else:\n",
        "                    df_out.extend(df_tmp)\n",
        "\n",
        "    ## --- Debug ---\n",
        "    if debug:\n",
        "\n",
        "        class Escatter_metasyntactic(Enum):\n",
        "            foo: str = \"Foo\"\n",
        "\n",
        "        df_test_base: pl.dataframe.frame.DataFrame = pl.DataFrame(\n",
        "            {\n",
        "                \"past_next_foo\": [\n",
        "                    \"Want to work with in NEXT years\",\n",
        "                    \"Want to work with in NEXT years\",\n",
        "                    \"Worked with in PAST years, Want to work with in NEXT years\",\n",
        "                    \"Worked with in PAST years, Want to work with in NEXT years\",\n",
        "                    \"Worked with in PAST years, Want to work with in NEXT years\",\n",
        "                ]\n",
        "            }\n",
        "        )\n",
        "\n",
        "        df_validate: pl.dataframe.frame.DataFrame = pl.DataFrame(\n",
        "            {\n",
        "                \"past_next\": [\"Desired\", \"Admired\"],\n",
        "                \"counts\": [60.0, 40.0],\n",
        "                \"tool\": [\"Foo\", \"Foo\"],\n",
        "            }\n",
        "        )\n",
        "\n",
        "        df_test: pl.dataframe.frame.DataFrame = pl.DataFrame(\n",
        "            schema={\"past_next\": pl.Utf8, \"counts\": pl.Float64, \"tool\": pl.Utf8}\n",
        "        )\n",
        "\n",
        "        df_test.extend(\n",
        "            generator(\n",
        "                df=df_test_base,\n",
        "                tools_list_object=Escatter_metasyntactic,\n",
        "                group_object_value=\"All respondents\",\n",
        "                row_filter_object_value=\"All respondents\",\n",
        "            ).drop([\"group\", \"row_filter\"])\n",
        "        )\n",
        "\n",
        "        from polars.testing import assert_frame_equal\n",
        "\n",
        "        assert_frame_equal(\n",
        "            df_test.sort(by=\"counts\", descending=True),\n",
        "            df_validate.sort(by=\"counts\", descending=True),\n",
        "        )\n",
        "    ## --- Debug ---\n",
        "\n",
        "    ## All Respondents\n",
        "    if verbose:\n",
        "        print(\"All Respondents\")\n",
        "    generator(\n",
        "        df=df,\n",
        "        tools_list_object=tools_list_object,\n",
        "        group_object_value=\"All respondents\",\n",
        "        row_filter_object_value=\"All respondents\",\n",
        "    )\n",
        "\n",
        "    ## By Category\n",
        "    if verbose:\n",
        "        print(\"By Category\")\n",
        "    for group_object in Edao_pillar:\n",
        "        for row_filter_object in Eyears_of_experience:\n",
        "            if verbose:\n",
        "                ic(group_object.value)\n",
        "                ic(row_filter_object.value)\n",
        "\n",
        "            generator(\n",
        "                df=(\n",
        "                    df.filter(pl.col(\"dao_pillar\") == group_object.value).filter(\n",
        "                        pl.col(\"years_of_experience\") == row_filter_object.value\n",
        "                    )\n",
        "                ),\n",
        "                tools_list_object=tools_list_object,\n",
        "                group_object_value=group_object.value,\n",
        "                row_filter_object_value=row_filter_object.value,\n",
        "            )\n",
        "\n",
        "    if verbose:\n",
        "        print(\"print(df_out)\")\n",
        "        exec(\"print(df_out)\")\n",
        "        print()\n",
        "\n",
        "    if debug:\n",
        "        return df_out\n",
        "    else:\n",
        "        ## Prepare Base Path\n",
        "        path_scatter: Path = output_data_path / \"Scatter Diagrams\"\n",
        "        path_scatter.mkdir(parents=False, exist_ok=True)\n",
        "\n",
        "        df_out.write_json(\n",
        "            file=path_scatter / \"scatter-main.json\", pretty=True, row_oriented=True\n",
        "        )"
      ]
    },
    {
      "cell_type": "markdown",
      "source": [
        "### Dry Run"
      ],
      "metadata": {
        "id": "N3Qh85kGRg-V"
      }
    },
    {
      "cell_type": "code",
      "source": [
        "_: Any = scatter_maker(\n",
        "    df=df, tools_list_object=Egit_hosting_platform, debug=True, verbose=True\n",
        ")"
      ],
      "metadata": {
        "colab": {
          "base_uri": "https://localhost:8080/"
        },
        "id": "HTF_wanUpiy1",
        "outputId": "9ecf00e4-ea5d-4e5c-ac69-b797994799ec"
      },
      "execution_count": 8,
      "outputs": [
        {
          "output_type": "stream",
          "name": "stderr",
          "text": [
            "ic| tool_object.value: 'Foo'\n",
            "ic| df_height: 5\n",
            "ic| df_tmp: shape: (2, 5)\n",
            "            ┌───────────┬────────┬──────┬─────────────────┬─────────────────┐\n",
            "            │ past_next ┆ counts ┆ tool ┆ "
          ]
        },
        {
          "output_type": "stream",
          "name": "stdout",
          "text": [
            "\n",
            "\n"
          ]
        },
        {
          "output_type": "stream",
          "name": "stderr",
          "text": [
            "group           ┆ row_filter      │\n",
            "            │ ---       ┆ ---    ┆ ---  ┆ ---             ┆ ---             │\n",
            "            │ str       ┆ f64    ┆ str  ┆ str             ┆ str             │\n",
            "            ╞═══════════╪════════╪══════╪═════════════════╪═════════════════╡\n",
            "            │ Desired   ┆ 60.0   ┆ Foo  ┆ All respondents ┆ All respondents │\n",
            "            │ Admired   ┆ 40.0   ┆ Foo  ┆ All respondents ┆ All respondents │\n",
            "            └───────────┴────────┴──────┴─────────────────┴─────────────────┘\n",
            "ic| tool_object.value: 'GitHub'\n",
            "ic| df_height: 92\n",
            "ic| df_tmp: shape: (2, "
          ]
        },
        {
          "output_type": "stream",
          "name": "stdout",
          "text": [
            "\n",
            "All Respondents\n",
            "\n",
            "\n"
          ]
        },
        {
          "output_type": "stream",
          "name": "stderr",
          "text": [
            "5)\n",
            "            ┌───────────┬────────┬────────┬─────────────────┬─────────────────┐\n",
            "            │ past_next ┆ counts ┆ tool   ┆ group           ┆ row_filter      │\n",
            "            │ ---       ┆ ---    ┆ ---    ┆ ---             ┆ ---             │\n",
            "            │ str       ┆ f64    ┆ str    ┆ str             ┆ str             │\n",
            "            ╞═══════════╪════════╪════════╪═════════════════╪═════════════════╡\n",
            "            │ Admired   ┆ 43.48  ┆ GitHub ┆ All respondents ┆ All respondents │\n",
            "            │ Desired   ┆ 56.52  ┆ GitHub ┆ All respondents ┆ All respondents │\n",
            "            └───────────┴────────┴────────┴─────────────────┴─────────────────┘\n",
            "ic| group_object.value: 'Data Admin'\n",
            "ic| row_filter_object.value: '<2 years'\n",
            "ic| tool_object.value: 'GitHub'\n",
            "ic| df_height: 14\n",
            "ic|"
          ]
        },
        {
          "output_type": "stream",
          "name": "stdout",
          "text": [
            "\n",
            "By Category\n",
            "\n",
            "\n"
          ]
        },
        {
          "output_type": "stream",
          "name": "stderr",
          "text": [
            " df_tmp: shape: (2, 5)\n",
            "            ┌───────────┬────────┬────────┬────────────┬────────────┐\n",
            "            │ past_next ┆ counts ┆ tool   ┆ group      ┆ row_filter │\n",
            "            │ ---       ┆ ---    ┆ ---    ┆ ---        ┆ ---        │\n",
            "            │ str       ┆ f64    ┆ str    ┆ str        ┆ str        │\n",
            "            ╞═══════════╪════════╪════════╪════════════╪════════════╡\n",
            "            │ Admired   ┆ 50.0   ┆ GitHub ┆ Data Admin ┆ <2 years   │\n",
            "            │ Desired   ┆ 50.0   ┆ GitHub ┆ Data Admin ┆ <2 years   │\n",
            "            └───────────┴────────┴────────┴────────────┴────────────┘\n",
            "ic| group_object.value: 'Data Admin'\n",
            "ic| row_filter_object.value: '2 to 4 years'\n",
            "ic| tool_object.value: 'GitHub'\n",
            "ic| df_height: 6\n",
            "ic| df_tmp: shape: (2, 5)\n",
            "            ┌───────────┬───"
          ]
        },
        {
          "output_type": "stream",
          "name": "stdout",
          "text": [
            "\n",
            "\n",
            "\n"
          ]
        },
        {
          "output_type": "stream",
          "name": "stderr",
          "text": [
            "─────┬────────┬────────────┬──────────────┐\n",
            "            │ past_next ┆ counts ┆ tool   ┆ group      ┆ row_filter   │\n",
            "            │ ---       ┆ ---    ┆ ---    ┆ ---        ┆ ---          │\n",
            "            │ str       ┆ f64    ┆ str    ┆ str        ┆ str          │\n",
            "            ╞═══════════╪════════╪════════╪════════════╪══════════════╡\n",
            "            │ Admired   ┆ 66.67  ┆ GitHub ┆ Data Admin ┆ 2 to 4 years │\n",
            "            │ Desired   ┆ 33.33  ┆ GitHub ┆ Data Admin ┆ 2 to 4 years │\n",
            "            └───────────┴────────┴────────┴────────────┴──────────────┘\n",
            "ic| group_object.value: 'Data Admin'\n",
            "ic| row_filter_object.value: '4 to 6 years'\n",
            "ic| tool_object.value: 'GitHub'\n",
            "ic| df_height: 1\n",
            "ic| df_tmp: shape: (1, 5)\n",
            "            ┌───────────┬────────┬──────"
          ]
        },
        {
          "output_type": "stream",
          "name": "stdout",
          "text": [
            "\n",
            "\n",
            "\n"
          ]
        },
        {
          "output_type": "stream",
          "name": "stderr",
          "text": [
            "──┬────────────┬──────────────┐\n",
            "            │ past_next ┆ counts ┆ tool   ┆ group      ┆ row_filter   │\n",
            "            │ ---       ┆ ---    ┆ ---    ┆ ---        ┆ ---          │\n",
            "            │ str       ┆ f64    ┆ str    ┆ str        ┆ str          │\n",
            "            ╞═══════════╪════════╪════════╪════════════╪══════════════╡\n",
            "            │ Desired   ┆ 100.0  ┆ GitHub ┆ Data Admin ┆ 4 to 6 years │\n",
            "            └───────────┴────────┴────────┴────────────┴──────────────┘\n",
            "ic| group_object.value: 'Data Admin'\n",
            "ic| row_filter_object.value: '8 to 10 years'\n",
            "ic| tool_object.value: 'GitHub'\n",
            "ic| df_height: 0\n",
            "ic| df_tmp: shape: (0, 5)\n",
            "            ┌───────────┬────────┬──────┬───────┬────────────"
          ]
        },
        {
          "output_type": "stream",
          "name": "stdout",
          "text": [
            "\n",
            "\n",
            "\n"
          ]
        },
        {
          "output_type": "stream",
          "name": "stderr",
          "text": [
            "┐\n",
            "            │ past_next ┆ counts ┆ tool ┆ group ┆ row_filter │\n",
            "            │ ---       ┆ ---    ┆ ---  ┆ ---   ┆ ---        │\n",
            "            │ str       ┆ f64    ┆ str  ┆ str   ┆ str        │\n",
            "            ╞═══════════╪════════╪══════╪═══════╪════════════╡\n",
            "            └───────────┴────────┴──────┴───────┴────────────┘\n",
            "ic| tool_object.value: 'GitLab'\n",
            "ic| df_height: 0\n",
            "ic| df_tmp: shape: (0, 5)\n",
            "            ┌───────────┬────────┬──────┬───────┬────────────┐\n",
            "            │ past_next ┆ counts ┆ tool ┆ group ┆ row_filter │\n",
            "            │ ---       ┆ ---    ┆ ---  ┆ ---   ┆ "
          ]
        },
        {
          "output_type": "stream",
          "name": "stdout",
          "text": [
            "\n",
            "\n",
            "\n"
          ]
        },
        {
          "output_type": "stream",
          "name": "stderr",
          "text": [
            "---        │\n",
            "            │ str       ┆ f64    ┆ str  ┆ str   ┆ str        │\n",
            "            ╞═══════════╪════════╪══════╪═══════╪════════════╡\n",
            "            └───────────┴────────┴──────┴───────┴────────────┘\n",
            "ic| group_object.value: 'Data Admin'\n",
            "ic| row_filter_object.value: '10+ years'\n",
            "ic| tool_object.value: 'GitHub'\n",
            "ic| df_height: 0\n",
            "ic| df_tmp: shape: (0, 5)\n",
            "            ┌───────────┬────────┬──────┬───────┬────────────┐\n",
            "            "
          ]
        },
        {
          "output_type": "stream",
          "name": "stdout",
          "text": [
            "\n",
            "\n",
            "\n"
          ]
        },
        {
          "output_type": "stream",
          "name": "stderr",
          "text": [
            "│ past_next ┆ counts ┆ tool ┆ group ┆ row_filter │\n",
            "            │ ---       ┆ ---    ┆ ---  ┆ ---   ┆ ---        │\n",
            "            │ str       ┆ f64    ┆ str  ┆ str   ┆ str        │\n",
            "            ╞═══════════╪════════╪══════╪═══════╪════════════╡\n",
            "            └───────────┴────────┴──────┴───────┴────────────┘\n",
            "ic| tool_object.value: 'GitLab'\n",
            "ic| df_height: 0\n",
            "ic| df_tmp: shape: (0, 5)\n",
            "            ┌───────────┬────────┬──────┬───────┬────────────┐\n",
            "            │ past_next ┆ counts ┆ tool ┆ group ┆ row_filter │\n",
            "            │ ---       ┆ ---    ┆ ---  ┆ ---   ┆ "
          ]
        },
        {
          "output_type": "stream",
          "name": "stdout",
          "text": [
            "\n",
            "\n",
            "\n"
          ]
        },
        {
          "output_type": "stream",
          "name": "stderr",
          "text": [
            "---        │\n",
            "            │ str       ┆ f64    ┆ str  ┆ str   ┆ str        │\n",
            "            ╞═══════════╪════════╪══════╪═══════╪════════════╡\n",
            "            └───────────┴────────┴──────┴───────┴────────────┘\n",
            "ic| group_object.value: 'Data Engineering'\n",
            "ic| row_filter_object.value: '<2 years'\n",
            "ic| tool_object.value: 'GitHub'\n",
            "ic| df_height: 27\n"
          ]
        },
        {
          "output_type": "stream",
          "name": "stdout",
          "text": [
            "\n",
            "\n",
            "\n"
          ]
        },
        {
          "output_type": "stream",
          "name": "stderr",
          "text": [
            "ic| df_tmp: shape: (2, 5)\n",
            "            ┌───────────┬────────┬────────┬──────────────────┬────────────┐\n",
            "            │ past_next ┆ counts ┆ tool   ┆ group            ┆ row_filter │\n",
            "            │ ---       ┆ ---    ┆ ---    ┆ ---              ┆ ---        │\n",
            "            │ str       ┆ f64    ┆ str    ┆ str              ┆ str        │\n",
            "            ╞═══════════╪════════╪════════╪══════════════════╪════════════╡\n",
            "            │ Desired   ┆ 66.67  ┆ GitHub ┆ Data Engineering ┆ <2 years   │\n",
            "            │ Admired   ┆ 33.33  ┆ GitHub ┆ Data Engineering ┆ <2 years   │\n",
            "            └───────────┴────────┴────────┴──────────────────┴────────────┘\n",
            "ic| group_object.value: 'Data Engineering'\n",
            "ic| row_filter_object.value: '2 to 4 years'\n",
            "ic| tool_object.value: 'GitHub'\n",
            "ic| df_height: 14\n"
          ]
        },
        {
          "output_type": "stream",
          "name": "stdout",
          "text": [
            "\n",
            "\n",
            "\n"
          ]
        },
        {
          "output_type": "stream",
          "name": "stderr",
          "text": [
            "ic| df_tmp: shape: (2, 5)\n",
            "            ┌───────────┬────────┬────────┬──────────────────┬──────────────┐\n",
            "            │ past_next ┆ counts ┆ tool   ┆ group            ┆ row_filter   │\n",
            "            │ ---       ┆ ---    ┆ ---    ┆ ---              ┆ ---          │\n",
            "            │ str       ┆ f64    ┆ str    ┆ str              ┆ str          │\n",
            "            ╞═══════════╪════════╪════════╪══════════════════╪══════════════╡\n",
            "            │ Desired   ┆ 85.71  ┆ GitHub ┆ Data Engineering ┆ 2 to 4 years │\n",
            "            │ Admired   ┆ 14.29  ┆ GitHub ┆ Data Engineering ┆ 2 to 4 years │\n",
            "            └───────────┴────────┴────────┴──────────────────┴──────────────┘\n",
            "ic| group_object.value: 'Data Engineering'\n",
            "ic| row_filter_object.value: '4 to 6 years'\n",
            "ic| tool_object.value: 'GitHub'\n",
            "ic| df_height: 3\n",
            "ic| df_tmp: shape: (2, 5)\n",
            "            ┌───────────┬────────┬────────┬─────"
          ]
        },
        {
          "output_type": "stream",
          "name": "stdout",
          "text": [
            "\n",
            "\n",
            "\n"
          ]
        },
        {
          "output_type": "stream",
          "name": "stderr",
          "text": [
            "─────────────┬──────────────┐\n",
            "            │ past_next ┆ counts ┆ tool   ┆ group            ┆ row_filter   │\n",
            "            │ ---       ┆ ---    ┆ ---    ┆ ---              ┆ ---          │\n",
            "            │ str       ┆ f64    ┆ str    ┆ str              ┆ str          │\n",
            "            ╞═══════════╪════════╪════════╪══════════════════╪══════════════╡\n",
            "            │ Admired   ┆ 33.33  ┆ GitHub ┆ Data Engineering ┆ 4 to 6 years │\n",
            "            │ Desired   ┆ 66.67  ┆ GitHub ┆ Data Engineering ┆ 4 to 6 years │\n",
            "            └───────────┴────────┴────────┴──────────────────┴──────────────┘\n",
            "ic| group_object.value: 'Data Engineering'\n",
            "ic| row_filter_object.value: '8 to 10 years'\n",
            "ic| tool_object.value: 'GitHub'\n",
            "ic| df_height: 1\n",
            "ic| df_tmp: shape: (1, 5)\n",
            "            ┌───────────┬────────┬────────┬──────────────────┬────────────"
          ]
        },
        {
          "output_type": "stream",
          "name": "stdout",
          "text": [
            "\n",
            "\n",
            "\n"
          ]
        },
        {
          "output_type": "stream",
          "name": "stderr",
          "text": [
            "───┐\n",
            "            │ past_next ┆ counts ┆ tool   ┆ group            ┆ row_filter    │\n",
            "            │ ---       ┆ ---    ┆ ---    ┆ ---              ┆ ---           │\n",
            "            │ str       ┆ f64    ┆ str    ┆ str              ┆ str           │\n",
            "            ╞═══════════╪════════╪════════╪══════════════════╪═══════════════╡\n",
            "            │ Desired   ┆ 100.0  ┆ GitHub ┆ Data Engineering ┆ 8 to 10 years │\n",
            "            └───────────┴────────┴────────┴──────────────────┴───────────────┘\n",
            "ic| group_object.value: 'Data Engineering'\n",
            "ic| row_filter_object.value: '10+ years'\n",
            "ic| tool_object.value: 'GitHub'\n",
            "ic| df_height: 0\n",
            "ic| df_tmp: shape: (0, 5)\n",
            "            ┌───────────┬────────┬──────┬───────┬────"
          ]
        },
        {
          "output_type": "stream",
          "name": "stdout",
          "text": [
            "\n",
            "\n",
            "\n"
          ]
        },
        {
          "output_type": "stream",
          "name": "stderr",
          "text": [
            "────────┐\n",
            "            │ past_next ┆ counts ┆ tool ┆ group ┆ row_filter │\n",
            "            │ ---       ┆ ---    ┆ ---  ┆ ---   ┆ ---        │\n",
            "            │ str       ┆ f64    ┆ str  ┆ str   ┆ str        │\n",
            "            ╞═══════════╪════════╪══════╪═══════╪════════════╡\n",
            "            └───────────┴────────┴──────┴───────┴────────────┘\n",
            "ic| tool_object.value: 'GitLab'\n",
            "ic| df_height: 0\n",
            "ic| df_tmp: shape: (0, 5)\n",
            "            ┌───────────┬────────┬──────┬───────┬────────────┐\n",
            "            │ past_next ┆ counts ┆ tool ┆ group ┆ row_filter │\n",
            "            │ ---       ┆ ---    ┆ ---  ┆ ---   ┆ ---"
          ]
        },
        {
          "output_type": "stream",
          "name": "stdout",
          "text": [
            "\n",
            "\n",
            "\n"
          ]
        },
        {
          "output_type": "stream",
          "name": "stderr",
          "text": [
            "        │\n",
            "            │ str       ┆ f64    ┆ str  ┆ str   ┆ str        │\n",
            "            ╞═══════════╪════════╪══════╪═══════╪════════════╡\n",
            "            └───────────┴────────┴──────┴───────┴────────────┘\n",
            "ic| group_object.value: 'Data Science & Analytics'\n",
            "ic| row_filter_object.value:"
          ]
        },
        {
          "output_type": "stream",
          "name": "stdout",
          "text": [
            "\n"
          ]
        },
        {
          "output_type": "stream",
          "name": "stderr",
          "text": [
            " '<2 years'\n",
            "ic| tool_object.value: 'GitHub'\n",
            "ic| df_height: 6\n"
          ]
        },
        {
          "output_type": "stream",
          "name": "stdout",
          "text": [
            "\n",
            "\n"
          ]
        },
        {
          "output_type": "stream",
          "name": "stderr",
          "text": [
            "ic| df_tmp: shape: (2, 5)\n",
            "            ┌───────────┬────────┬────────┬──────────────────────────┬────────────┐\n",
            "            │ past_next ┆ counts ┆ tool   ┆ group                    ┆ row_filter │\n",
            "            │ ---       ┆ ---    ┆ ---    ┆ ---                      ┆ ---        │\n",
            "            │ str       ┆ f64    ┆ str    ┆ str                      ┆ str        │\n",
            "            ╞═══════════╪════════╪════════╪══════════════════════════╪════════════╡\n",
            "            │ Admired   ┆ 16.67  ┆ GitHub ┆ Data Science & Analytics ┆ <2 years   │\n",
            "            │ Desired   ┆ 83.33  ┆ GitHub ┆ Data Science & Analytics ┆ <2 years   │\n",
            "            └───────────┴────────┴────────┴──────────────────────────┴────────────┘\n",
            "ic| group_object.value: 'Data Science & Analytics'\n",
            "ic| row_filter_object.value: '2 to 4 years'\n",
            "ic| tool_object.value: 'GitHub'\n",
            "ic| df_height: 4\n",
            "ic| df_tmp: shape: (1, 5)\n",
            "            ┌───────────┬────────┬────────┬─────────────────────────"
          ]
        },
        {
          "output_type": "stream",
          "name": "stdout",
          "text": [
            "\n",
            "\n",
            "\n"
          ]
        },
        {
          "output_type": "stream",
          "name": "stderr",
          "text": [
            "─┬──────────────┐\n",
            "            │ past_next ┆ counts ┆ tool   ┆ group                    ┆ row_filter   │\n",
            "            │ ---       ┆ ---    ┆ ---    ┆ ---                      ┆ ---          │\n",
            "            │ str       ┆ f64    ┆ str    ┆ str                      ┆ str          │\n",
            "            ╞═══════════╪════════╪════════╪══════════════════════════╪══════════════╡\n",
            "            │ Desired   ┆ 100.0  ┆ GitHub ┆ Data Science & Analytics ┆ 2 to 4 years │\n",
            "            └───────────┴────────┴────────┴──────────────────────────┴──────────────┘\n",
            "ic| group_object.value: 'Data Science & Analytics'\n",
            "ic| row_filter_object.value: '4 to 6 years'\n",
            "ic| tool_object.value: 'GitHub'\n",
            "ic| df_height: 0\n",
            "ic| df_tmp: shape: (0, 5)\n",
            "            ┌───────────┬────────┬──────┬───────┬────────────┐\n",
            "            │ past_next ┆ counts ┆ tool ┆ group ┆ row_filter │\n",
            "            │ ---       ┆ -"
          ]
        },
        {
          "output_type": "stream",
          "name": "stdout",
          "text": [
            "\n",
            "\n",
            "\n"
          ]
        },
        {
          "output_type": "stream",
          "name": "stderr",
          "text": [
            "--    ┆ ---  ┆ ---   ┆ ---        │\n",
            "            │ str       ┆ f64    ┆ str  ┆ str   ┆ str        │\n",
            "            ╞═══════════╪════════╪══════╪═══════╪════════════╡\n",
            "            └───────────┴────────┴──────┴───────┴────────────┘\n",
            "ic| tool_object.value: 'GitLab'\n",
            "ic| df_height: 0\n",
            "ic| df_tmp: shape: (0, 5)\n",
            "            ┌───────────┬────────┬──────┬───────┬────────────┐\n",
            "            │ past_next ┆ counts ┆ tool ┆ group ┆ row_filter │\n",
            "            │ ---       ┆ ---    ┆ ---  ┆ ---   ┆ ---        │\n",
            "            │ str       ┆ f64    ┆ str  ┆ str   ┆ str        │\n",
            "            ╞═══════════╪════════╪═════"
          ]
        },
        {
          "output_type": "stream",
          "name": "stdout",
          "text": [
            "\n",
            "\n",
            "\n"
          ]
        },
        {
          "output_type": "stream",
          "name": "stderr",
          "text": [
            "═╪═══════╪════════════╡\n",
            "            └───────────┴────────┴──────┴───────┴────────────┘\n",
            "ic| group_object.value: 'Data Science & Analytics'\n",
            "ic| row_filter_object.value: '8 to 10 years'\n",
            "ic| tool_object.value: 'GitHub'\n",
            "ic| df_height: 0\n",
            "ic| df_tmp: shape: (0, 5)\n",
            "            ┌───────────┬────────┬──────┬───────┬────────────┐\n",
            "            │ past_next ┆ counts ┆ tool"
          ]
        },
        {
          "output_type": "stream",
          "name": "stdout",
          "text": [
            "\n",
            "\n",
            "\n"
          ]
        },
        {
          "output_type": "stream",
          "name": "stderr",
          "text": [
            " ┆ group ┆ row_filter │\n",
            "            │ ---       ┆ ---    ┆ ---  ┆ ---   ┆ ---        │\n",
            "            │ str       ┆ f64    ┆ str  ┆ str   ┆ str        │\n",
            "            ╞═══════════╪════════╪══════╪═══════╪════════════╡\n",
            "            └───────────┴────────┴──────┴───────┴────────────┘\n",
            "ic"
          ]
        },
        {
          "output_type": "stream",
          "name": "stdout",
          "text": [
            "\n"
          ]
        },
        {
          "output_type": "stream",
          "name": "stderr",
          "text": [
            "| tool_object.value: 'GitLab'\n",
            "ic| df_height: 0\n",
            "ic| df_tmp: shape: (0, 5)\n",
            "            ┌───────────┬────────┬──────┬───────┬────────────┐\n",
            "            │ past_next ┆ counts ┆ tool ┆ group ┆ row_filter │\n",
            "            │ ---       ┆ ---    ┆ ---  ┆ ---   ┆ ---        │\n",
            "            │ str       ┆ f64    ┆ str  ┆ str   ┆ str        │\n",
            "            ╞═══════════╪════════╪═"
          ]
        },
        {
          "output_type": "stream",
          "name": "stdout",
          "text": [
            "\n",
            "\n"
          ]
        },
        {
          "output_type": "stream",
          "name": "stderr",
          "text": [
            "═════╪═══════╪════════════╡\n",
            "            └───────────┴────────┴──────┴───────┴────────────┘\n",
            "ic| group_object.value: 'Data Science & Analytics'\n",
            "ic| row_filter_object.value: '10+ years'\n",
            "ic| tool_object.value: 'GitHub'\n",
            "ic| df_height: 0\n",
            "ic| df_tmp: shape: (0, 5)\n",
            "            ┌───────────┬────────┬──────┬───────┬────────────┐\n",
            "            │ past_next ┆ counts ┆ tool ┆ group ┆ row_filter │\n",
            "            │ ---       ┆ ---    ┆ ---  ┆ ---   ┆ ---        │\n",
            "            │ str       ┆ f64    ┆ str  ┆ str"
          ]
        },
        {
          "output_type": "stream",
          "name": "stdout",
          "text": [
            "\n",
            "\n",
            "\n"
          ]
        },
        {
          "output_type": "stream",
          "name": "stderr",
          "text": [
            "   ┆ str        │\n",
            "            ╞═══════════╪════════╪══════╪═══════╪════════════╡\n",
            "            └───────────┴────────┴──────┴───────┴────────────┘\n",
            "ic| tool_object.value: 'GitLab'\n",
            "ic| df_height: 0\n",
            "ic| df_tmp: shape: (0, 5)\n",
            "            ┌───────────┬────────┬──────┬───────┬────────────┐\n",
            "            │"
          ]
        },
        {
          "output_type": "stream",
          "name": "stdout",
          "text": [
            "\n",
            "\n",
            "\n"
          ]
        },
        {
          "output_type": "stream",
          "name": "stderr",
          "text": [
            " past_next ┆ counts ┆ tool ┆ group ┆ row_filter │\n",
            "            │ ---       ┆ ---    ┆ ---  ┆ ---   ┆ ---        │\n",
            "            │ str       ┆ f64    ┆ str  ┆ str   ┆ str        │\n",
            "            ╞═══════════╪════════╪══════╪═══════╪════════════╡\n",
            "            └───────────┴────────┴──────┴───────┴────────────┘\n",
            "ic| group_object.value: 'AFC'\n",
            "ic| row_filter_object.value: '<2 years'\n",
            "ic| tool_object.value: 'GitHub'\n",
            "ic| df_height: 2\n"
          ]
        },
        {
          "output_type": "stream",
          "name": "stdout",
          "text": [
            "\n",
            "\n",
            "\n"
          ]
        },
        {
          "output_type": "stream",
          "name": "stderr",
          "text": [
            "ic| df_tmp: shape: (1, 5)\n",
            "            ┌───────────┬────────┬────────┬───────┬────────────┐\n",
            "            │ past_next ┆ counts ┆ tool   ┆ group ┆ row_filter │\n",
            "            │ ---       ┆ ---    ┆ ---    ┆ ---   ┆ ---        │\n",
            "            │ str       ┆ f64    ┆ str    ┆ str   ┆ str        │\n",
            "            ╞═══════════╪════════╪════════╪═══════╪════════════╡\n",
            "            │ Admired   ┆ 100.0  ┆ GitHub ┆ AFC   ┆ <2 years   │\n",
            "            └───────────┴────────┴────────┴───────┴────────────┘\n",
            "ic| group_object.value: 'AFC'\n",
            "ic| row_filter_object.value: '2 to 4 years'\n",
            "ic| tool_object.value: 'GitHub'\n",
            "ic| df_height: 1\n"
          ]
        },
        {
          "output_type": "stream",
          "name": "stdout",
          "text": [
            "\n",
            "\n",
            "\n"
          ]
        },
        {
          "output_type": "stream",
          "name": "stderr",
          "text": [
            "ic| df_tmp: shape: (1, 5)\n",
            "            ┌───────────┬────────┬────────┬───────┬──────────────┐\n",
            "            │ past_next ┆ counts ┆ tool   ┆ group ┆ row_filter   │\n",
            "            │ ---       ┆ ---    ┆ ---    ┆ ---   ┆ ---          │\n",
            "            │ str       ┆ f64    ┆ str    ┆ str   ┆ str          │\n",
            "            ╞═══════════╪════════╪════════╪═══════╪══════════════╡\n",
            "            │ Admired   ┆ 100.0  ┆ GitHub ┆ AFC   ┆ 2 to 4 years │\n",
            "            └───────────┴────────┴────────┴───────┴──────────────┘\n",
            "ic| group_object.value: 'AFC'\n",
            "ic| row_filter_object.value: '4 to 6 years'\n"
          ]
        },
        {
          "output_type": "stream",
          "name": "stdout",
          "text": [
            "\n"
          ]
        },
        {
          "output_type": "stream",
          "name": "stderr",
          "text": [
            "ic| tool_object.value: 'GitHub'\n",
            "ic| df_height: 0\n",
            "ic| df_tmp: shape: (0, 5)\n",
            "            ┌───────────┬────────┬──────┬───────┬────────────┐\n",
            "            │ past_next ┆ counts ┆ tool ┆ group ┆ row_filter │\n",
            "            │ ---       ┆ ---    ┆ ---  ┆ ---   ┆ ---        │\n",
            "            │ str       ┆ f64    ┆ str  ┆ str   ┆ str        │\n"
          ]
        },
        {
          "output_type": "stream",
          "name": "stdout",
          "text": [
            "\n",
            "\n"
          ]
        },
        {
          "output_type": "stream",
          "name": "stderr",
          "text": [
            "            ╞═══════════╪════════╪══════╪═══════╪════════════╡\n",
            "            └───────────┴────────┴──────┴───────┴────────────┘\n",
            "ic| tool_object.value: 'GitLab'\n",
            "ic| df_height: 0\n"
          ]
        },
        {
          "output_type": "stream",
          "name": "stdout",
          "text": [
            "\n",
            "\n",
            "\n"
          ]
        },
        {
          "output_type": "stream",
          "name": "stderr",
          "text": [
            "ic| df_tmp: shape: (0, 5)\n",
            "            ┌───────────┬────────┬──────┬───────┬────────────┐\n",
            "            │ past_next ┆ counts ┆ tool ┆ group ┆ row_filter │\n",
            "            │ ---       ┆ ---    ┆ ---  ┆ ---   ┆ ---        │\n",
            "            │ str       ┆ f64    ┆ str  ┆ str   ┆ str        │\n",
            "            ╞═══════════╪════════╪══════╪═══════╪════════════╡\n",
            "            └───────────┴────────┴──────┴───────┴────────────┘\n",
            "ic| group_object.value: 'AFC'\n",
            "ic| row_filter_object.value: '8 to 10 years'\n",
            "ic| tool_object.value: 'GitHub'\n",
            "ic| df_height: 0\n",
            "ic| df_tmp: shape: (0, 5)\n",
            "            ┌───────────┬────────┬──────┬───────┬────────────┐\n",
            "            │ past_next ┆ counts ┆ tool ┆ group ┆ row_filter │\n",
            "            │ ---       ┆ ---    ┆ ---  ┆ ---   ┆ ---        │\n",
            "            │ str       ┆ "
          ]
        },
        {
          "output_type": "stream",
          "name": "stdout",
          "text": [
            "\n",
            "\n",
            "\n"
          ]
        },
        {
          "output_type": "stream",
          "name": "stderr",
          "text": [
            "f64    ┆ str  ┆ str   ┆ str        │\n",
            "            ╞═══════════╪════════╪══════╪═══════╪════════════╡\n",
            "            └───────────┴────────┴──────┴───────┴────────────┘\n",
            "ic| tool_object.value: 'GitLab'\n",
            "ic| df_height: 0\n",
            "ic| df_tmp: shape: (0, 5)\n",
            "            ┌───────────┬────────┬──────┬───────┬─"
          ]
        },
        {
          "output_type": "stream",
          "name": "stdout",
          "text": [
            "\n",
            "\n",
            "\n"
          ]
        },
        {
          "output_type": "stream",
          "name": "stderr",
          "text": [
            "───────────┐\n",
            "            │ past_next ┆ counts ┆ tool ┆ group ┆ row_filter │\n",
            "            │ ---       ┆ ---    ┆ ---  ┆ ---   ┆ ---        │\n",
            "            │ str       ┆ f64    ┆ str  ┆ str   ┆ str        │\n",
            "            ╞═══════════╪════════╪══════╪═══════╪════════════╡\n",
            "            └───────────┴────────┴──────┴───────┴────────────┘\n",
            "ic| group_object.value: 'AFC'\n",
            "ic| row_filter_object.value: '10+ years'\n",
            "ic| tool_object.value: 'GitHub'\n",
            "ic| df_height: 0\n",
            "ic| df_tmp: shape: (0, 5)\n",
            "            ┌───────────┬────────┬──────┬───────┬────────────┐\n",
            "            │ past_next ┆ counts ┆ tool ┆ group ┆ row_filter │\n",
            "            │ ---       ┆ ---    ┆ ---  ┆ ---   ┆ ---        │\n",
            "            │ str       ┆"
          ]
        },
        {
          "output_type": "stream",
          "name": "stdout",
          "text": [
            "\n",
            "\n",
            "\n"
          ]
        },
        {
          "output_type": "stream",
          "name": "stderr",
          "text": [
            " f64    ┆ str  ┆ str   ┆ str        │\n",
            "            ╞═══════════╪════════╪══════╪═══════╪════════════╡\n",
            "            └───────────┴────────┴──────┴───────┴────────────┘\n",
            "ic| tool_object.value: 'GitLab'\n",
            "ic| df_height: 0\n"
          ]
        },
        {
          "output_type": "stream",
          "name": "stdout",
          "text": [
            "\n",
            "\n",
            "\n"
          ]
        },
        {
          "output_type": "stream",
          "name": "stderr",
          "text": [
            "ic| df_tmp: shape: (0, 5)\n",
            "            ┌───────────┬────────┬──────┬───────┬────────────┐\n",
            "            │ past_next ┆ counts ┆ tool ┆ group ┆ row_filter │\n",
            "            │ ---       ┆ ---    ┆ ---  ┆ ---   ┆ ---        │\n",
            "            │ str       ┆ f64    ┆ str  ┆ str   ┆ str        │\n",
            "            ╞═══════════╪════════╪══════╪═══════╪════════════╡\n",
            "            └───────────┴────────┴──────┴───────┴────────────┘\n",
            "ic| group_object.value: 'SolCon'\n",
            "ic| row_filter_object.value: '<2 years'\n",
            "ic| tool_object.value: 'GitHub'\n",
            "ic| df_height: 0\n",
            "ic| df_tmp: shape: (0, 5)\n",
            "            ┌───────────┬────────┬──────┬───────┬────────────┐\n",
            "            │ past_next ┆ counts ┆ tool ┆ group ┆ row_filter │\n",
            "            │ ---       ┆ ---    ┆ ---  ┆ ---   ┆ ---        │\n",
            "            │ str       ┆ f64    ┆ str  ┆ str   ┆ str        │\n"
          ]
        },
        {
          "output_type": "stream",
          "name": "stdout",
          "text": [
            "\n",
            "\n",
            "\n"
          ]
        },
        {
          "output_type": "stream",
          "name": "stderr",
          "text": [
            "            ╞═══════════╪════════╪══════╪═══════╪════════════╡\n",
            "            └───────────┴────────┴──────┴───────┴────────────┘\n",
            "ic| tool_object.value: 'GitLab'\n",
            "ic| df_height: 0\n",
            "ic| df_tmp: shape: (0, 5)\n",
            "            ┌───────────┬────────┬──────┬───────┬────────────┐\n",
            "            │ past_next ┆ counts ┆ tool ┆ group ┆ row_filter │\n",
            "            │ ---       ┆ ---    ┆ ---  ┆ ---   ┆ ---        │\n",
            "            │ str       ┆ f64    ┆ str  ┆ str   ┆ str        │\n",
            "            ╞═══════════╪════════╪══════╪═══════╪════════════╡\n",
            "            └──"
          ]
        },
        {
          "output_type": "stream",
          "name": "stdout",
          "text": [
            "\n",
            "\n",
            "\n"
          ]
        },
        {
          "output_type": "stream",
          "name": "stderr",
          "text": [
            "─────────┴────────┴──────┴───────┴────────────┘\n",
            "ic| group_object.value: 'SolCon'\n",
            "ic| row_filter_object.value: '2 to 4 years'\n",
            "ic| tool_object.value: 'GitHub'\n",
            "ic| df_height: 0\n"
          ]
        },
        {
          "output_type": "stream",
          "name": "stdout",
          "text": [
            "\n",
            "\n",
            "\n"
          ]
        },
        {
          "output_type": "stream",
          "name": "stderr",
          "text": [
            "ic| df_tmp: shape: (0, 5)\n",
            "            ┌───────────┬────────┬──────┬───────┬────────────┐\n",
            "            │ past_next ┆ counts ┆ tool ┆ group ┆ row_filter │\n",
            "            │ ---       ┆ ---    ┆ ---  ┆ ---   ┆ ---        │\n",
            "            │ str       ┆ f64    ┆ str  ┆ str   ┆ str        │\n",
            "            ╞═══════════╪════════╪══════╪═══════╪════════════╡\n",
            "            └───────────┴────────┴──────┴───────┴────────────┘\n",
            "ic| tool_object.value: 'GitLab'\n",
            "ic| df_height: 0\n",
            "ic| df_tmp: shape: (0, 5)\n",
            "            ┌───────────┬────────┬──────┬───────┬────────────┐\n",
            "            │ past_next ┆ counts ┆ tool ┆ group ┆ row_filter │\n",
            "            │ ---       ┆ ---    ┆ ---  ┆ ---   ┆ ---        │\n",
            "            │ str       ┆ f64    ┆ str  ┆ str   ┆ str        │\n",
            "            ╞═══════════╪════════╪══════╪═══════╪═══"
          ]
        },
        {
          "output_type": "stream",
          "name": "stdout",
          "text": [
            "\n",
            "\n",
            "\n"
          ]
        },
        {
          "output_type": "stream",
          "name": "stderr",
          "text": [
            "═════════╡\n",
            "            └───────────┴────────┴──────┴───────┴────────────┘\n",
            "ic| group_object.value: 'SolCon'\n",
            "ic| row_filter_object.value: '4 to 6 years'\n",
            "ic| tool_object.value: 'GitHub'\n",
            "ic| df_height: 0\n",
            "ic| df_tmp: shape: (0, 5)\n",
            "            ┌───────────┬────────┬──────┬───────┬────────────┐\n",
            "            │ past_next ┆ counts ┆ tool ┆ group ┆ row_filter │\n",
            "            │ ---       ┆ ---    ┆ ---  ┆ ---   ┆ ---        │\n",
            "            │ str       ┆ f64    ┆ str  ┆ str   ┆ str        │"
          ]
        },
        {
          "output_type": "stream",
          "name": "stdout",
          "text": [
            "\n",
            "\n",
            "\n"
          ]
        },
        {
          "output_type": "stream",
          "name": "stderr",
          "text": [
            "\n",
            "            ╞═══════════╪════════╪══════╪═══════╪════════════╡\n",
            "            └───────────┴────────┴──────┴───────┴────────────┘\n",
            "ic| tool_object.value: 'GitLab'\n",
            "ic| df_height: 0\n",
            "ic| df_tmp: shape: (0, 5)\n",
            "            ┌───────────┬────────┬──────┬───────┬────────────┐\n",
            "            │ past_next ┆ counts ┆ tool ┆ group ┆ row_filter │\n",
            "            │ ---       ┆ ---    ┆ ---  ┆ ---   ┆ ---        │\n",
            "            │ str       ┆ f64    ┆ str  ┆ str   ┆ str        │\n",
            "            ╞═══════════╪════════╪══════╪═══════╪════════════╡\n",
            "            └───────"
          ]
        },
        {
          "output_type": "stream",
          "name": "stdout",
          "text": [
            "\n",
            "\n",
            "\n"
          ]
        },
        {
          "output_type": "stream",
          "name": "stderr",
          "text": [
            "────┴────────┴──────┴───────┴────────────┘\n",
            "ic| group_object.value: 'SolCon'\n",
            "ic| row_filter_object.value: '8 to 10 years'\n",
            "ic| tool_object.value: 'GitHub'\n",
            "ic| df_height: 0\n",
            "ic| df_tmp: shape: (0, 5)\n",
            "            ┌───────────┬────────┬──────┬───────┬────────────┐\n",
            "            │ past_next ┆ counts ┆ tool ┆ group ┆ row_filter │\n",
            "            │ ---       ┆ ---    ┆ ---  ┆ ---   ┆ ---        │\n",
            "            │ str       ┆ f64    ┆ str  ┆ str   ┆ str        │\n",
            "            ╞═══════════╪═"
          ]
        },
        {
          "output_type": "stream",
          "name": "stdout",
          "text": [
            "\n",
            "\n",
            "\n"
          ]
        },
        {
          "output_type": "stream",
          "name": "stderr",
          "text": [
            "═══════╪══════╪═══════╪════════════╡\n",
            "            └───────────┴────────┴──────┴───────┴────────────┘\n",
            "ic| tool_object.value: 'GitLab'\n",
            "ic| df_height: 0\n",
            "ic| df_tmp: shape: (0, 5)\n",
            "            ┌───────────┬────────┬──────┬───────┬────────────┐\n",
            "            │ past_next ┆ counts ┆ tool ┆ group ┆ row_filter │\n",
            "            │ ---       ┆ ---    ┆ ---  ┆ ---   ┆ ---        │\n",
            "            │ str       ┆ f64    ┆ str  ┆ str   ┆ str        │\n",
            "            ╞═══════════╪════════╪══════╪"
          ]
        },
        {
          "output_type": "stream",
          "name": "stdout",
          "text": [
            "\n",
            "\n",
            "\n"
          ]
        },
        {
          "output_type": "stream",
          "name": "stderr",
          "text": [
            "═══════╪════════════╡\n",
            "            └───────────┴────────┴──────┴───────┴────────────┘\n",
            "ic| group_object.value: 'SolCon'\n",
            "ic| row_filter_object.value: '10+ years'\n",
            "ic| tool_object.value: 'GitHub'\n",
            "ic| df_height: 0\n",
            "ic| df_tmp: shape: (0, 5)\n",
            "            ┌───────────┬────────┬──────┬───────┬────────────┐\n",
            "            │ past_next ┆ counts ┆ tool ┆ group ┆ row_filter │\n",
            "            │ ---       ┆ ---    ┆ ---  ┆ ---   ┆ ---        │\n",
            "            │ str       ┆ "
          ]
        },
        {
          "output_type": "stream",
          "name": "stdout",
          "text": [
            "\n",
            "\n",
            "\n"
          ]
        },
        {
          "output_type": "stream",
          "name": "stderr",
          "text": [
            "f64    ┆ str  ┆ str   ┆ str        │\n",
            "            ╞═══════════╪════════╪══════╪═══════╪════════════╡\n",
            "            └───────────┴────────┴──────┴───────┴────────────┘\n",
            "ic| tool_object.value: 'GitLab'\n",
            "ic| df_height: 0\n",
            "ic| df_tmp: shape: (0, 5)\n",
            "            ┌───────────┬────────┬──────┬───────┬────────────┐\n",
            "            │ past_next ┆ counts ┆ tool ┆ group ┆ row_filter │\n",
            "            │ ---       ┆ ---    ┆ ---  ┆ ---   ┆ ---        │\n",
            "            │ str       ┆ f64    ┆ str  ┆ str   ┆ str        │\n",
            "            ╞═══════════╪════════╪══════╪═══════╪═══════"
          ]
        },
        {
          "output_type": "stream",
          "name": "stdout",
          "text": [
            "\n",
            "\n",
            "\n"
          ]
        },
        {
          "output_type": "stream",
          "name": "stderr",
          "text": [
            "═════╡\n",
            "            └───────────┴────────┴──────┴───────┴────────────┘\n"
          ]
        },
        {
          "output_type": "stream",
          "name": "stdout",
          "text": [
            "\n",
            "print(df_out)\n",
            "shape: (0, 5)\n",
            "┌───────────┬────────┬──────┬───────┬────────────┐\n",
            "│ past_next ┆ counts ┆ tool ┆ group ┆ row_filter │\n",
            "│ ---       ┆ ---    ┆ ---  ┆ ---   ┆ ---        │\n",
            "│ str       ┆ f64    ┆ str  ┆ str   ┆ str        │\n",
            "╞═══════════╪════════╪══════╪═══════╪════════════╡\n",
            "└───────────┴────────┴──────┴───────┴────────────┘\n",
            "\n"
          ]
        }
      ]
    },
    {
      "cell_type": "markdown",
      "source": [
        "### Actual"
      ],
      "metadata": {
        "id": "OQOketmBRg-W"
      }
    },
    {
      "cell_type": "code",
      "source": [
        "scatter_maker(df=df, tools_list_object=Egit_hosting_platform, verbose=True)"
      ],
      "metadata": {
        "colab": {
          "base_uri": "https://localhost:8080/"
        },
        "id": "r7aZs_h53KfT",
        "outputId": "679af044-4cfa-454f-8fcb-3033f2096e0f"
      },
      "execution_count": 9,
      "outputs": [
        {
          "output_type": "stream",
          "name": "stderr",
          "text": [
            "ic| tool_object.value: 'GitHub'\n",
            "ic| df_height: 92\n",
            "ic| df_tmp: shape: (2, 5)\n",
            "            ┌───────────┬────────┬────────┬─────────────────┬─────────────────┐\n",
            "            │ past_next ┆ counts ┆ tool   ┆ group           ┆ row_filter      │\n",
            "            │ ---       ┆ ---    ┆ ---    ┆ ---             ┆ ---             │\n",
            "            │ str       ┆ f64    ┆ str    ┆ "
          ]
        },
        {
          "output_type": "stream",
          "name": "stdout",
          "text": [
            "All Respondents\n",
            "\n",
            "\n"
          ]
        },
        {
          "output_type": "stream",
          "name": "stderr",
          "text": [
            "str             ┆ str             │\n",
            "            ╞═══════════╪════════╪════════╪═════════════════╪═════════════════╡\n",
            "            │ Admired   ┆ 43.48  ┆ GitHub ┆ All respondents ┆ All respondents │\n",
            "            │ Desired   ┆ 56.52  ┆ GitHub ┆ All respondents ┆ All respondents │\n",
            "            └───────────┴────────┴────────┴─────────────────┴─────────────────┘\n",
            "ic| tool_object.value: 'GitLab'\n",
            "ic| df_height: 92\n",
            "ic| df_tmp: shape: (2, 5)\n",
            "            ┌───────────┬────────┬────────┬─────────────────┬─────────────────┐\n",
            "            │ past_next ┆ counts ┆ tool   ┆ group           ┆ row_filter      │\n",
            "            │ ---       ┆ ---    ┆ ---    ┆ ---             ┆ ---             │\n",
            "            │ str       ┆ f64    ┆ str    ┆ str             ┆ str             │\n",
            "            ╞═══════════╪════════╪════════╪═════════════════╪════════════"
          ]
        },
        {
          "output_type": "stream",
          "name": "stdout",
          "text": [
            "\n",
            "\n",
            "\n"
          ]
        },
        {
          "output_type": "stream",
          "name": "stderr",
          "text": [
            "═════╡\n",
            "            │ Desired   ┆ 54.35  ┆ GitLab ┆ All respondents ┆ All respondents │\n",
            "            │ Admired   ┆ 45.65  ┆ GitLab ┆ All respondents ┆ All respondents │\n",
            "            └───────────┴────────┴────────┴─────────────────┴─────────────────┘\n",
            "ic| group_object.value: 'Data Admin'\n",
            "ic| row_filter_object.value: '<2 years'\n",
            "ic| tool_object.value: 'GitHub'\n",
            "ic| df_height: 14\n",
            "ic| df_tmp: shape: (2, 5)\n",
            "            ┌───────────┬────────┬────────┬────────────┬────────────┐\n",
            "            │ past_next ┆ counts ┆ tool   ┆ group      ┆ row_filter │\n",
            "            │ ---       ┆ ---    ┆ ---    "
          ]
        },
        {
          "output_type": "stream",
          "name": "stdout",
          "text": [
            "\n",
            "By Category\n",
            "\n",
            "\n"
          ]
        },
        {
          "output_type": "stream",
          "name": "stderr",
          "text": [
            "┆ ---        ┆ ---        │\n",
            "            │ str       ┆ f64    ┆ str    ┆ str        ┆ str        │\n",
            "            ╞═══════════╪════════╪════════╪════════════╪════════════╡\n",
            "            │ Admired   ┆ 50.0   ┆ GitHub ┆ Data Admin ┆ <2 years   │\n",
            "            │ Desired   ┆ 50.0   ┆ GitHub ┆ Data Admin ┆ <2 years   │\n",
            "            └───────────┴────────┴────────┴────────────┴────────────┘\n",
            "ic| tool_object.value: 'GitLab'\n",
            "ic| df_height: 14\n",
            "ic| df_tmp: shape: (2, 5)\n",
            "            ┌───────────┬────────┬────────┬────────────┬────────────┐\n",
            "            │ past_next ┆ counts ┆ tool   ┆ group      ┆ row_filter │\n",
            "            │ ---       ┆ ---    ┆ ---    ┆ ---        ┆ ---        │\n",
            "            │ str       ┆ f64    ┆ str    ┆ str        ┆ str        │\n",
            "            ╞═══════════╪════════╪════════╪════════════╪════════════╡\n",
            "            │ Admired   ┆"
          ]
        },
        {
          "output_type": "stream",
          "name": "stdout",
          "text": [
            "\n",
            "\n",
            "\n"
          ]
        },
        {
          "output_type": "stream",
          "name": "stderr",
          "text": [
            " 57.14  ┆ GitLab ┆ Data Admin ┆ <2 years   │\n",
            "            │ Desired   ┆ 42.86  ┆ GitLab ┆ Data Admin ┆ <2 years   │\n",
            "            └───────────┴────────┴────────┴────────────┴────────────┘\n",
            "ic| group_object.value: 'Data Admin'\n",
            "ic| row_filter_object.value: '2 to 4 years'\n",
            "ic| tool_object.value: 'GitHub'\n",
            "ic| df_height: 6\n",
            "ic| df_tmp: shape: (2, 5)\n",
            "            ┌───────────┬────────┬────────┬────────────┬──────────────┐\n",
            "            │ past_next ┆ counts ┆ tool   ┆ group      ┆ row_filter   │\n",
            "            │ ---       ┆ ---    ┆ ---    ┆ ---"
          ]
        },
        {
          "output_type": "stream",
          "name": "stdout",
          "text": [
            "\n",
            "\n",
            "\n"
          ]
        },
        {
          "output_type": "stream",
          "name": "stderr",
          "text": [
            "        ┆ ---          │\n",
            "            │ str       ┆ f64    ┆ str    ┆ str        ┆ str          │\n",
            "            ╞═══════════╪════════╪════════╪════════════╪══════════════╡\n",
            "            │ Admired   ┆ 66.67  ┆ GitHub ┆ Data Admin ┆ 2 to 4 years │\n",
            "            │ Desired   ┆ 33.33  ┆ GitHub ┆ Data Admin ┆ 2 to 4 years │\n",
            "            └───────────┴────────┴────────┴────────────┴──────────────┘\n",
            "ic| tool_object.value: 'GitLab'\n",
            "ic| df_height: 7\n",
            "ic| df_tmp: shape: (2, 5)\n",
            "            ┌───────────┬────────┬────────┬────────────┬──────────────┐\n",
            "            │ past_next ┆ counts ┆ tool   ┆ group      ┆ row_filter   │\n",
            "            │ ---       ┆ ---    ┆ ---    ┆ ---        ┆ ---          │\n",
            "            │ str       ┆ f64    ┆ str    ┆ str        ┆ str          │\n",
            "            ╞═══════════╪════════╪════════╪════════════╪══════════════╡\n",
            "            │ Admired   ┆"
          ]
        },
        {
          "output_type": "stream",
          "name": "stdout",
          "text": [
            "\n",
            "\n",
            "\n"
          ]
        },
        {
          "output_type": "stream",
          "name": "stderr",
          "text": [
            " 42.86  ┆ GitLab ┆ Data Admin ┆ 2 to 4 years │\n",
            "            │ Desired   ┆ 57.14  ┆ GitLab ┆ Data Admin ┆ 2 to 4 years │\n",
            "            └───────────┴────────┴────────┴────────────┴──────────────┘\n",
            "ic| group_object.value: 'Data Admin'\n",
            "ic| row_filter_object.value: '4 to 6 years'\n",
            "ic| tool_object.value: 'GitHub'\n",
            "ic| df_height: 1\n",
            "ic| df_tmp: shape: (1, 5)\n",
            "            ┌───────────┬────────┬────────┬────────────┬──────────────┐\n",
            "            │ past_next ┆ counts ┆ tool   ┆ group      ┆ row_filter   │\n",
            "            │ ---       ┆ ---    ┆ ---    ┆ ---        ┆ ---"
          ]
        },
        {
          "output_type": "stream",
          "name": "stdout",
          "text": [
            "\n",
            "\n",
            "\n"
          ]
        },
        {
          "output_type": "stream",
          "name": "stderr",
          "text": [
            "          │\n",
            "            │ str       ┆ f64    ┆ str    ┆ str        ┆ str          │\n",
            "            ╞═══════════╪════════╪════════╪════════════╪══════════════╡\n",
            "            │ Desired   ┆ 100.0  ┆ GitHub ┆ Data Admin ┆ 4 to 6 years │\n",
            "            └───────────┴────────┴────────┴────────────┴──────────────┘\n",
            "ic| tool_object.value: 'GitLab'\n",
            "ic| df_height: 1\n",
            "ic| df_tmp: shape: (1, 5)\n",
            "            ┌───────────┬────────┬────────┬────────────┬──────────────┐\n",
            "            │ past_next ┆ counts ┆ tool   ┆ group      ┆ row_filter   │\n",
            "            │ ---       ┆ ---    ┆ ---    ┆ ---        ┆ ---          │\n",
            "            │ str       ┆ f64    ┆ str    ┆ str        ┆ str          │\n",
            "            ╞═══════════╪════════╪════════╪════════════╪══════════════╡\n",
            "            │ Desired   "
          ]
        },
        {
          "output_type": "stream",
          "name": "stdout",
          "text": [
            "\n",
            "\n",
            "\n"
          ]
        },
        {
          "output_type": "stream",
          "name": "stderr",
          "text": [
            "┆ 100.0  ┆ GitLab ┆ Data Admin ┆ 4 to 6 years │\n",
            "            └───────────┴────────┴────────┴────────────┴──────────────┘\n",
            "ic| group_object.value: 'Data Admin'\n",
            "ic| row_filter_object.value: '8 to 10 years'\n",
            "ic| tool_object.value: 'GitHub'\n",
            "ic| df_height: 0\n",
            "ic| df_tmp: shape: (0, 5)\n",
            "            ┌───────────┬────────┬──────┬───────┬────────────┐\n",
            "            │ past_next ┆ counts ┆ tool ┆ group ┆ row_filter │\n",
            "            │ ---       ┆ ---    ┆ ---  ┆ ---   ┆ ---        │\n",
            "            │ str       ┆ f64    ┆ str  ┆ str   ┆ str        │\n",
            "            ╞═══════"
          ]
        },
        {
          "output_type": "stream",
          "name": "stdout",
          "text": [
            "\n",
            "\n",
            "\n"
          ]
        },
        {
          "output_type": "stream",
          "name": "stderr",
          "text": [
            "════╪════════╪══════╪═══════╪════════════╡\n",
            "            └───────────┴────────┴──────┴───────┴────────────┘\n",
            "ic| tool_object.value: 'GitLab'\n",
            "ic| df_height: 0\n",
            "ic| df_tmp: shape: (0, 5)\n",
            "            ┌───────────┬────────┬──────┬───────┬────────────┐\n",
            "            │ past_next ┆ counts ┆ tool ┆ group ┆ row_filter │\n",
            "            │ ---       ┆ ---    ┆ ---  ┆ ---   ┆ ---        │\n",
            "            │ str       ┆ f64    ┆ str  ┆ str   ┆ str        │\n",
            "            ╞═══════════╪════════╪══════╪═══"
          ]
        },
        {
          "output_type": "stream",
          "name": "stdout",
          "text": [
            "\n",
            "\n",
            "\n"
          ]
        },
        {
          "output_type": "stream",
          "name": "stderr",
          "text": [
            "════╪════════════╡\n",
            "            └───────────┴────────┴──────┴───────┴────────────┘\n",
            "ic| group_object.value: 'Data Admin'\n",
            "ic| row_filter_object.value: '10+ years'\n",
            "ic| tool_object.value: 'GitHub'\n",
            "ic| df_height: 0\n",
            "ic| df_tmp: shape: (0, 5)\n",
            "            ┌───────────┬────────┬──────┬───────┬────────────┐\n",
            "            │ past_next ┆ counts ┆ tool ┆ group ┆ row_filter │\n",
            "            │ ---       ┆ ---    ┆ ---  ┆ ---   ┆ ---        │\n",
            "            │ str       ┆ "
          ]
        },
        {
          "output_type": "stream",
          "name": "stdout",
          "text": [
            "\n",
            "\n",
            "\n"
          ]
        },
        {
          "output_type": "stream",
          "name": "stderr",
          "text": [
            "f64    ┆ str  ┆ str   ┆ str        │\n",
            "            ╞═══════════╪════════╪══════╪═══════╪════════════╡\n",
            "            └───────────┴────────┴──────┴───────┴────────────┘\n",
            "ic| tool_object.value: 'GitLab'\n",
            "ic| df_height: 0\n",
            "ic| df_tmp: shape: (0, 5)\n",
            "            ┌───────────┬────────┬──────┬───────┬────────────┐\n",
            "            │ past_next ┆ counts ┆ tool ┆ group ┆ row_filter │\n",
            "            │ ---       ┆ ---    ┆ ---  ┆ ---   ┆ ---        │\n",
            "            │ str       ┆ f64    ┆ str  ┆ str   ┆ str        │\n",
            "            ╞═══════════╪════════╪══════╪═══════╪════════════╡\n",
            "            └───────────┴────────┴──────┴─────"
          ]
        },
        {
          "output_type": "stream",
          "name": "stdout",
          "text": [
            "\n",
            "\n",
            "\n"
          ]
        },
        {
          "output_type": "stream",
          "name": "stderr",
          "text": [
            "──┴────────────┘\n",
            "ic| group_object.value: 'Data Engineering'\n",
            "ic| row_filter_object.value: '<2 years'\n",
            "ic| tool_object.value: 'GitHub'\n",
            "ic| df_height: 27\n",
            "ic| df_tmp: shape: (2, 5)\n",
            "            ┌───────────┬────────┬────────┬──────────────────┬────────────┐\n",
            "            │ past_next ┆ counts ┆ tool   ┆ group            ┆ row_filter │\n",
            "            │ ---       ┆ ---    ┆ ---    ┆ ---              ┆ ---        │\n"
          ]
        },
        {
          "output_type": "stream",
          "name": "stdout",
          "text": [
            "\n",
            "\n",
            "\n"
          ]
        },
        {
          "output_type": "stream",
          "name": "stderr",
          "text": [
            "            │ str       ┆ f64    ┆ str    ┆ str              ┆ str        │\n",
            "            ╞═══════════╪════════╪════════╪══════════════════╪════════════╡\n",
            "            │ Admired   ┆ 33.33  ┆ GitHub ┆ Data Engineering ┆ <2 years   │\n",
            "            │ Desired   ┆ 66.67  ┆ GitHub ┆ Data Engineering ┆ <2 years   │\n",
            "            └───────────┴────────┴────────┴──────────────────┴────────────┘\n",
            "ic| tool_object.value: 'GitLab'\n",
            "ic| df_height: 27\n",
            "ic| df_tmp: shape: (2, 5)\n",
            "            ┌───────────┬────────┬────────┬──────────────────┬────────────┐\n",
            "            │ past_next ┆ counts ┆ tool   ┆ group            ┆ row_filter │\n",
            "            │ ---       ┆ ---    ┆ ---    ┆ ---              ┆ ---        │\n",
            "            │ str       ┆ f64    ┆ str    ┆ str              ┆ str        │\n",
            "            ╞═══════════╪════════╪════════╪══════════════════╪════════"
          ]
        },
        {
          "output_type": "stream",
          "name": "stdout",
          "text": [
            "\n",
            "\n",
            "\n"
          ]
        },
        {
          "output_type": "stream",
          "name": "stderr",
          "text": [
            "════╡\n",
            "            │ Admired   ┆ 37.04  ┆ GitLab ┆ Data Engineering ┆ <2 years   │\n",
            "            │ Desired   ┆ 62.96  ┆ GitLab ┆ Data Engineering ┆ <2 years   │\n",
            "            └───────────┴────────┴────────┴──────────────────┴────────────┘\n",
            "ic| group_object.value: 'Data Engineering'\n",
            "ic| row_filter_object.value: '2 to 4 years'\n",
            "ic| tool_object.value: 'GitHub'\n",
            "ic| df_height: 14\n",
            "ic| df_tmp: shape: (2, 5)\n",
            "            ┌───────────┬────────┬────────┬──────────────────┬──────────────┐\n",
            "            │ past_next ┆ counts ┆ tool   ┆ group            ┆ row_filter   │\n",
            "            │ ---       ┆ ---    ┆ ---    ┆ ---              ┆ ---          │\n",
            "            │ str       ┆ f64    ┆ str    ┆ str              ┆ str"
          ]
        },
        {
          "output_type": "stream",
          "name": "stdout",
          "text": [
            "\n",
            "\n",
            "\n"
          ]
        },
        {
          "output_type": "stream",
          "name": "stderr",
          "text": [
            "          │\n",
            "            ╞═══════════╪════════╪════════╪══════════════════╪══════════════╡\n",
            "            │ Admired   ┆ 14.29  ┆ GitHub ┆ Data Engineering ┆ 2 to 4 years │\n",
            "            │ Desired   ┆ 85.71  ┆ GitHub ┆ Data Engineering ┆ 2 to 4 years │\n",
            "            └───────────┴────────┴────────┴──────────────────┴──────────────┘\n",
            "ic| tool_object.value: 'GitLab'\n",
            "ic| df_height: 13\n",
            "ic| df_tmp: shape: (2, 5)\n",
            "            ┌───────────┬────────┬────────┬──────────────────┬──────────────┐\n",
            "            │ past_next ┆ counts ┆ tool   ┆ group            ┆ row_filter   │\n",
            "            │ ---       ┆ ---    ┆ ---    ┆ ---              ┆ ---          │\n",
            "            │ str       ┆ f64    ┆ str    ┆ str              ┆ str          │\n",
            "            ╞═══════════╪════════╪═══"
          ]
        },
        {
          "output_type": "stream",
          "name": "stdout",
          "text": [
            "\n",
            "\n",
            "\n"
          ]
        },
        {
          "output_type": "stream",
          "name": "stderr",
          "text": [
            "═════╪══════════════════╪══════════════╡\n",
            "            │ Admired   ┆ 38.46  ┆ GitLab ┆ Data Engineering ┆ 2 to 4 years │\n",
            "            │ Desired   ┆ 61.54  ┆ GitLab ┆ Data Engineering ┆ 2 to 4 years │\n",
            "            └───────────┴────────┴────────┴──────────────────┴──────────────┘\n",
            "ic| group_object.value: 'Data Engineering'\n",
            "ic| row_filter_object.value: '4 to 6 years'\n",
            "ic| tool_object.value: 'GitHub'\n",
            "ic| df_height: 3\n",
            "ic| df_tmp: shape: (2, 5)\n",
            "            ┌───────────┬────────┬────────┬──────────────────┬──────────────┐\n",
            "            │ past_next ┆ counts ┆ tool   ┆ group            ┆ row_filter   │\n",
            "            │ ---       ┆ ---    ┆ ---    ┆ ---              ┆ ---"
          ]
        },
        {
          "output_type": "stream",
          "name": "stdout",
          "text": [
            "\n",
            "\n",
            "\n"
          ]
        },
        {
          "output_type": "stream",
          "name": "stderr",
          "text": [
            "          │\n",
            "            │ str       ┆ f64    ┆ str    ┆ str              ┆ str          │\n",
            "            ╞═══════════╪════════╪════════╪══════════════════╪══════════════╡\n",
            "            │ Desired   ┆ 66.67  ┆ GitHub ┆ Data Engineering ┆ 4 to 6 years │\n",
            "            │ Admired   ┆ 33.33  ┆ GitHub ┆ Data Engineering ┆ 4 to 6 years │\n",
            "            └───────────┴────────┴────────┴──────────────────┴──────────────┘\n",
            "ic| tool_object.value: 'GitLab'\n",
            "ic| df_height: 4\n",
            "ic| df_tmp: shape: (2, 5)\n",
            "            ┌───────────┬────────┬────────┬──────────────────┬──────────────┐\n",
            "            │ past_next ┆ counts ┆ tool   ┆ group            ┆ row_filter   │\n",
            "            │ ---       ┆ ---    ┆ ---    ┆ ---              ┆ ---          │\n",
            "            │ str       ┆ f64    ┆ str    ┆ str              ┆ str          │\n",
            "            ╞═══════════╪════════╪════════╪═══════════════"
          ]
        },
        {
          "output_type": "stream",
          "name": "stdout",
          "text": [
            "\n",
            "\n",
            "\n"
          ]
        },
        {
          "output_type": "stream",
          "name": "stderr",
          "text": [
            "═══╪══════════════╡\n",
            "            │ Desired   ┆ 75.0   ┆ GitLab ┆ Data Engineering ┆ 4 to 6 years │\n",
            "            │ Admired   ┆ 25.0   ┆ GitLab ┆ Data Engineering ┆ 4 to 6 years │\n",
            "            └───────────┴────────┴────────┴──────────────────┴──────────────┘\n",
            "ic| group_object.value: 'Data Engineering'\n",
            "ic| row_filter_object.value: '8 to 10 years'\n",
            "ic| tool_object.value: 'GitHub'\n",
            "ic| df_height: 1\n",
            "ic| df_tmp: shape: (1, 5)\n",
            "            ┌───────────┬────────┬────────┬──────────────────┬───────────────┐\n",
            "            │ past_next ┆ counts ┆ tool   ┆ group            ┆ row_filter    │\n",
            "            │ ---       ┆ ---    ┆ ---    ┆ ---              ┆ ---           │\n",
            "            │ str       ┆ f64    ┆ str    ┆ str              ┆ str           │\n",
            "            ╞═══════════╪══"
          ]
        },
        {
          "output_type": "stream",
          "name": "stdout",
          "text": [
            "\n",
            "\n",
            "\n"
          ]
        },
        {
          "output_type": "stream",
          "name": "stderr",
          "text": [
            "══════╪════════╪══════════════════╪═══════════════╡\n",
            "            │ Desired   ┆ 100.0  ┆ GitHub ┆ Data Engineering ┆ 8 to 10 years │\n",
            "            └───────────┴────────┴────────┴──────────────────┴───────────────┘\n",
            "ic| tool_object.value: 'GitLab'\n",
            "ic| df_height: 1\n",
            "ic| df_tmp: shape: (1, 5)\n",
            "            ┌───────────┬────────┬────────┬──────────────────┬───────────────┐\n",
            "            │ past_next ┆ counts ┆ tool   ┆ group            ┆ row_filter    │\n",
            "            │ ---       ┆ ---    ┆ ---    ┆ ---              ┆ ---           │\n",
            "            │ str       ┆ f64    ┆ str    ┆ str              ┆ str           │\n",
            "            ╞═══════════╪════════╪════════╪══════════════"
          ]
        },
        {
          "output_type": "stream",
          "name": "stdout",
          "text": [
            "\n",
            "\n",
            "\n"
          ]
        },
        {
          "output_type": "stream",
          "name": "stderr",
          "text": [
            "════╪═══════════════╡\n",
            "            │ Desired   ┆ 100.0  ┆ GitLab ┆ Data Engineering ┆ 8 to 10 years │\n",
            "            └───────────┴────────┴────────┴──────────────────┴───────────────┘\n",
            "ic| group_object.value: 'Data Engineering'\n",
            "ic| row_filter_object.value: '10+ years'\n",
            "ic| tool_object.value: 'GitHub'\n",
            "ic| df_height: 0\n",
            "ic| df_tmp: shape: (0, 5)\n",
            "            ┌───────────┬────────┬──────┬───────┬────────────┐\n",
            "            │ past_next ┆ counts ┆ tool ┆ group ┆ row_filter │\n",
            "            │ ---       ┆ ---    ┆ ---  ┆ ---   ┆ ---        │\n",
            "            │ str       ┆"
          ]
        },
        {
          "output_type": "stream",
          "name": "stdout",
          "text": [
            "\n",
            "\n",
            "\n"
          ]
        },
        {
          "output_type": "stream",
          "name": "stderr",
          "text": [
            " f64    ┆ str  ┆ str   ┆ str        │\n",
            "            ╞═══════════╪════════╪══════╪═══════╪════════════╡\n",
            "            └───────────┴────────┴──────┴───────┴────────────┘\n",
            "ic| tool_object.value: 'GitLab'\n",
            "ic| df_height: 0\n",
            "ic| df_tmp: shape: (0, 5)\n",
            "            ┌───────────┬────────┬──────┬───────┬────────────┐\n",
            "            │ past_next ┆ counts ┆ tool ┆ group ┆ row_filter │\n",
            "            │ ---       ┆ ---    ┆ ---  ┆ ---   ┆ ---        │\n",
            "            │ str       ┆ f64    ┆ str  ┆ str   ┆ str        │\n",
            "            ╞═══════════╪════════╪══════╪═══════╪════════════╡\n",
            "            └───────────┴──"
          ]
        },
        {
          "output_type": "stream",
          "name": "stdout",
          "text": [
            "\n",
            "\n",
            "\n"
          ]
        },
        {
          "output_type": "stream",
          "name": "stderr",
          "text": [
            "──────┴──────┴───────┴────────────┘\n",
            "ic| group_object.value: 'Data Science & Analytics'\n",
            "ic| row_filter_object.value: '<2 years'\n",
            "ic| tool_object.value: 'GitHub'\n",
            "ic| df_height: 6\n",
            "ic| df_tmp: shape: (2, 5)\n",
            "            ┌───────────┬────────┬────────┬──────────────────────────┬────────────┐\n",
            "            │ past_next ┆ counts ┆ tool   ┆ group                    ┆ row_filter │\n",
            "            │ ---       ┆ ---    ┆ ---    ┆ ---                      ┆ ---        │\n",
            "            │ str       ┆ f64"
          ]
        },
        {
          "output_type": "stream",
          "name": "stdout",
          "text": [
            "\n",
            "\n",
            "\n"
          ]
        },
        {
          "output_type": "stream",
          "name": "stderr",
          "text": [
            "    ┆ str    ┆ str                      ┆ str        │\n",
            "            ╞═══════════╪════════╪════════╪══════════════════════════╪════════════╡\n",
            "            │ Desired   ┆ 83.33  ┆ GitHub ┆ Data Science & Analytics ┆ <2 years   │\n",
            "            │ Admired   ┆ 16.67  ┆ GitHub ┆ Data Science & Analytics ┆ <2 years   │\n",
            "            └───────────┴────────┴────────┴──────────────────────────┴────────────┘\n",
            "ic| tool_object.value: 'GitLab'\n",
            "ic| df_height: 5\n",
            "ic| df_tmp: shape: (2, 5)\n",
            "            ┌───────────┬────────┬────────┬──────────────────────────┬────────────┐\n",
            "            │ past_next ┆ counts ┆ tool   ┆ group                    ┆ row_filter │\n",
            "            │ ---       ┆ ---    ┆ ---    ┆ ---                      ┆ ---        │\n",
            "            │ str       ┆ f64    ┆ str    ┆ str                      ┆ str        │\n",
            "            ╞═══════════╪════════╪════════╪═════════════════"
          ]
        },
        {
          "output_type": "stream",
          "name": "stdout",
          "text": [
            "\n",
            "\n",
            "\n"
          ]
        },
        {
          "output_type": "stream",
          "name": "stderr",
          "text": [
            "═════════╪════════════╡\n",
            "            │ Desired   ┆ 80.0   ┆ GitLab ┆ Data Science & Analytics ┆ <2 years   │\n",
            "            │ Admired   ┆ 20.0   ┆ GitLab ┆ Data Science & Analytics ┆ <2 years   │\n",
            "            └───────────┴────────┴────────┴──────────────────────────┴────────────┘\n",
            "ic| group_object.value: 'Data Science & Analytics'\n",
            "ic| row_filter_object.value: '2 to 4 years'\n",
            "ic| tool_object.value: 'GitHub'\n",
            "ic| df_height: 4\n",
            "ic| df_tmp: shape:"
          ]
        },
        {
          "output_type": "stream",
          "name": "stdout",
          "text": [
            "\n",
            "\n",
            "\n"
          ]
        },
        {
          "output_type": "stream",
          "name": "stderr",
          "text": [
            " (1, 5)\n",
            "            ┌───────────┬────────┬────────┬──────────────────────────┬──────────────┐\n",
            "            │ past_next ┆ counts ┆ tool   ┆ group                    ┆ row_filter   │\n",
            "            │ ---       ┆ ---    ┆ ---    ┆ ---                      ┆ ---          │\n",
            "            │ str       ┆ f64    ┆ str    ┆ str                      ┆ str          │\n",
            "            ╞═══════════╪════════╪════════╪══════════════════════════╪══════════════╡\n",
            "            │ Desired   ┆ 100.0  ┆ GitHub ┆ Data Science & Analytics ┆ 2 to 4 years │\n",
            "            └───────────┴────────┴────────┴──────────────────────────┴──────────────┘\n",
            "ic| tool_object.value: 'GitLab'\n",
            "ic| df_height: 3\n",
            "ic| df_tmp: shape: (2, 5)\n",
            "            ┌───────────┬────────┬────────┬──────────────────────────┬──────────────┐\n",
            "            │ past_next ┆ counts ┆ tool   ┆ group                    ┆ row_filter   │\n",
            "            │ ---       ┆ ---    ┆ ---    ┆ ---                      ┆ ---          │\n",
            "            │ str       ┆ f64    ┆ str    ┆ str                      ┆ str          │\n",
            "            ╞═══════════╪════════╪════════╪═════════"
          ]
        },
        {
          "output_type": "stream",
          "name": "stdout",
          "text": [
            "\n",
            "\n",
            "\n"
          ]
        },
        {
          "output_type": "stream",
          "name": "stderr",
          "text": [
            "═════════════════╪══════════════╡\n",
            "            │ Desired   ┆ 66.67  ┆ GitLab ┆ Data Science & Analytics ┆ 2 to 4 years │\n",
            "            │ Admired   ┆ 33.33  ┆ GitLab ┆ Data Science & Analytics ┆ 2 to 4 years │\n",
            "            └───────────┴────────┴────────┴──────────────────────────┴──────────────┘\n",
            "ic| group_object.value: 'Data Science & Analytics'\n",
            "ic| row_filter_object.value: '4 to 6 years'\n",
            "ic| tool_object.value: 'GitHub'\n",
            "ic| df_height: 0\n",
            "ic| df_tmp: shape: (0, 5)\n",
            "            ┌───────────┬────────┬──────┬───────┬────────────┐\n",
            "            │ past_next ┆ counts ┆ tool ┆ group ┆ row_filter │\n",
            "            │ ---       ┆ ---    ┆ ---  "
          ]
        },
        {
          "output_type": "stream",
          "name": "stdout",
          "text": [
            "\n",
            "\n",
            "\n"
          ]
        },
        {
          "output_type": "stream",
          "name": "stderr",
          "text": [
            "┆ ---   ┆ ---        │\n",
            "            │ str       ┆ f64    ┆ str  ┆ str   ┆ str        │\n",
            "            ╞═══════════╪════════╪══════╪═══════╪════════════╡\n",
            "            └───────────┴────────┴──────┴───────┴────────────┘\n",
            "ic| tool_object.value: 'GitLab'\n",
            "ic| df_height: 0\n",
            "ic| df_tmp: shape: (0, 5)\n",
            "            ┌───────────┬────────┬──────┬───────┬─"
          ]
        },
        {
          "output_type": "stream",
          "name": "stdout",
          "text": [
            "\n",
            "\n",
            "\n"
          ]
        },
        {
          "output_type": "stream",
          "name": "stderr",
          "text": [
            "───────────┐\n",
            "            │ past_next ┆ counts ┆ tool ┆ group ┆ row_filter │\n",
            "            │ ---       ┆ ---    ┆ ---  ┆ ---   ┆ ---        │\n",
            "            │ str       ┆ f64    ┆ str  ┆ str   ┆ str        │\n",
            "            ╞═══════════╪════════╪══════╪═══════╪════════════╡\n",
            "            └───────────┴────────┴──────┴───────┴────────────┘\n",
            "ic| group_object.value: 'Data Science & Analytics'\n",
            "ic| row_filter_object.value: '8 to 10 years'\n",
            "ic| tool_object.value: '"
          ]
        },
        {
          "output_type": "stream",
          "name": "stdout",
          "text": [
            "\n"
          ]
        },
        {
          "output_type": "stream",
          "name": "stderr",
          "text": [
            "GitHub'\n",
            "ic| df_height: 0\n",
            "ic| df_tmp: shape: (0, 5)\n",
            "            ┌───────────┬────────┬──────┬───────┬────────────┐\n",
            "            │ past_next ┆ counts ┆ tool ┆ group ┆ row_filter │\n",
            "            │ ---       ┆ ---    ┆ ---  ┆ ---   ┆ ---        │\n",
            "            │ str       ┆ f64    ┆ str  ┆ str   ┆ str        │\n",
            "            ╞═══════════╪════════╪══════╪═══════╪════════════╡\n",
            "            └───────────┴────────┴──────┴──────"
          ]
        },
        {
          "output_type": "stream",
          "name": "stdout",
          "text": [
            "\n",
            "\n"
          ]
        },
        {
          "output_type": "stream",
          "name": "stderr",
          "text": [
            "─┴────────────┘\n",
            "ic| tool_object.value: 'GitLab'\n",
            "ic| df_height: 0\n",
            "ic| df_tmp: shape: (0, 5)\n",
            "            ┌───────────┬────────┬──────┬───────┬────────────┐\n",
            "            │ past_next ┆ counts ┆ tool ┆ group ┆ row_filter │\n",
            "            │ ---       ┆ ---    ┆ ---  ┆ ---   ┆ ---        │\n",
            "            │ str       ┆ f64    ┆ str  ┆ str   ┆ str        │\n",
            "            ╞═══════════╪════════╪══════╪═══════╪════════════╡\n",
            "            └───────────┴────────┴──────┴───────┴─────────"
          ]
        },
        {
          "output_type": "stream",
          "name": "stdout",
          "text": [
            "\n",
            "\n",
            "\n"
          ]
        },
        {
          "output_type": "stream",
          "name": "stderr",
          "text": [
            "───┘\n",
            "ic| group_object.value: 'Data Science & Analytics'\n",
            "ic| row_filter_object.value: '10+ years'\n",
            "ic| tool_object.value: 'GitHub'\n",
            "ic| df_height: 0\n",
            "ic| df_tmp: shape: (0, 5)\n",
            "            ┌───────────┬────────┬──────┬───────┬────────────┐\n",
            "            │ past_next ┆ counts ┆ tool ┆ group ┆ row_filter │\n",
            "            │ ---       ┆ ---    ┆ ---  ┆ ---   ┆ ---        │\n",
            "            │ str       ┆ f64    ┆ str  ┆ str   ┆ str        │\n",
            "            ╞═══════════╪"
          ]
        },
        {
          "output_type": "stream",
          "name": "stdout",
          "text": [
            "\n",
            "\n",
            "\n"
          ]
        },
        {
          "output_type": "stream",
          "name": "stderr",
          "text": [
            "════════╪══════╪═══════╪════════════╡\n",
            "            └───────────┴────────┴──────┴───────┴────────────┘\n",
            "ic| tool_object.value: 'GitLab'\n",
            "ic| df_height: 0\n",
            "ic| df_tmp: shape: (0, 5)\n",
            "            ┌───────────┬────────┬──────┬───────┬────────────┐\n",
            "            │ past_next ┆ counts ┆ tool ┆ group ┆ row_filter │\n",
            "            │ ---       ┆ ---    ┆ ---  ┆ ---   ┆ ---        │\n",
            "            │ str       ┆ f64    ┆ str  ┆ str   ┆ str        │\n",
            "            ╞═══════════╪════════╪══════╪═══════╪═════════"
          ]
        },
        {
          "output_type": "stream",
          "name": "stdout",
          "text": [
            "\n",
            "\n",
            "\n"
          ]
        },
        {
          "output_type": "stream",
          "name": "stderr",
          "text": [
            "═══╡\n",
            "            └───────────┴────────┴──────┴───────┴────────────┘\n",
            "ic| group_object.value: 'AFC'\n",
            "ic| row_filter_object.value: '<2 years'\n",
            "ic| tool_object.value: 'GitHub'\n",
            "ic| df_height: 2\n",
            "ic| df_tmp: shape: (1, 5)\n",
            "            ┌───────────┬────────┬────────┬───────┬────────────┐\n",
            "            │ past_next ┆ counts ┆ tool   ┆ group ┆ row_filter │\n",
            "            │ ---       ┆ ---    ┆ ---    ┆ ---   ┆ ---        │\n",
            "            │ str       ┆ f64    ┆ str    ┆ str   ┆ str        │\n",
            "            ╞"
          ]
        },
        {
          "output_type": "stream",
          "name": "stdout",
          "text": [
            "\n",
            "\n",
            "\n"
          ]
        },
        {
          "output_type": "stream",
          "name": "stderr",
          "text": [
            "═══════════╪════════╪════════╪═══════╪════════════╡\n",
            "            │ Admired   ┆ 100.0  ┆ GitHub ┆ AFC   ┆ <2 years   │\n",
            "            └───────────┴────────┴────────┴───────┴────────────┘\n",
            "ic| tool_object.value: 'GitLab'\n",
            "ic| df_height: 3\n",
            "ic| df_tmp: shape: (1, 5)\n",
            "            ┌───────────┬────────┬────────┬───────┬────────────┐\n",
            "            │ past_next ┆ counts ┆ tool   ┆ group ┆ row_filter │\n",
            "            │ ---       ┆ ---    ┆ ---    ┆ ---   ┆ ---        │\n",
            "            │ str       ┆ f64    ┆ str    ┆ str   ┆ str        │\n",
            "            ╞═══════════╪════════╪════════╪═══════╪════════════╡\n",
            "            │ Desired   ┆ 100.0  ┆ GitLab ┆ AFC   ┆ <2 years   │\n",
            "            └───────────"
          ]
        },
        {
          "output_type": "stream",
          "name": "stdout",
          "text": [
            "\n",
            "\n",
            "\n"
          ]
        },
        {
          "output_type": "stream",
          "name": "stderr",
          "text": [
            "┴────────┴────────┴───────┴────────────┘\n",
            "ic| group_object.value: 'AFC'\n",
            "ic| row_filter_object.value: '2 to 4 years'\n",
            "ic| tool_object.value: 'GitHub'\n",
            "ic| df_height: 1\n",
            "ic| df_tmp: shape: (1, 5)\n",
            "            ┌───────────┬────────┬────────┬───────┬──────────────┐\n",
            "            │ past_next ┆ counts ┆ tool   ┆ group ┆ row_filter   │\n",
            "            │ ---       ┆ ---    ┆ ---    ┆ ---   ┆ ---"
          ]
        },
        {
          "output_type": "stream",
          "name": "stdout",
          "text": [
            "\n",
            "\n",
            "\n"
          ]
        },
        {
          "output_type": "stream",
          "name": "stderr",
          "text": [
            "          │\n",
            "            │ str       ┆ f64    ┆ str    ┆ str   ┆ str          │\n",
            "            ╞═══════════╪════════╪════════╪═══════╪══════════════╡\n",
            "            │ Admired   ┆ 100.0  ┆ GitHub ┆ AFC   ┆ 2 to 4 years │\n",
            "            └───────────┴────────┴────────┴───────┴──────────────┘\n",
            "ic| tool_object.value: 'GitLab'\n",
            "ic| df_height: 1\n",
            "ic| df_tmp: shape: (1, 5)\n",
            "            ┌───────────┬────────┬────────┬───────┬──────────────┐\n",
            "            │ past_next ┆ counts ┆ tool   ┆ group ┆ row_filter   │\n",
            "            │ ---       ┆ ---    ┆ ---    ┆ ---   ┆ ---          │\n",
            "            │ str       ┆ f64    ┆ str    ┆ str   ┆ str          │\n",
            "            ╞═══════════╪════════╪════════╪═══════╪══════════════╡\n",
            "            │ Desired   ┆ 100.0  ┆ GitLab ┆ AFC   ┆ "
          ]
        },
        {
          "output_type": "stream",
          "name": "stdout",
          "text": [
            "\n",
            "\n",
            "\n"
          ]
        },
        {
          "output_type": "stream",
          "name": "stderr",
          "text": [
            "2 to 4 years │\n",
            "            └───────────┴────────┴────────┴───────┴──────────────┘\n",
            "ic| group_object.value: 'AFC'\n",
            "ic| row_filter_object.value: '4 to 6 years'\n",
            "ic| tool_object.value: 'GitHub'\n",
            "ic| df_height: 0\n",
            "ic| df_tmp: shape: (0, 5)\n",
            "            ┌───────────┬────────┬──────┬───────┬────────────┐\n",
            "            │ past_next ┆ counts ┆ tool ┆ group ┆ row_filter │\n",
            "            │ ---       ┆ ---    ┆ ---  ┆ ---   ┆ ---        │\n",
            "            │ str       ┆ f64    ┆ str  ┆ str   ┆ str        │\n"
          ]
        },
        {
          "output_type": "stream",
          "name": "stdout",
          "text": [
            "\n",
            "\n",
            "\n"
          ]
        },
        {
          "output_type": "stream",
          "name": "stderr",
          "text": [
            "            ╞═══════════╪════════╪══════╪═══════╪════════════╡\n",
            "            └───────────┴────────┴──────┴───────┴────────────┘\n",
            "ic| tool_object.value: 'GitLab'\n",
            "ic| df_height: 0\n",
            "ic| df_tmp: shape: (0, 5)\n",
            "            ┌───────────┬────────┬──────┬───────┬────────────┐\n",
            "            │ past_next ┆ counts ┆ tool ┆ group ┆ row_filter │\n",
            "            │ ---       ┆ ---    ┆ ---  ┆ ---   ┆ ---        │\n",
            "            │ str       ┆ f64    ┆ str  ┆ str   ┆ str        │\n",
            "            ╞═══════════╪════════╪══════╪═══════╪════════════╡\n",
            "            └───────────┴────────┴──────┴──────"
          ]
        },
        {
          "output_type": "stream",
          "name": "stdout",
          "text": [
            "\n",
            "\n",
            "\n"
          ]
        },
        {
          "output_type": "stream",
          "name": "stderr",
          "text": [
            "─┴────────────┘\n",
            "ic| group_object.value: 'AFC'\n",
            "ic| row_filter_object.value: '8 to 10 years'\n",
            "ic| tool_object.value: 'GitHub'\n",
            "ic| df_height: 0\n",
            "ic| df_tmp: shape: (0, 5)\n",
            "            ┌───────────┬────────┬──────┬───────┬────────────┐\n",
            "            │ past_next ┆ counts ┆ tool ┆ group ┆ row_filter │\n",
            "            │ ---       ┆ ---    ┆ ---  ┆ ---   ┆ ---        │\n",
            "            │ str       ┆ f64    ┆ str  ┆ str   ┆ str        │\n"
          ]
        },
        {
          "output_type": "stream",
          "name": "stdout",
          "text": [
            "\n",
            "\n",
            "\n"
          ]
        },
        {
          "output_type": "stream",
          "name": "stderr",
          "text": [
            "            ╞═══════════╪════════╪══════╪═══════╪════════════╡\n",
            "            └───────────┴────────┴──────┴───────┴────────────┘\n",
            "ic| tool_object.value: 'GitLab'\n",
            "ic| df_height: 0\n",
            "ic| df_tmp: shape: (0, 5)\n",
            "            ┌───────────┬────────┬──────┬───────┬────────────┐\n",
            "            │ past_next ┆ counts ┆ tool ┆ group ┆ row_filter │\n",
            "            │ ---       ┆ ---    ┆ ---  ┆ ---   ┆ ---        │\n",
            "            │ str       ┆ f64    ┆ str  ┆ str   ┆ str        │\n",
            "            ╞═══════════╪════════╪══════╪═══════╪════════════╡\n",
            "            └───────────┴───────"
          ]
        },
        {
          "output_type": "stream",
          "name": "stdout",
          "text": [
            "\n",
            "\n",
            "\n"
          ]
        },
        {
          "output_type": "stream",
          "name": "stderr",
          "text": [
            "─┴──────┴───────┴────────────┘\n",
            "ic| group_object.value: 'AFC'\n",
            "ic| row_filter_object.value: '10+ years'\n",
            "ic| tool_object.value: 'GitHub'\n",
            "ic| df_height: 0\n",
            "ic| df_tmp: shape: (0, 5)\n",
            "            ┌───────────┬────────┬──────┬───────┬────────────┐\n",
            "            │ past_next ┆ counts ┆ tool ┆ group ┆ row_filter │\n",
            "            │ ---       ┆ ---    ┆ ---  ┆ ---   ┆ ---        │\n",
            "            │ str       ┆ f64    ┆ str  ┆ str   ┆ str        │\n",
            "            ╞═══════════╪════════╪"
          ]
        },
        {
          "output_type": "stream",
          "name": "stdout",
          "text": [
            "\n",
            "\n",
            "\n"
          ]
        },
        {
          "output_type": "stream",
          "name": "stderr",
          "text": [
            "══════╪═══════╪════════════╡\n",
            "            └───────────┴────────┴──────┴───────┴────────────┘\n",
            "ic| tool_object.value: 'GitLab'\n",
            "ic| df_height: 0\n",
            "ic| df_tmp: shape: (0, 5)\n",
            "            ┌───────────┬────────┬──────┬───────┬────────────┐\n",
            "            │ past_next ┆ counts ┆ tool ┆ group ┆ row_filter │\n",
            "            │ ---       ┆ ---    ┆ ---  ┆ ---   ┆ ---        │\n",
            "            │ str       ┆ f64    ┆ str  ┆ str   ┆ str        │\n",
            "            ╞═══════════╪════════╪══════╪═══════╪════════════╡\n",
            "            └───────────┴────────┴──────┴───────┴───────"
          ]
        },
        {
          "output_type": "stream",
          "name": "stdout",
          "text": [
            "\n",
            "\n",
            "\n"
          ]
        },
        {
          "output_type": "stream",
          "name": "stderr",
          "text": [
            "─────┘\n",
            "ic| group_object.value: 'SolCon'\n",
            "ic| row_filter_object.value: '<2 years'\n",
            "ic| tool_object.value: 'GitHub'\n",
            "ic| df_height: 0\n",
            "ic| df_tmp: shape: (0, 5)\n",
            "            ┌─────────"
          ]
        },
        {
          "output_type": "stream",
          "name": "stdout",
          "text": [
            "\n",
            "\n",
            "\n"
          ]
        },
        {
          "output_type": "stream",
          "name": "stderr",
          "text": [
            "──┬────────┬──────┬───────┬────────────┐\n",
            "            │ past_next ┆ counts ┆ tool ┆ group ┆ row_filter │\n",
            "            │ ---       ┆ ---    ┆ ---  ┆ ---   ┆ ---        │\n",
            "            │ str       ┆ f64    ┆ str  ┆ str   ┆ str        │\n",
            "            ╞═══════════╪════════╪══════╪═══════╪════════════╡\n",
            "            └───────────┴────────┴──────┴───────┴────────────┘\n",
            "ic| tool_object.value: 'GitLab'\n",
            "ic| df_height: 0\n",
            "ic| df_tmp: shape: (0, 5)\n",
            "            ┌───────────┬────────┬──────┬───────┬────────────┐\n",
            "            │ past_next ┆ counts ┆ tool ┆ group ┆ row_filter │\n",
            "            │ ---       ┆ ---    ┆ ---  ┆ ---   ┆ ---        │\n",
            "            │ str       ┆ f64    ┆ str  ┆ str   ┆ str        │\n",
            "            ╞═══════════╪════════╪══════╪═══════╪════════════╡\n",
            "            └───────────┴────────"
          ]
        },
        {
          "output_type": "stream",
          "name": "stdout",
          "text": [
            "\n",
            "\n",
            "\n"
          ]
        },
        {
          "output_type": "stream",
          "name": "stderr",
          "text": [
            "┴──────┴───────┴────────────┘\n",
            "ic| group_object.value: 'SolCon'\n",
            "ic| row_filter_object.value: '2 to 4 years'\n",
            "ic| tool_object.value: 'GitHub'\n",
            "ic| df_height: 0\n",
            "ic| df_tmp: shape: (0, 5)\n",
            "            ┌───────────┬────────┬──────┬───────┬────────────┐\n",
            "            │ past_next ┆ counts ┆ tool ┆ group ┆ row_filter │\n",
            "            │ ---       ┆ ---    ┆ ---  ┆ ---   ┆ ---        │\n",
            "            │ str       ┆ f64    ┆ str  ┆ str   ┆ str        │\n",
            "            ╞═══════════╪════"
          ]
        },
        {
          "output_type": "stream",
          "name": "stdout",
          "text": [
            "\n",
            "\n",
            "\n"
          ]
        },
        {
          "output_type": "stream",
          "name": "stderr",
          "text": [
            "════╪══════╪═══════╪════════════╡\n",
            "            └───────────┴────────┴──────┴───────┴────────────┘\n",
            "ic| tool_object.value: 'GitLab'\n",
            "ic| df_height: 0\n",
            "ic| df_tmp: shape: (0, 5)\n",
            "            ┌───────────┬────────┬──────┬───────┬────────────┐\n",
            "            │ past_next ┆ counts ┆ tool ┆ group ┆ row_filter │\n",
            "            │ ---       ┆ ---    ┆ ---  ┆ ---   ┆ ---        │\n",
            "            │ str       ┆ f64    ┆ str  ┆ str   ┆ str        │\n",
            "            ╞═══════════╪════════╪══════╪═══════╪════════════╡\n",
            "            └───────────┴──────"
          ]
        },
        {
          "output_type": "stream",
          "name": "stdout",
          "text": [
            "\n",
            "\n",
            "\n"
          ]
        },
        {
          "output_type": "stream",
          "name": "stderr",
          "text": [
            "──┴──────┴───────┴────────────┘\n",
            "ic| group_object.value: 'SolCon'\n",
            "ic| row_filter_object.value: '4 to 6 years'\n",
            "ic| tool_object.value: 'GitHub'\n",
            "ic| df_height: 0\n",
            "ic| df_tmp: shape: (0, 5)\n",
            "            ┌───────────┬────────┬──────┬───────┬────────────┐\n",
            "            │ past_next ┆ counts ┆ tool ┆ group ┆ row_filter │\n",
            "            │ ---       ┆ ---    ┆ ---  ┆ ---   ┆ ---        "
          ]
        },
        {
          "output_type": "stream",
          "name": "stdout",
          "text": [
            "\n",
            "\n",
            "\n"
          ]
        },
        {
          "output_type": "stream",
          "name": "stderr",
          "text": [
            "│\n",
            "            │ str       ┆ f64    ┆ str  ┆ str   ┆ str        │\n",
            "            ╞═══════════╪════════╪══════╪═══════╪════════════╡\n",
            "            └───────────┴────────┴──────┴───────┴────────────┘\n",
            "ic| tool_object.value: 'GitLab'\n",
            "ic| df_height: 0\n",
            "ic| df_tmp: shape: (0, 5)\n",
            "            ┌───────────┬────────┬──────┬───────┬────────────┐\n",
            "            │ past_next ┆ counts ┆ tool ┆ group ┆ row_filter │\n",
            "            │ ---       ┆ ---    ┆ ---  ┆ ---   ┆ ---        │\n",
            "            │ str       ┆ f64    ┆ str  ┆ str   ┆ str        │\n",
            "            ╞═══════════╪════════╪══════╪═══════╪════════════╡\n",
            "            └───────────┴────────┴──────┴──"
          ]
        },
        {
          "output_type": "stream",
          "name": "stdout",
          "text": [
            "\n",
            "\n",
            "\n"
          ]
        },
        {
          "output_type": "stream",
          "name": "stderr",
          "text": [
            "─────┴────────────┘\n",
            "ic| group_object.value: 'SolCon'\n",
            "ic| row_filter_object.value: '8 to 10 years'\n",
            "ic| tool_object.value: 'GitHub'\n",
            "ic| df_height: 0\n",
            "ic| df_tmp: shape: (0, 5)\n",
            "            ┌───────────┬────────┬──────┬───────┬────────────┐\n",
            "            │ past_next ┆ counts ┆ tool ┆ group ┆ row_filter │\n",
            "            │ ---       ┆ ---    ┆ ---  ┆ ---   ┆ ---        │\n",
            "            │ str       ┆ f64    ┆ str  ┆ str   ┆ str        │\n",
            "            ╞═══════════╪════════"
          ]
        },
        {
          "output_type": "stream",
          "name": "stdout",
          "text": [
            "\n",
            "\n",
            "\n"
          ]
        },
        {
          "output_type": "stream",
          "name": "stderr",
          "text": [
            "╪══════╪═══════╪════════════╡\n",
            "            └───────────┴────────┴──────┴───────┴────────────┘\n",
            "ic| tool_object.value: 'GitLab'\n",
            "ic| df_height: 0\n",
            "ic| df_tmp: shape: (0, 5)\n",
            "            ┌───────────┬────────┬──────┬───────┬────────────┐\n",
            "            │ past_next ┆ counts ┆ tool ┆ group ┆ row_filter │\n",
            "            │ ---       ┆ ---    ┆ ---  ┆ ---   ┆ ---        │\n",
            "            │ str       ┆ f64    ┆ str  ┆ str   ┆ str        │\n",
            "            ╞═══════════╪════════╪══════╪═══════╪════════════╡\n",
            "            └───────────┴────────┴──────┴───────┴──"
          ]
        },
        {
          "output_type": "stream",
          "name": "stdout",
          "text": [
            "\n",
            "\n",
            "\n"
          ]
        },
        {
          "output_type": "stream",
          "name": "stderr",
          "text": [
            "──────────┘\n",
            "ic| group_object.value: 'SolCon'\n",
            "ic| row_filter_object.value: '10+ years'\n",
            "ic| tool_object.value: 'GitHub'\n",
            "ic| df_height: 0\n",
            "ic| df_tmp: shape: (0, 5)\n",
            "            ┌───────────┬────────┬──────┬───────┬────────────┐\n",
            "            │ past_next ┆ counts ┆ tool ┆ group ┆ row_filter │\n",
            "            │ ---       ┆ ---    ┆ ---  ┆ ---   ┆ ---        │\n",
            "            │ str       "
          ]
        },
        {
          "output_type": "stream",
          "name": "stdout",
          "text": [
            "\n",
            "\n",
            "\n"
          ]
        },
        {
          "output_type": "stream",
          "name": "stderr",
          "text": [
            "┆ f64    ┆ str  ┆ str   ┆ str        │\n",
            "            ╞═══════════╪════════╪══════╪═══════╪════════════╡\n",
            "            └───────────┴────────┴──────┴───────┴────────────┘\n",
            "ic| tool_object.value: 'GitLab'\n",
            "ic| df_height: 0\n",
            "ic| df_tmp: shape: (0, 5)\n",
            "            ┌───────────┬────────┬──────┬───────┬────────────┐\n",
            "            │ past_next ┆ counts ┆ tool ┆ group ┆ row_filter │\n",
            "            │ ---       ┆ ---    ┆ ---  ┆ ---   ┆ ---        │\n",
            "            │ str       ┆ f64    ┆ str  ┆ str   ┆ str        │\n",
            "            ╞═══════════╪════════╪══════╪═══════╪════════════"
          ]
        },
        {
          "output_type": "stream",
          "name": "stdout",
          "text": [
            "\n",
            "\n",
            "\n"
          ]
        },
        {
          "output_type": "stream",
          "name": "stderr",
          "text": [
            "╡\n",
            "            └───────────┴────────┴──────┴───────┴────────────┘\n"
          ]
        },
        {
          "output_type": "stream",
          "name": "stdout",
          "text": [
            "\n",
            "print(df_out)\n",
            "shape: (39, 5)\n",
            "┌───────────┬────────┬────────┬─────────────────┬─────────────────┐\n",
            "│ past_next ┆ counts ┆ tool   ┆ group           ┆ row_filter      │\n",
            "│ ---       ┆ ---    ┆ ---    ┆ ---             ┆ ---             │\n",
            "│ str       ┆ f64    ┆ str    ┆ str             ┆ str             │\n",
            "╞═══════════╪════════╪════════╪═════════════════╪═════════════════╡\n",
            "│ Admired   ┆ 43.48  ┆ GitHub ┆ All respondents ┆ All respondents │\n",
            "│ Desired   ┆ 56.52  ┆ GitHub ┆ All respondents ┆ All respondents │\n",
            "│ Desired   ┆ 54.35  ┆ GitLab ┆ All respondents ┆ All respondents │\n",
            "│ Admired   ┆ 45.65  ┆ GitLab ┆ All respondents ┆ All respondents │\n",
            "│ …         ┆ …      ┆ …      ┆ …               ┆ …               │\n",
            "│ Admired   ┆ 100.0  ┆ GitHub ┆ AFC             ┆ <2 years        │\n",
            "│ Desired   ┆ 100.0  ┆ GitLab ┆ AFC             ┆ <2 years        │\n",
            "│ Admired   ┆ 100.0  ┆ GitHub ┆ AFC             ┆ 2 to 4 years    │\n",
            "│ Desired   ┆ 100.0  ┆ GitLab ┆ AFC             ┆ 2 to 4 years    │\n",
            "└───────────┴────────┴────────┴─────────────────┴─────────────────┘\n",
            "\n"
          ]
        }
      ]
    },
    {
      "cell_type": "markdown",
      "source": [
        "EOF"
      ],
      "metadata": {
        "id": "Fd_Q4ptohFma"
      }
    }
  ],
  "metadata": {
    "colab": {
      "provenance": []
    },
    "kernelspec": {
      "display_name": "Python 3",
      "name": "python3"
    },
    "language_info": {
      "name": "python"
    }
  },
  "nbformat": 4,
  "nbformat_minor": 0
}